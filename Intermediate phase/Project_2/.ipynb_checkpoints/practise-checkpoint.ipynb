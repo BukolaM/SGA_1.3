{
 "cells": [
  {
   "cell_type": "code",
   "execution_count": 327,
   "id": "e35beb3e",
   "metadata": {},
   "outputs": [],
   "source": [
    "import pandas as pd\n",
    "import re\n",
    "\n",
    "import matplotlib.pyplot as plt\n",
    "\n",
    "\n",
    "# pd.set_option('display.max_columns', None)  "
   ]
  },
  {
   "cell_type": "code",
   "execution_count": 328,
   "id": "0788680b",
   "metadata": {
    "scrolled": true
   },
   "outputs": [
    {
     "data": {
      "text/html": [
       "<div>\n",
       "<style scoped>\n",
       "    .dataframe tbody tr th:only-of-type {\n",
       "        vertical-align: middle;\n",
       "    }\n",
       "\n",
       "    .dataframe tbody tr th {\n",
       "        vertical-align: top;\n",
       "    }\n",
       "\n",
       "    .dataframe thead th {\n",
       "        text-align: right;\n",
       "    }\n",
       "</style>\n",
       "<table border=\"1\" class=\"dataframe\">\n",
       "  <thead>\n",
       "    <tr style=\"text-align: right;\">\n",
       "      <th></th>\n",
       "      <th>MOVIES</th>\n",
       "      <th>YEAR</th>\n",
       "      <th>GENRE</th>\n",
       "      <th>RATING</th>\n",
       "      <th>ONE-LINE</th>\n",
       "      <th>STARS</th>\n",
       "      <th>VOTES</th>\n",
       "      <th>RunTime</th>\n",
       "      <th>Gross</th>\n",
       "    </tr>\n",
       "  </thead>\n",
       "  <tbody>\n",
       "    <tr>\n",
       "      <th>0</th>\n",
       "      <td>Blood Red Sky</td>\n",
       "      <td>(2021)</td>\n",
       "      <td>\\nAction, Horror, Thriller</td>\n",
       "      <td>6.1</td>\n",
       "      <td>\\nA woman with a mysterious illness is forced ...</td>\n",
       "      <td>\\n    Director:\\nPeter Thorwarth\\n| \\n    Star...</td>\n",
       "      <td>21,062</td>\n",
       "      <td>121.0</td>\n",
       "      <td>NaN</td>\n",
       "    </tr>\n",
       "    <tr>\n",
       "      <th>1</th>\n",
       "      <td>Masters of the Universe: Revelation</td>\n",
       "      <td>(2021– )</td>\n",
       "      <td>\\nAnimation, Action, Adventure</td>\n",
       "      <td>5.0</td>\n",
       "      <td>\\nThe war for Eternia begins again in what may...</td>\n",
       "      <td>\\n            \\n    Stars:\\nChris Wood, \\nSara...</td>\n",
       "      <td>17,870</td>\n",
       "      <td>25.0</td>\n",
       "      <td>NaN</td>\n",
       "    </tr>\n",
       "    <tr>\n",
       "      <th>2</th>\n",
       "      <td>The Walking Dead</td>\n",
       "      <td>(2010–2022)</td>\n",
       "      <td>\\nDrama, Horror, Thriller</td>\n",
       "      <td>8.2</td>\n",
       "      <td>\\nSheriff Deputy Rick Grimes wakes up from a c...</td>\n",
       "      <td>\\n            \\n    Stars:\\nAndrew Lincoln, \\n...</td>\n",
       "      <td>885,805</td>\n",
       "      <td>44.0</td>\n",
       "      <td>NaN</td>\n",
       "    </tr>\n",
       "    <tr>\n",
       "      <th>3</th>\n",
       "      <td>Rick and Morty</td>\n",
       "      <td>(2013– )</td>\n",
       "      <td>\\nAnimation, Adventure, Comedy</td>\n",
       "      <td>9.2</td>\n",
       "      <td>\\nAn animated series that follows the exploits...</td>\n",
       "      <td>\\n            \\n    Stars:\\nJustin Roiland, \\n...</td>\n",
       "      <td>414,849</td>\n",
       "      <td>23.0</td>\n",
       "      <td>NaN</td>\n",
       "    </tr>\n",
       "    <tr>\n",
       "      <th>4</th>\n",
       "      <td>Army of Thieves</td>\n",
       "      <td>(2021)</td>\n",
       "      <td>\\nAction, Crime, Horror</td>\n",
       "      <td>NaN</td>\n",
       "      <td>\\nA prequel, set before the events of Army of ...</td>\n",
       "      <td>\\n    Director:\\nMatthias Schweighöfer\\n| \\n  ...</td>\n",
       "      <td>NaN</td>\n",
       "      <td>NaN</td>\n",
       "      <td>NaN</td>\n",
       "    </tr>\n",
       "  </tbody>\n",
       "</table>\n",
       "</div>"
      ],
      "text/plain": [
       "                                MOVIES         YEAR  \\\n",
       "0                        Blood Red Sky       (2021)   \n",
       "1  Masters of the Universe: Revelation     (2021– )   \n",
       "2                     The Walking Dead  (2010–2022)   \n",
       "3                       Rick and Morty     (2013– )   \n",
       "4                      Army of Thieves       (2021)   \n",
       "\n",
       "                                        GENRE  RATING  \\\n",
       "0      \\nAction, Horror, Thriller                 6.1   \n",
       "1  \\nAnimation, Action, Adventure                 5.0   \n",
       "2       \\nDrama, Horror, Thriller                 8.2   \n",
       "3  \\nAnimation, Adventure, Comedy                 9.2   \n",
       "4         \\nAction, Crime, Horror                 NaN   \n",
       "\n",
       "                                            ONE-LINE  \\\n",
       "0  \\nA woman with a mysterious illness is forced ...   \n",
       "1  \\nThe war for Eternia begins again in what may...   \n",
       "2  \\nSheriff Deputy Rick Grimes wakes up from a c...   \n",
       "3  \\nAn animated series that follows the exploits...   \n",
       "4  \\nA prequel, set before the events of Army of ...   \n",
       "\n",
       "                                               STARS    VOTES  RunTime Gross  \n",
       "0  \\n    Director:\\nPeter Thorwarth\\n| \\n    Star...   21,062    121.0   NaN  \n",
       "1  \\n            \\n    Stars:\\nChris Wood, \\nSara...   17,870     25.0   NaN  \n",
       "2  \\n            \\n    Stars:\\nAndrew Lincoln, \\n...  885,805     44.0   NaN  \n",
       "3  \\n            \\n    Stars:\\nJustin Roiland, \\n...  414,849     23.0   NaN  \n",
       "4  \\n    Director:\\nMatthias Schweighöfer\\n| \\n  ...      NaN      NaN   NaN  "
      ]
     },
     "execution_count": 328,
     "metadata": {},
     "output_type": "execute_result"
    }
   ],
   "source": [
    "df = pd.read_csv('movies_data.csv')\n",
    "df.head()"
   ]
  },
  {
   "cell_type": "code",
   "execution_count": 329,
   "id": "9025ffec",
   "metadata": {
    "scrolled": true
   },
   "outputs": [
    {
     "name": "stdout",
     "output_type": "stream",
     "text": [
      "<class 'pandas.core.frame.DataFrame'>\n",
      "RangeIndex: 9999 entries, 0 to 9998\n",
      "Data columns (total 9 columns):\n",
      " #   Column    Non-Null Count  Dtype  \n",
      "---  ------    --------------  -----  \n",
      " 0   MOVIES    9999 non-null   object \n",
      " 1   YEAR      9355 non-null   object \n",
      " 2   GENRE     9919 non-null   object \n",
      " 3   RATING    8179 non-null   float64\n",
      " 4   ONE-LINE  9999 non-null   object \n",
      " 5   STARS     9999 non-null   object \n",
      " 6   VOTES     8179 non-null   object \n",
      " 7   RunTime   7041 non-null   float64\n",
      " 8   Gross     460 non-null    object \n",
      "dtypes: float64(2), object(7)\n",
      "memory usage: 703.2+ KB\n"
     ]
    }
   ],
   "source": [
    "df.info()"
   ]
  },
  {
   "cell_type": "code",
   "execution_count": 330,
   "id": "066801fc",
   "metadata": {
    "scrolled": true
   },
   "outputs": [],
   "source": [
    "# df.describe()"
   ]
  },
  {
   "cell_type": "code",
   "execution_count": 331,
   "id": "8726f179",
   "metadata": {},
   "outputs": [],
   "source": [
    "# df.nunique()"
   ]
  },
  {
   "cell_type": "code",
   "execution_count": 332,
   "id": "d0401a8d",
   "metadata": {
    "scrolled": true
   },
   "outputs": [],
   "source": [
    "# df.isna().sum()"
   ]
  },
  {
   "cell_type": "code",
   "execution_count": 333,
   "id": "8fe4c830",
   "metadata": {},
   "outputs": [],
   "source": [
    "# df.shape"
   ]
  },
  {
   "cell_type": "code",
   "execution_count": 334,
   "id": "9e0b4d47",
   "metadata": {},
   "outputs": [],
   "source": [
    "# df.columns"
   ]
  },
  {
   "cell_type": "code",
   "execution_count": 335,
   "id": "d087ace3",
   "metadata": {
    "scrolled": false
   },
   "outputs": [
    {
     "data": {
      "text/plain": [
       "Index(['movies', 'year', 'genre', 'rating', 'one-line', 'stars', 'votes',\n",
       "       'runtime', 'gross'],\n",
       "      dtype='object')"
      ]
     },
     "execution_count": 335,
     "metadata": {},
     "output_type": "execute_result"
    }
   ],
   "source": [
    "# Converting all the header name into lower case\n",
    "df.columns = [x.lower() for x in df.columns]\n",
    "df.columns\n"
   ]
  },
  {
   "cell_type": "code",
   "execution_count": null,
   "id": "e6a17a71",
   "metadata": {
    "scrolled": true
   },
   "outputs": [],
   "source": []
  },
  {
   "cell_type": "markdown",
   "id": "9d2aeeb1",
   "metadata": {},
   "source": [
    "## Data Cleaning"
   ]
  },
  {
   "cell_type": "code",
   "execution_count": 336,
   "id": "869494b3",
   "metadata": {},
   "outputs": [
    {
     "data": {
      "text/html": [
       "<div>\n",
       "<style scoped>\n",
       "    .dataframe tbody tr th:only-of-type {\n",
       "        vertical-align: middle;\n",
       "    }\n",
       "\n",
       "    .dataframe tbody tr th {\n",
       "        vertical-align: top;\n",
       "    }\n",
       "\n",
       "    .dataframe thead th {\n",
       "        text-align: right;\n",
       "    }\n",
       "</style>\n",
       "<table border=\"1\" class=\"dataframe\">\n",
       "  <thead>\n",
       "    <tr style=\"text-align: right;\">\n",
       "      <th></th>\n",
       "      <th>movies</th>\n",
       "      <th>year</th>\n",
       "      <th>genre</th>\n",
       "      <th>rating</th>\n",
       "      <th>one-line</th>\n",
       "      <th>stars</th>\n",
       "      <th>votes</th>\n",
       "      <th>runtime</th>\n",
       "      <th>gross</th>\n",
       "    </tr>\n",
       "  </thead>\n",
       "  <tbody>\n",
       "    <tr>\n",
       "      <th>0</th>\n",
       "      <td>Blood Red Sky</td>\n",
       "      <td>(2021)</td>\n",
       "      <td>\\nAction, Horror, Thriller</td>\n",
       "      <td>6.1</td>\n",
       "      <td>\\nA woman with a mysterious illness is forced ...</td>\n",
       "      <td>\\n    Director:\\nPeter Thorwarth\\n| \\n    Star...</td>\n",
       "      <td>21,062</td>\n",
       "      <td>121.0</td>\n",
       "      <td>NaN</td>\n",
       "    </tr>\n",
       "    <tr>\n",
       "      <th>1</th>\n",
       "      <td>Masters of the Universe: Revelation</td>\n",
       "      <td>(2021– )</td>\n",
       "      <td>\\nAnimation, Action, Adventure</td>\n",
       "      <td>5.0</td>\n",
       "      <td>\\nThe war for Eternia begins again in what may...</td>\n",
       "      <td>\\n            \\n    Stars:\\nChris Wood, \\nSara...</td>\n",
       "      <td>17,870</td>\n",
       "      <td>25.0</td>\n",
       "      <td>NaN</td>\n",
       "    </tr>\n",
       "    <tr>\n",
       "      <th>2</th>\n",
       "      <td>The Walking Dead</td>\n",
       "      <td>(2010–2022)</td>\n",
       "      <td>\\nDrama, Horror, Thriller</td>\n",
       "      <td>8.2</td>\n",
       "      <td>\\nSheriff Deputy Rick Grimes wakes up from a c...</td>\n",
       "      <td>\\n            \\n    Stars:\\nAndrew Lincoln, \\n...</td>\n",
       "      <td>885,805</td>\n",
       "      <td>44.0</td>\n",
       "      <td>NaN</td>\n",
       "    </tr>\n",
       "    <tr>\n",
       "      <th>3</th>\n",
       "      <td>Rick and Morty</td>\n",
       "      <td>(2013– )</td>\n",
       "      <td>\\nAnimation, Adventure, Comedy</td>\n",
       "      <td>9.2</td>\n",
       "      <td>\\nAn animated series that follows the exploits...</td>\n",
       "      <td>\\n            \\n    Stars:\\nJustin Roiland, \\n...</td>\n",
       "      <td>414,849</td>\n",
       "      <td>23.0</td>\n",
       "      <td>NaN</td>\n",
       "    </tr>\n",
       "    <tr>\n",
       "      <th>4</th>\n",
       "      <td>Army of Thieves</td>\n",
       "      <td>(2021)</td>\n",
       "      <td>\\nAction, Crime, Horror</td>\n",
       "      <td>NaN</td>\n",
       "      <td>\\nA prequel, set before the events of Army of ...</td>\n",
       "      <td>\\n    Director:\\nMatthias Schweighöfer\\n| \\n  ...</td>\n",
       "      <td>NaN</td>\n",
       "      <td>NaN</td>\n",
       "      <td>NaN</td>\n",
       "    </tr>\n",
       "  </tbody>\n",
       "</table>\n",
       "</div>"
      ],
      "text/plain": [
       "                                movies         year  \\\n",
       "0                        Blood Red Sky       (2021)   \n",
       "1  Masters of the Universe: Revelation     (2021– )   \n",
       "2                     The Walking Dead  (2010–2022)   \n",
       "3                       Rick and Morty     (2013– )   \n",
       "4                      Army of Thieves       (2021)   \n",
       "\n",
       "                                        genre  rating  \\\n",
       "0      \\nAction, Horror, Thriller                 6.1   \n",
       "1  \\nAnimation, Action, Adventure                 5.0   \n",
       "2       \\nDrama, Horror, Thriller                 8.2   \n",
       "3  \\nAnimation, Adventure, Comedy                 9.2   \n",
       "4         \\nAction, Crime, Horror                 NaN   \n",
       "\n",
       "                                            one-line  \\\n",
       "0  \\nA woman with a mysterious illness is forced ...   \n",
       "1  \\nThe war for Eternia begins again in what may...   \n",
       "2  \\nSheriff Deputy Rick Grimes wakes up from a c...   \n",
       "3  \\nAn animated series that follows the exploits...   \n",
       "4  \\nA prequel, set before the events of Army of ...   \n",
       "\n",
       "                                               stars    votes  runtime gross  \n",
       "0  \\n    Director:\\nPeter Thorwarth\\n| \\n    Star...   21,062    121.0   NaN  \n",
       "1  \\n            \\n    Stars:\\nChris Wood, \\nSara...   17,870     25.0   NaN  \n",
       "2  \\n            \\n    Stars:\\nAndrew Lincoln, \\n...  885,805     44.0   NaN  \n",
       "3  \\n            \\n    Stars:\\nJustin Roiland, \\n...  414,849     23.0   NaN  \n",
       "4  \\n    Director:\\nMatthias Schweighöfer\\n| \\n  ...      NaN      NaN   NaN  "
      ]
     },
     "execution_count": 336,
     "metadata": {},
     "output_type": "execute_result"
    }
   ],
   "source": [
    "df.head()"
   ]
  },
  {
   "cell_type": "markdown",
   "id": "c529a0c0",
   "metadata": {},
   "source": [
    "## Year"
   ]
  },
  {
   "cell_type": "code",
   "execution_count": 337,
   "id": "e688cf13",
   "metadata": {},
   "outputs": [],
   "source": [
    "df['genre'] = df['genre'].astype(str)\n",
    "\n",
    "df['movies_g'] = df['genre'].apply(lambda x: \"\".join(x.strip().replace(\" \",\"\").split('\\n')))"
   ]
  },
  {
   "cell_type": "code",
   "execution_count": 338,
   "id": "3ccb5d7a",
   "metadata": {},
   "outputs": [
    {
     "data": {
      "text/plain": [
       "0           Action,Horror,Thriller\n",
       "1       Animation,Action,Adventure\n",
       "2            Drama,Horror,Thriller\n",
       "3       Animation,Adventure,Comedy\n",
       "4              Action,Crime,Horror\n",
       "                   ...            \n",
       "9994       Adventure,Drama,Fantasy\n",
       "9995    Animation,Action,Adventure\n",
       "9996             Documentary,Sport\n",
       "9997       Adventure,Drama,Fantasy\n",
       "9998       Adventure,Drama,Fantasy\n",
       "Name: movies_g, Length: 9999, dtype: object"
      ]
     },
     "execution_count": 338,
     "metadata": {},
     "output_type": "execute_result"
    }
   ],
   "source": [
    "df['movies_g']"
   ]
  },
  {
   "cell_type": "markdown",
   "id": "f7d0d50c",
   "metadata": {},
   "source": [
    "## one line"
   ]
  },
  {
   "cell_type": "code",
   "execution_count": 339,
   "id": "baab796f",
   "metadata": {},
   "outputs": [],
   "source": [
    "df['one-line'] = df['one-line'].astype(str)"
   ]
  },
  {
   "cell_type": "code",
   "execution_count": 340,
   "id": "0ec4bed1",
   "metadata": {},
   "outputs": [],
   "source": [
    "df['oneline'] = df['one-line'].apply(lambda x: x.strip())"
   ]
  },
  {
   "cell_type": "markdown",
   "id": "8785ba27",
   "metadata": {},
   "source": [
    "## director"
   ]
  },
  {
   "cell_type": "code",
   "execution_count": 341,
   "id": "132958d6",
   "metadata": {},
   "outputs": [],
   "source": [
    "df['stars'] = df['stars'].astype(str)"
   ]
  },
  {
   "cell_type": "code",
   "execution_count": 342,
   "id": "1e6e0022",
   "metadata": {},
   "outputs": [
    {
     "data": {
      "text/plain": [
       "array(['\\n    Director:\\nPeter Thorwarth\\n| \\n    Stars:\\nPeri Baumeister, \\nCarl Anton Koch, \\nAlexander Scheer, \\nKais Setti\\n',\n",
       "       '\\n            \\n    Stars:\\nChris Wood, \\nSarah Michelle Gellar, \\nLena Headey, \\nMark Hamill\\n',\n",
       "       '\\n            \\n    Stars:\\nAndrew Lincoln, \\nNorman Reedus, \\nMelissa McBride, \\nLauren Cohan\\n',\n",
       "       '\\n            \\n    Stars:\\nJustin Roiland, \\nChris Parnell, \\nSpencer Grammer, \\nSarah Chalke\\n',\n",
       "       '\\n    Director:\\nMatthias Schweighöfer\\n| \\n    Stars:\\nMatthias Schweighöfer, \\nNathalie Emmanuel, \\nRuby O. Fee, \\nStuart Martin\\n',\n",
       "       '\\n            \\n    Stars:\\nChase Stokes, \\nMadelyn Cline, \\nMadison Bailey, \\nJonathan Daviss\\n'],\n",
       "      dtype=object)"
      ]
     },
     "execution_count": 342,
     "metadata": {},
     "output_type": "execute_result"
    }
   ],
   "source": [
    "####key information\n",
    "\n",
    "df.head(6)['stars'].values\n"
   ]
  },
  {
   "cell_type": "code",
   "execution_count": 343,
   "id": "7523d283",
   "metadata": {},
   "outputs": [],
   "source": [
    "df['all_stars_director'] =  df['stars'].apply(lambda x: x.split('|')[0].strip())"
   ]
  },
  {
   "cell_type": "code",
   "execution_count": 344,
   "id": "ac96a594",
   "metadata": {},
   "outputs": [
    {
     "data": {
      "text/plain": [
       "0                              Director:\\nPeter Thorwarth\n",
       "1       Stars:\\nChris Wood, \\nSarah Michelle Gellar, \\...\n",
       "2       Stars:\\nAndrew Lincoln, \\nNorman Reedus, \\nMel...\n",
       "3       Stars:\\nJustin Roiland, \\nChris Parnell, \\nSpe...\n",
       "4                        Director:\\nMatthias Schweighöfer\n",
       "                              ...                        \n",
       "9994    Stars:\\nMorgan Taylor Campbell, \\nChris Cope, ...\n",
       "9995                                                     \n",
       "9996                     Director:\\nOrlando von Einsiedel\n",
       "9997                          Director:\\nJovanka Vuckovic\n",
       "9998                          Director:\\nJovanka Vuckovic\n",
       "Name: all_stars_director, Length: 9999, dtype: object"
      ]
     },
     "execution_count": 344,
     "metadata": {},
     "output_type": "execute_result"
    }
   ],
   "source": [
    "df['all_stars_director']"
   ]
  },
  {
   "cell_type": "code",
   "execution_count": 345,
   "id": "c43def4e",
   "metadata": {},
   "outputs": [
    {
     "name": "stdout",
     "output_type": "stream",
     "text": [
      "None\n"
     ]
    }
   ],
   "source": [
    "def to_get_director(items):\n",
    "        if items is not None and'Director' in items:\n",
    "            directors = items.split('\\n')[1]\n",
    "            return directors\n",
    "        else:\n",
    "            pass\n",
    "    \n",
    "a = to_get_director(\"Stars:\\nPeri Baumeister, \\nCarl Anton Koch, \\nAlexander Scheer, \\nKais Setti\") \n",
    "print(a)"
   ]
  },
  {
   "cell_type": "code",
   "execution_count": 346,
   "id": "eb95682a",
   "metadata": {},
   "outputs": [],
   "source": [
    "df['all_stars_director_'] = df['all_stars_director'].apply(to_get_director)\n"
   ]
  },
  {
   "cell_type": "code",
   "execution_count": 347,
   "id": "694b7132",
   "metadata": {},
   "outputs": [
    {
     "data": {
      "text/html": [
       "<div>\n",
       "<style scoped>\n",
       "    .dataframe tbody tr th:only-of-type {\n",
       "        vertical-align: middle;\n",
       "    }\n",
       "\n",
       "    .dataframe tbody tr th {\n",
       "        vertical-align: top;\n",
       "    }\n",
       "\n",
       "    .dataframe thead th {\n",
       "        text-align: right;\n",
       "    }\n",
       "</style>\n",
       "<table border=\"1\" class=\"dataframe\">\n",
       "  <thead>\n",
       "    <tr style=\"text-align: right;\">\n",
       "      <th></th>\n",
       "      <th>movies</th>\n",
       "      <th>year</th>\n",
       "      <th>genre</th>\n",
       "      <th>rating</th>\n",
       "      <th>one-line</th>\n",
       "      <th>stars</th>\n",
       "      <th>votes</th>\n",
       "      <th>runtime</th>\n",
       "      <th>gross</th>\n",
       "      <th>movies_g</th>\n",
       "      <th>oneline</th>\n",
       "      <th>all_stars_director</th>\n",
       "      <th>all_stars_director_</th>\n",
       "    </tr>\n",
       "  </thead>\n",
       "  <tbody>\n",
       "    <tr>\n",
       "      <th>1</th>\n",
       "      <td>Masters of the Universe: Revelation</td>\n",
       "      <td>(2021– )</td>\n",
       "      <td>\\nAnimation, Action, Adventure</td>\n",
       "      <td>5.0</td>\n",
       "      <td>\\nThe war for Eternia begins again in what may...</td>\n",
       "      <td>\\n            \\n    Stars:\\nChris Wood, \\nSara...</td>\n",
       "      <td>17,870</td>\n",
       "      <td>25.0</td>\n",
       "      <td>NaN</td>\n",
       "      <td>Animation,Action,Adventure</td>\n",
       "      <td>The war for Eternia begins again in what may b...</td>\n",
       "      <td>Stars:\\nChris Wood, \\nSarah Michelle Gellar, \\...</td>\n",
       "      <td>None</td>\n",
       "    </tr>\n",
       "    <tr>\n",
       "      <th>2</th>\n",
       "      <td>The Walking Dead</td>\n",
       "      <td>(2010–2022)</td>\n",
       "      <td>\\nDrama, Horror, Thriller</td>\n",
       "      <td>8.2</td>\n",
       "      <td>\\nSheriff Deputy Rick Grimes wakes up from a c...</td>\n",
       "      <td>\\n            \\n    Stars:\\nAndrew Lincoln, \\n...</td>\n",
       "      <td>885,805</td>\n",
       "      <td>44.0</td>\n",
       "      <td>NaN</td>\n",
       "      <td>Drama,Horror,Thriller</td>\n",
       "      <td>Sheriff Deputy Rick Grimes wakes up from a com...</td>\n",
       "      <td>Stars:\\nAndrew Lincoln, \\nNorman Reedus, \\nMel...</td>\n",
       "      <td>None</td>\n",
       "    </tr>\n",
       "  </tbody>\n",
       "</table>\n",
       "</div>"
      ],
      "text/plain": [
       "                                movies         year  \\\n",
       "1  Masters of the Universe: Revelation     (2021– )   \n",
       "2                     The Walking Dead  (2010–2022)   \n",
       "\n",
       "                                        genre  rating  \\\n",
       "1  \\nAnimation, Action, Adventure                 5.0   \n",
       "2       \\nDrama, Horror, Thriller                 8.2   \n",
       "\n",
       "                                            one-line  \\\n",
       "1  \\nThe war for Eternia begins again in what may...   \n",
       "2  \\nSheriff Deputy Rick Grimes wakes up from a c...   \n",
       "\n",
       "                                               stars    votes  runtime gross  \\\n",
       "1  \\n            \\n    Stars:\\nChris Wood, \\nSara...   17,870     25.0   NaN   \n",
       "2  \\n            \\n    Stars:\\nAndrew Lincoln, \\n...  885,805     44.0   NaN   \n",
       "\n",
       "                     movies_g  \\\n",
       "1  Animation,Action,Adventure   \n",
       "2       Drama,Horror,Thriller   \n",
       "\n",
       "                                             oneline  \\\n",
       "1  The war for Eternia begins again in what may b...   \n",
       "2  Sheriff Deputy Rick Grimes wakes up from a com...   \n",
       "\n",
       "                                  all_stars_director all_stars_director_  \n",
       "1  Stars:\\nChris Wood, \\nSarah Michelle Gellar, \\...                None  \n",
       "2  Stars:\\nAndrew Lincoln, \\nNorman Reedus, \\nMel...                None  "
      ]
     },
     "execution_count": 347,
     "metadata": {},
     "output_type": "execute_result"
    }
   ],
   "source": [
    "# Using pd.isna() or pd.isnull() to check for missing values\n",
    "df_m = df.loc[pd.isna(df['all_stars_director_'])]\n",
    "df_m.head(2)"
   ]
  },
  {
   "cell_type": "code",
   "execution_count": 348,
   "id": "ef4c4350",
   "metadata": {},
   "outputs": [],
   "source": [
    "df['all_stars_director_'] = df['all_stars_director_'].fillna('None')"
   ]
  },
  {
   "cell_type": "markdown",
   "id": "763fdb95",
   "metadata": {},
   "source": [
    "## stars"
   ]
  },
  {
   "cell_type": "code",
   "execution_count": 349,
   "id": "6d3e0d64",
   "metadata": {
    "scrolled": true
   },
   "outputs": [
    {
     "data": {
      "text/plain": [
       "array(['\\n    Director:\\nPeter Thorwarth\\n| \\n    Stars:\\nPeri Baumeister, \\nCarl Anton Koch, \\nAlexander Scheer, \\nKais Setti\\n',\n",
       "       '\\n            \\n    Stars:\\nChris Wood, \\nSarah Michelle Gellar, \\nLena Headey, \\nMark Hamill\\n',\n",
       "       '\\n            \\n    Stars:\\nAndrew Lincoln, \\nNorman Reedus, \\nMelissa McBride, \\nLauren Cohan\\n'],\n",
       "      dtype=object)"
      ]
     },
     "execution_count": 349,
     "metadata": {},
     "output_type": "execute_result"
    }
   ],
   "source": [
    "df.head(3)['stars'].values"
   ]
  },
  {
   "cell_type": "code",
   "execution_count": 350,
   "id": "edfe8f53",
   "metadata": {},
   "outputs": [
    {
     "name": "stdout",
     "output_type": "stream",
     "text": [
      "Peri Baumeister,Carl Anton Koch,Alexander Scheer,Kais Setti\n"
     ]
    }
   ],
   "source": [
    "## to get the stars\n",
    "def to_get_stars(item):\n",
    "    #confirm if the pattern match, stars is the item being looked for\n",
    "    #r is the raw string\n",
    "    stars_result = re.search(r'Stars:\\s*([\\s\\S]*?)(?:\\n\\n|$)', item)\n",
    "    \n",
    "    if stars_result:\n",
    "    # the group calls the extracts the content of the first capturing group\n",
    "        stars_info = stars_result.group(1)\n",
    "        stars_list = [star.strip() for star in stars_info.split(', \\n')]\n",
    "        \n",
    "        #seperate the list to a string\n",
    "        stars = \",\".join(stars_list)\n",
    "        return stars\n",
    "    else:\n",
    "        pass\n",
    "\n",
    "a = to_get_stars(\"\\n    Director:\\nPeter Thorwarth\\n| \\n    Stars:\\nPeri Baumeister, \\nCarl Anton Koch, \\nAlexander Scheer, \\nKais Setti\\n\")\n",
    "print(a)"
   ]
  },
  {
   "cell_type": "code",
   "execution_count": 351,
   "id": "2dc714b9",
   "metadata": {},
   "outputs": [],
   "source": [
    "df['all_stars'] = df['stars'].apply(to_get_stars)"
   ]
  },
  {
   "cell_type": "code",
   "execution_count": 352,
   "id": "08701b7f",
   "metadata": {},
   "outputs": [],
   "source": [
    "#calculating the average mean of the ratings and fill the null values with the mean\n",
    "df['all_stars'] = df['all_stars'].fillna('None')"
   ]
  },
  {
   "cell_type": "markdown",
   "id": "c5912045",
   "metadata": {},
   "source": [
    "## votes"
   ]
  },
  {
   "cell_type": "code",
   "execution_count": 353,
   "id": "0c1e594a",
   "metadata": {},
   "outputs": [],
   "source": [
    "df['votes'] = df['votes'].str.replace(\",\",\"\")"
   ]
  },
  {
   "cell_type": "code",
   "execution_count": 354,
   "id": "e1ae6b85",
   "metadata": {},
   "outputs": [],
   "source": [
    "df['votes'] = df['votes'].fillna(0).astype(int)\n"
   ]
  },
  {
   "cell_type": "markdown",
   "id": "49b179d6",
   "metadata": {},
   "source": [
    "## gross"
   ]
  },
  {
   "cell_type": "code",
   "execution_count": 355,
   "id": "3cd7b2db",
   "metadata": {},
   "outputs": [
    {
     "data": {
      "text/plain": [
       "460"
      ]
     },
     "execution_count": 355,
     "metadata": {},
     "output_type": "execute_result"
    }
   ],
   "source": [
    "#delete column cuz its not relevamt and data points are few\n",
    "df['gross'].notna().sum()"
   ]
  },
  {
   "cell_type": "markdown",
   "id": "c3b41779",
   "metadata": {},
   "source": [
    "## one line"
   ]
  },
  {
   "cell_type": "code",
   "execution_count": null,
   "id": "ad13290a",
   "metadata": {},
   "outputs": [],
   "source": [
    "\n",
    "\n",
    "\n"
   ]
  },
  {
   "cell_type": "code",
   "execution_count": 356,
   "id": "35005763",
   "metadata": {},
   "outputs": [],
   "source": [
    "df['one-line'] = df['one-line'].apply(lambda x: x.strip())"
   ]
  },
  {
   "cell_type": "code",
   "execution_count": 357,
   "id": "737ca333",
   "metadata": {},
   "outputs": [
    {
     "data": {
      "text/plain": [
       "7041"
      ]
     },
     "execution_count": 357,
     "metadata": {},
     "output_type": "execute_result"
    }
   ],
   "source": [
    "#delete column cuz its not relevamt and data points are few\n",
    "df['runtime'].notna().sum()"
   ]
  },
  {
   "cell_type": "markdown",
   "id": "7918eaa2",
   "metadata": {},
   "source": [
    "## runtime"
   ]
  },
  {
   "cell_type": "code",
   "execution_count": 358,
   "id": "e8d299bc",
   "metadata": {},
   "outputs": [],
   "source": [
    "df['runtime'] = df['runtime'].fillna(0).astype(int)\n"
   ]
  },
  {
   "cell_type": "markdown",
   "id": "5bacd9ec",
   "metadata": {},
   "source": [
    "## rating"
   ]
  },
  {
   "cell_type": "code",
   "execution_count": 359,
   "id": "b4c9fcb3",
   "metadata": {},
   "outputs": [],
   "source": [
    "df['rating'] = df['rating'].fillna(0).astype(float)"
   ]
  },
  {
   "cell_type": "markdown",
   "id": "ddebc7c5",
   "metadata": {},
   "source": [
    "## year"
   ]
  },
  {
   "cell_type": "markdown",
   "id": "3711c03e",
   "metadata": {},
   "source": [
    "## drop"
   ]
  },
  {
   "cell_type": "code",
   "execution_count": 360,
   "id": "2a899a03",
   "metadata": {},
   "outputs": [],
   "source": [
    "#dropping the columns\n",
    "df.drop(['year','genre', 'stars','gross', 'all_stars_director', 'year'], axis = 1, inplace = True)\n"
   ]
  },
  {
   "cell_type": "code",
   "execution_count": 361,
   "id": "3a339aff",
   "metadata": {},
   "outputs": [
    {
     "data": {
      "text/html": [
       "<div>\n",
       "<style scoped>\n",
       "    .dataframe tbody tr th:only-of-type {\n",
       "        vertical-align: middle;\n",
       "    }\n",
       "\n",
       "    .dataframe tbody tr th {\n",
       "        vertical-align: top;\n",
       "    }\n",
       "\n",
       "    .dataframe thead th {\n",
       "        text-align: right;\n",
       "    }\n",
       "</style>\n",
       "<table border=\"1\" class=\"dataframe\">\n",
       "  <thead>\n",
       "    <tr style=\"text-align: right;\">\n",
       "      <th></th>\n",
       "      <th>movies</th>\n",
       "      <th>rating</th>\n",
       "      <th>one-line</th>\n",
       "      <th>votes</th>\n",
       "      <th>runtime</th>\n",
       "      <th>movies_g</th>\n",
       "      <th>oneline</th>\n",
       "      <th>all_stars_director_</th>\n",
       "      <th>all_stars</th>\n",
       "    </tr>\n",
       "  </thead>\n",
       "  <tbody>\n",
       "    <tr>\n",
       "      <th>0</th>\n",
       "      <td>Blood Red Sky</td>\n",
       "      <td>6.1</td>\n",
       "      <td>A woman with a mysterious illness is forced in...</td>\n",
       "      <td>21062</td>\n",
       "      <td>121</td>\n",
       "      <td>Action,Horror,Thriller</td>\n",
       "      <td>A woman with a mysterious illness is forced in...</td>\n",
       "      <td>Peter Thorwarth</td>\n",
       "      <td>Peri Baumeister,Carl Anton Koch,Alexander Sche...</td>\n",
       "    </tr>\n",
       "    <tr>\n",
       "      <th>1</th>\n",
       "      <td>Masters of the Universe: Revelation</td>\n",
       "      <td>5.0</td>\n",
       "      <td>The war for Eternia begins again in what may b...</td>\n",
       "      <td>17870</td>\n",
       "      <td>25</td>\n",
       "      <td>Animation,Action,Adventure</td>\n",
       "      <td>The war for Eternia begins again in what may b...</td>\n",
       "      <td>None</td>\n",
       "      <td>Chris Wood,Sarah Michelle Gellar,Lena Headey,M...</td>\n",
       "    </tr>\n",
       "  </tbody>\n",
       "</table>\n",
       "</div>"
      ],
      "text/plain": [
       "                                movies  rating  \\\n",
       "0                        Blood Red Sky     6.1   \n",
       "1  Masters of the Universe: Revelation     5.0   \n",
       "\n",
       "                                            one-line  votes  runtime  \\\n",
       "0  A woman with a mysterious illness is forced in...  21062      121   \n",
       "1  The war for Eternia begins again in what may b...  17870       25   \n",
       "\n",
       "                     movies_g  \\\n",
       "0      Action,Horror,Thriller   \n",
       "1  Animation,Action,Adventure   \n",
       "\n",
       "                                             oneline all_stars_director_  \\\n",
       "0  A woman with a mysterious illness is forced in...     Peter Thorwarth   \n",
       "1  The war for Eternia begins again in what may b...                None   \n",
       "\n",
       "                                           all_stars  \n",
       "0  Peri Baumeister,Carl Anton Koch,Alexander Sche...  \n",
       "1  Chris Wood,Sarah Michelle Gellar,Lena Headey,M...  "
      ]
     },
     "execution_count": 361,
     "metadata": {},
     "output_type": "execute_result"
    }
   ],
   "source": [
    "df.head(2)"
   ]
  },
  {
   "cell_type": "markdown",
   "id": "36427e2e",
   "metadata": {},
   "source": [
    "## duplicates "
   ]
  },
  {
   "cell_type": "code",
   "execution_count": 362,
   "id": "0415ffa5",
   "metadata": {},
   "outputs": [
    {
     "data": {
      "text/html": [
       "<div>\n",
       "<style scoped>\n",
       "    .dataframe tbody tr th:only-of-type {\n",
       "        vertical-align: middle;\n",
       "    }\n",
       "\n",
       "    .dataframe tbody tr th {\n",
       "        vertical-align: top;\n",
       "    }\n",
       "\n",
       "    .dataframe thead th {\n",
       "        text-align: right;\n",
       "    }\n",
       "</style>\n",
       "<table border=\"1\" class=\"dataframe\">\n",
       "  <thead>\n",
       "    <tr style=\"text-align: right;\">\n",
       "      <th></th>\n",
       "      <th>movies</th>\n",
       "      <th>rating</th>\n",
       "      <th>one-line</th>\n",
       "      <th>votes</th>\n",
       "      <th>runtime</th>\n",
       "      <th>movies_g</th>\n",
       "      <th>oneline</th>\n",
       "      <th>all_stars_director_</th>\n",
       "      <th>all_stars</th>\n",
       "    </tr>\n",
       "  </thead>\n",
       "  <tbody>\n",
       "    <tr>\n",
       "      <th>6833</th>\n",
       "      <td>Mighty Little Bheem</td>\n",
       "      <td>0.0</td>\n",
       "      <td>Add a Plot</td>\n",
       "      <td>0</td>\n",
       "      <td>0</td>\n",
       "      <td>Animation,Short,Adventure</td>\n",
       "      <td>Add a Plot</td>\n",
       "      <td>Rajiv Chilaka,</td>\n",
       "      <td>None</td>\n",
       "    </tr>\n",
       "    <tr>\n",
       "      <th>6835</th>\n",
       "      <td>Mighty Little Bheem</td>\n",
       "      <td>9.0</td>\n",
       "      <td>Add a Plot</td>\n",
       "      <td>6</td>\n",
       "      <td>0</td>\n",
       "      <td>Animation,Short,Adventure</td>\n",
       "      <td>Add a Plot</td>\n",
       "      <td>Rajiv Chilaka,</td>\n",
       "      <td>None</td>\n",
       "    </tr>\n",
       "    <tr>\n",
       "      <th>6836</th>\n",
       "      <td>Mighty Little Bheem</td>\n",
       "      <td>9.0</td>\n",
       "      <td>Add a Plot</td>\n",
       "      <td>6</td>\n",
       "      <td>0</td>\n",
       "      <td>Animation,Short,Adventure</td>\n",
       "      <td>Add a Plot</td>\n",
       "      <td>Rajiv Chilaka,</td>\n",
       "      <td>None</td>\n",
       "    </tr>\n",
       "    <tr>\n",
       "      <th>6837</th>\n",
       "      <td>Mighty Little Bheem</td>\n",
       "      <td>0.0</td>\n",
       "      <td>Add a Plot</td>\n",
       "      <td>0</td>\n",
       "      <td>0</td>\n",
       "      <td>Animation,Short,Adventure</td>\n",
       "      <td>Add a Plot</td>\n",
       "      <td>Rajiv Chilaka,</td>\n",
       "      <td>None</td>\n",
       "    </tr>\n",
       "    <tr>\n",
       "      <th>6838</th>\n",
       "      <td>Mighty Little Bheem</td>\n",
       "      <td>0.0</td>\n",
       "      <td>Add a Plot</td>\n",
       "      <td>0</td>\n",
       "      <td>0</td>\n",
       "      <td>Animation,Short,Adventure</td>\n",
       "      <td>Add a Plot</td>\n",
       "      <td>Rajiv Chilaka,</td>\n",
       "      <td>None</td>\n",
       "    </tr>\n",
       "  </tbody>\n",
       "</table>\n",
       "</div>"
      ],
      "text/plain": [
       "                    movies  rating    one-line  votes  runtime  \\\n",
       "6833   Mighty Little Bheem     0.0  Add a Plot      0        0   \n",
       "6835   Mighty Little Bheem     9.0  Add a Plot      6        0   \n",
       "6836   Mighty Little Bheem     9.0  Add a Plot      6        0   \n",
       "6837   Mighty Little Bheem     0.0  Add a Plot      0        0   \n",
       "6838   Mighty Little Bheem     0.0  Add a Plot      0        0   \n",
       "\n",
       "                       movies_g     oneline all_stars_director_ all_stars  \n",
       "6833  Animation,Short,Adventure  Add a Plot     Rajiv Chilaka,       None  \n",
       "6835  Animation,Short,Adventure  Add a Plot     Rajiv Chilaka,       None  \n",
       "6836  Animation,Short,Adventure  Add a Plot     Rajiv Chilaka,       None  \n",
       "6837  Animation,Short,Adventure  Add a Plot     Rajiv Chilaka,       None  \n",
       "6838  Animation,Short,Adventure  Add a Plot     Rajiv Chilaka,       None  "
      ]
     },
     "execution_count": 362,
     "metadata": {},
     "output_type": "execute_result"
    }
   ],
   "source": [
    "duplicate_rows = df[df.duplicated()]\n",
    "\n",
    "# Print the duplicate rows\n",
    "duplicate_rows.head(5)\n"
   ]
  },
  {
   "cell_type": "code",
   "execution_count": 363,
   "id": "693952d4",
   "metadata": {},
   "outputs": [
    {
     "data": {
      "text/html": [
       "<div>\n",
       "<style scoped>\n",
       "    .dataframe tbody tr th:only-of-type {\n",
       "        vertical-align: middle;\n",
       "    }\n",
       "\n",
       "    .dataframe tbody tr th {\n",
       "        vertical-align: top;\n",
       "    }\n",
       "\n",
       "    .dataframe thead th {\n",
       "        text-align: right;\n",
       "    }\n",
       "</style>\n",
       "<table border=\"1\" class=\"dataframe\">\n",
       "  <thead>\n",
       "    <tr style=\"text-align: right;\">\n",
       "      <th></th>\n",
       "      <th>movies</th>\n",
       "      <th>rating</th>\n",
       "      <th>one-line</th>\n",
       "      <th>votes</th>\n",
       "      <th>runtime</th>\n",
       "      <th>movies_g</th>\n",
       "      <th>oneline</th>\n",
       "      <th>all_stars_director_</th>\n",
       "      <th>all_stars</th>\n",
       "    </tr>\n",
       "  </thead>\n",
       "  <tbody>\n",
       "    <tr>\n",
       "      <th>9443</th>\n",
       "      <td>1899</td>\n",
       "      <td>0.0</td>\n",
       "      <td>Add a Plot</td>\n",
       "      <td>0</td>\n",
       "      <td>0</td>\n",
       "      <td>Drama,History,Horror</td>\n",
       "      <td>Add a Plot</td>\n",
       "      <td>Baran bo Odar</td>\n",
       "      <td>Aneurin Barnard,Anton Lesser,Mathilde Ollivier...</td>\n",
       "    </tr>\n",
       "    <tr>\n",
       "      <th>9980</th>\n",
       "      <td>1899</td>\n",
       "      <td>0.0</td>\n",
       "      <td>Add a Plot</td>\n",
       "      <td>0</td>\n",
       "      <td>0</td>\n",
       "      <td>Drama,History,Horror</td>\n",
       "      <td>Add a Plot</td>\n",
       "      <td>Baran bo Odar</td>\n",
       "      <td>None</td>\n",
       "    </tr>\n",
       "    <tr>\n",
       "      <th>9981</th>\n",
       "      <td>1899</td>\n",
       "      <td>0.0</td>\n",
       "      <td>Add a Plot</td>\n",
       "      <td>0</td>\n",
       "      <td>0</td>\n",
       "      <td>Drama,History,Horror</td>\n",
       "      <td>Add a Plot</td>\n",
       "      <td>Baran bo Odar</td>\n",
       "      <td>None</td>\n",
       "    </tr>\n",
       "    <tr>\n",
       "      <th>9982</th>\n",
       "      <td>1899</td>\n",
       "      <td>0.0</td>\n",
       "      <td>Add a Plot</td>\n",
       "      <td>0</td>\n",
       "      <td>0</td>\n",
       "      <td>Drama,History,Horror</td>\n",
       "      <td>Add a Plot</td>\n",
       "      <td>Baran bo Odar</td>\n",
       "      <td>None</td>\n",
       "    </tr>\n",
       "    <tr>\n",
       "      <th>9989</th>\n",
       "      <td>1899</td>\n",
       "      <td>0.0</td>\n",
       "      <td>Add a Plot</td>\n",
       "      <td>0</td>\n",
       "      <td>0</td>\n",
       "      <td>Drama,History,Horror</td>\n",
       "      <td>Add a Plot</td>\n",
       "      <td>Baran bo Odar</td>\n",
       "      <td>None</td>\n",
       "    </tr>\n",
       "  </tbody>\n",
       "</table>\n",
       "</div>"
      ],
      "text/plain": [
       "     movies  rating    one-line  votes  runtime              movies_g  \\\n",
       "9443   1899     0.0  Add a Plot      0        0  Drama,History,Horror   \n",
       "9980   1899     0.0  Add a Plot      0        0  Drama,History,Horror   \n",
       "9981   1899     0.0  Add a Plot      0        0  Drama,History,Horror   \n",
       "9982   1899     0.0  Add a Plot      0        0  Drama,History,Horror   \n",
       "9989   1899     0.0  Add a Plot      0        0  Drama,History,Horror   \n",
       "\n",
       "         oneline all_stars_director_  \\\n",
       "9443  Add a Plot       Baran bo Odar   \n",
       "9980  Add a Plot       Baran bo Odar   \n",
       "9981  Add a Plot       Baran bo Odar   \n",
       "9982  Add a Plot       Baran bo Odar   \n",
       "9989  Add a Plot       Baran bo Odar   \n",
       "\n",
       "                                              all_stars  \n",
       "9443  Aneurin Barnard,Anton Lesser,Mathilde Ollivier...  \n",
       "9980                                               None  \n",
       "9981                                               None  \n",
       "9982                                               None  \n",
       "9989                                               None  "
      ]
     },
     "execution_count": 363,
     "metadata": {},
     "output_type": "execute_result"
    }
   ],
   "source": [
    "#confirming the duplicates again\n",
    "df_loc = df.loc[(df['all_stars_director_'] == 'Baran bo Odar') & (df['movies_g'] == 'Drama,History,Horror')]\n",
    "df_loc.head()"
   ]
  },
  {
   "cell_type": "markdown",
   "id": "645779f2",
   "metadata": {},
   "source": [
    "#### drop the duplicates"
   ]
  },
  {
   "cell_type": "code",
   "execution_count": 364,
   "id": "257b56d2",
   "metadata": {
    "scrolled": true
   },
   "outputs": [],
   "source": [
    "df_clean = df.drop_duplicates()\n"
   ]
  },
  {
   "cell_type": "code",
   "execution_count": 365,
   "id": "7dbad538",
   "metadata": {},
   "outputs": [],
   "source": [
    "df_clean.to_csv('cleaned_movies.csv')"
   ]
  },
  {
   "cell_type": "code",
   "execution_count": null,
   "id": "12065eed",
   "metadata": {},
   "outputs": [],
   "source": []
  },
  {
   "cell_type": "code",
   "execution_count": null,
   "id": "f9b34ad6",
   "metadata": {},
   "outputs": [],
   "source": []
  }
 ],
 "metadata": {
  "kernelspec": {
   "display_name": "Python 3 (ipykernel)",
   "language": "python",
   "name": "python3"
  },
  "language_info": {
   "codemirror_mode": {
    "name": "ipython",
    "version": 3
   },
   "file_extension": ".py",
   "mimetype": "text/x-python",
   "name": "python",
   "nbconvert_exporter": "python",
   "pygments_lexer": "ipython3",
   "version": "3.9.12"
  }
 },
 "nbformat": 4,
 "nbformat_minor": 5
}
