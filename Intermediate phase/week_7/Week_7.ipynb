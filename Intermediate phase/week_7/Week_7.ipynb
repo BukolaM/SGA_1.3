{
 "cells": [
  {
   "cell_type": "code",
   "execution_count": 7,
   "id": "3bd732d1",
   "metadata": {},
   "outputs": [],
   "source": [
    "import requests\n",
    "from bs4 import BeautifulSoup\n",
    "import pandas as pd\n",
    "import matplotlib.pyplot as plt\n",
    "import seaborn as sns"
   ]
  },
  {
   "cell_type": "code",
   "execution_count": 37,
   "id": "aead0b7b",
   "metadata": {},
   "outputs": [
    {
     "data": {
      "text/plain": [
       "<Response [200]>"
      ]
     },
     "execution_count": 37,
     "metadata": {},
     "output_type": "execute_result"
    }
   ],
   "source": [
    "URL = \"https://www.worlddata.info/africa/nigeria/inflation-rates.php\"\n",
    "page = requests.get(URL)\n",
    "page"
   ]
  },
  {
   "cell_type": "code",
   "execution_count": 38,
   "id": "ca2535a6",
   "metadata": {},
   "outputs": [],
   "source": [
    "soup = BeautifulSoup(page.content, 'lxml')"
   ]
  },
  {
   "cell_type": "code",
   "execution_count": 39,
   "id": "b061aceb",
   "metadata": {},
   "outputs": [],
   "source": [
    "table = soup.find('table')\n",
    "\n",
    "all_headers = [header.text for header in table.find_all('th')]\n",
    "headers = []\n",
    "for header in all_headers:\n",
    "    header = header.replace('Ø ', \"\")\n",
    "    headers.append(header)\n",
    "\n",
    "results = [{headers[i]: cell.text for i, cell in enumerate(row.find_all('td'))}\n",
    "           for row in table.find_all('tr')]\n",
    "del results[0]\n"
   ]
  },
  {
   "cell_type": "code",
   "execution_count": 40,
   "id": "ef0e9eab",
   "metadata": {},
   "outputs": [],
   "source": [
    "results\n",
    "result = []\n",
    "for item in results:\n",
    "    item['Nigeria'] = item['Nigeria'].replace(\" %\", \"\")\n",
    "    item['EU'] = item['EU'].replace(\" %\", \"\")\n",
    "    item['USA'] = item['USA'].replace(\" %\", \"\")\n",
    "    item['World'] = item['World'].replace(\" %\", \"\")\n",
    "    result.append(item)"
   ]
  },
  {
   "cell_type": "code",
   "execution_count": 41,
   "id": "f6420dfd",
   "metadata": {},
   "outputs": [
    {
     "data": {
      "text/html": [
       "<div>\n",
       "<style scoped>\n",
       "    .dataframe tbody tr th:only-of-type {\n",
       "        vertical-align: middle;\n",
       "    }\n",
       "\n",
       "    .dataframe tbody tr th {\n",
       "        vertical-align: top;\n",
       "    }\n",
       "\n",
       "    .dataframe thead th {\n",
       "        text-align: right;\n",
       "    }\n",
       "</style>\n",
       "<table border=\"1\" class=\"dataframe\">\n",
       "  <thead>\n",
       "    <tr style=\"text-align: right;\">\n",
       "      <th></th>\n",
       "      <th>Year</th>\n",
       "      <th>Nigeria</th>\n",
       "      <th>EU</th>\n",
       "      <th>USA</th>\n",
       "      <th>World</th>\n",
       "    </tr>\n",
       "  </thead>\n",
       "  <tbody>\n",
       "    <tr>\n",
       "      <th>0</th>\n",
       "      <td>2021</td>\n",
       "      <td>16.95</td>\n",
       "      <td>2.55</td>\n",
       "      <td>4.70</td>\n",
       "      <td>3.42</td>\n",
       "    </tr>\n",
       "    <tr>\n",
       "      <th>1</th>\n",
       "      <td>2020</td>\n",
       "      <td>13.25</td>\n",
       "      <td>0.50</td>\n",
       "      <td>1.23</td>\n",
       "      <td>1.92</td>\n",
       "    </tr>\n",
       "    <tr>\n",
       "      <th>2</th>\n",
       "      <td>2019</td>\n",
       "      <td>11.40</td>\n",
       "      <td>1.63</td>\n",
       "      <td>1.81</td>\n",
       "      <td>2.19</td>\n",
       "    </tr>\n",
       "    <tr>\n",
       "      <th>3</th>\n",
       "      <td>2018</td>\n",
       "      <td>12.09</td>\n",
       "      <td>1.74</td>\n",
       "      <td>2.44</td>\n",
       "      <td>2.44</td>\n",
       "    </tr>\n",
       "    <tr>\n",
       "      <th>4</th>\n",
       "      <td>2017</td>\n",
       "      <td>16.52</td>\n",
       "      <td>1.43</td>\n",
       "      <td>2.13</td>\n",
       "      <td>2.19</td>\n",
       "    </tr>\n",
       "    <tr>\n",
       "      <th>...</th>\n",
       "      <td>...</td>\n",
       "      <td>...</td>\n",
       "      <td>...</td>\n",
       "      <td>...</td>\n",
       "      <td>...</td>\n",
       "    </tr>\n",
       "    <tr>\n",
       "      <th>57</th>\n",
       "      <td>1964</td>\n",
       "      <td>0.86</td>\n",
       "      <td>3.42</td>\n",
       "      <td>1.28</td>\n",
       "      <td>n/a</td>\n",
       "    </tr>\n",
       "    <tr>\n",
       "      <th>58</th>\n",
       "      <td>1963</td>\n",
       "      <td>-2.69</td>\n",
       "      <td>2.92</td>\n",
       "      <td>1.24</td>\n",
       "      <td>n/a</td>\n",
       "    </tr>\n",
       "    <tr>\n",
       "      <th>59</th>\n",
       "      <td>1962</td>\n",
       "      <td>5.27</td>\n",
       "      <td>3.55</td>\n",
       "      <td>1.20</td>\n",
       "      <td>n/a</td>\n",
       "    </tr>\n",
       "    <tr>\n",
       "      <th>60</th>\n",
       "      <td>1961</td>\n",
       "      <td>6.28</td>\n",
       "      <td>2.08</td>\n",
       "      <td>1.07</td>\n",
       "      <td>n/a</td>\n",
       "    </tr>\n",
       "    <tr>\n",
       "      <th>61</th>\n",
       "      <td>1960</td>\n",
       "      <td>5.44</td>\n",
       "      <td>1.74</td>\n",
       "      <td>1.46</td>\n",
       "      <td>n/a</td>\n",
       "    </tr>\n",
       "  </tbody>\n",
       "</table>\n",
       "<p>62 rows × 5 columns</p>\n",
       "</div>"
      ],
      "text/plain": [
       "    Year Nigeria    EU   USA World\n",
       "0   2021   16.95  2.55  4.70  3.42\n",
       "1   2020   13.25  0.50  1.23  1.92\n",
       "2   2019   11.40  1.63  1.81  2.19\n",
       "3   2018   12.09  1.74  2.44  2.44\n",
       "4   2017   16.52  1.43  2.13  2.19\n",
       "..   ...     ...   ...   ...   ...\n",
       "57  1964    0.86  3.42  1.28   n/a\n",
       "58  1963   -2.69  2.92  1.24   n/a\n",
       "59  1962    5.27  3.55  1.20   n/a\n",
       "60  1961    6.28  2.08  1.07   n/a\n",
       "61  1960    5.44  1.74  1.46   n/a\n",
       "\n",
       "[62 rows x 5 columns]"
      ]
     },
     "execution_count": 41,
     "metadata": {},
     "output_type": "execute_result"
    }
   ],
   "source": [
    "#reading the dataframe\n",
    "df_1 = pd.DataFrame(result)\n",
    "df_1"
   ]
  },
  {
   "cell_type": "code",
   "execution_count": 42,
   "id": "e99d4f6f",
   "metadata": {},
   "outputs": [
    {
     "name": "stdout",
     "output_type": "stream",
     "text": [
      "<class 'pandas.core.frame.DataFrame'>\n",
      "RangeIndex: 62 entries, 0 to 61\n",
      "Data columns (total 5 columns):\n",
      " #   Column   Non-Null Count  Dtype \n",
      "---  ------   --------------  ----- \n",
      " 0   Year     62 non-null     object\n",
      " 1   Nigeria  62 non-null     object\n",
      " 2   EU       62 non-null     object\n",
      " 3   USA      62 non-null     object\n",
      " 4   World    62 non-null     object\n",
      "dtypes: object(5)\n",
      "memory usage: 2.5+ KB\n"
     ]
    }
   ],
   "source": [
    "df_1.info()"
   ]
  },
  {
   "cell_type": "code",
   "execution_count": 43,
   "id": "a885f266",
   "metadata": {},
   "outputs": [
    {
     "data": {
      "text/html": [
       "<div>\n",
       "<style scoped>\n",
       "    .dataframe tbody tr th:only-of-type {\n",
       "        vertical-align: middle;\n",
       "    }\n",
       "\n",
       "    .dataframe tbody tr th {\n",
       "        vertical-align: top;\n",
       "    }\n",
       "\n",
       "    .dataframe thead th {\n",
       "        text-align: right;\n",
       "    }\n",
       "</style>\n",
       "<table border=\"1\" class=\"dataframe\">\n",
       "  <thead>\n",
       "    <tr style=\"text-align: right;\">\n",
       "      <th></th>\n",
       "      <th>Year</th>\n",
       "      <th>Nigeria</th>\n",
       "      <th>EU</th>\n",
       "      <th>USA</th>\n",
       "      <th>World</th>\n",
       "    </tr>\n",
       "  </thead>\n",
       "  <tbody>\n",
       "    <tr>\n",
       "      <th>count</th>\n",
       "      <td>62</td>\n",
       "      <td>62</td>\n",
       "      <td>62</td>\n",
       "      <td>62</td>\n",
       "      <td>62</td>\n",
       "    </tr>\n",
       "    <tr>\n",
       "      <th>unique</th>\n",
       "      <td>62</td>\n",
       "      <td>62</td>\n",
       "      <td>59</td>\n",
       "      <td>60</td>\n",
       "      <td>41</td>\n",
       "    </tr>\n",
       "    <tr>\n",
       "      <th>top</th>\n",
       "      <td>2021</td>\n",
       "      <td>16.95</td>\n",
       "      <td>2.67</td>\n",
       "      <td>1.46</td>\n",
       "      <td>n/a</td>\n",
       "    </tr>\n",
       "    <tr>\n",
       "      <th>freq</th>\n",
       "      <td>1</td>\n",
       "      <td>1</td>\n",
       "      <td>2</td>\n",
       "      <td>2</td>\n",
       "      <td>20</td>\n",
       "    </tr>\n",
       "  </tbody>\n",
       "</table>\n",
       "</div>"
      ],
      "text/plain": [
       "        Year Nigeria    EU   USA World\n",
       "count     62      62    62    62    62\n",
       "unique    62      62    59    60    41\n",
       "top     2021   16.95  2.67  1.46   n/a\n",
       "freq       1       1     2     2    20"
      ]
     },
     "execution_count": 43,
     "metadata": {},
     "output_type": "execute_result"
    }
   ],
   "source": [
    "df_1.describe()"
   ]
  },
  {
   "cell_type": "code",
   "execution_count": 44,
   "id": "efe07bac",
   "metadata": {},
   "outputs": [
    {
     "data": {
      "text/plain": [
       "Year       62\n",
       "Nigeria    62\n",
       "EU         59\n",
       "USA        60\n",
       "World      41\n",
       "dtype: int64"
      ]
     },
     "execution_count": 44,
     "metadata": {},
     "output_type": "execute_result"
    }
   ],
   "source": [
    "#the unique values in information\n",
    "df_1.nunique()"
   ]
  },
  {
   "cell_type": "code",
   "execution_count": 45,
   "id": "8755e846",
   "metadata": {},
   "outputs": [
    {
     "data": {
      "text/plain": [
       "Year       0\n",
       "Nigeria    0\n",
       "EU         0\n",
       "USA        0\n",
       "World      0\n",
       "dtype: int64"
      ]
     },
     "execution_count": 45,
     "metadata": {},
     "output_type": "execute_result"
    }
   ],
   "source": [
    "#confirming the null values in the data\n",
    "df_1.isnull().sum()"
   ]
  },
  {
   "cell_type": "code",
   "execution_count": 46,
   "id": "da5636f0",
   "metadata": {},
   "outputs": [
    {
     "data": {
      "text/plain": [
       "(62, 5)"
      ]
     },
     "execution_count": 46,
     "metadata": {},
     "output_type": "execute_result"
    }
   ],
   "source": [
    "#the number of rows and columns \n",
    "df_1.shape"
   ]
  },
  {
   "cell_type": "markdown",
   "id": "97a6e915",
   "metadata": {},
   "source": [
    "## Data Wrangling"
   ]
  },
  {
   "cell_type": "code",
   "execution_count": 47,
   "id": "489a1be1",
   "metadata": {},
   "outputs": [],
   "source": [
    "#taking all the n/a values to be 0\n",
    "df_1['World'] = df_1['World'].apply(lambda x: x.replace(\"n/a\",\"0\"))"
   ]
  },
  {
   "cell_type": "code",
   "execution_count": 48,
   "id": "bb15b1df",
   "metadata": {},
   "outputs": [],
   "source": [
    "#convert the values to float type\n",
    "df_1['Nigeria'] = df_1['Nigeria'].astype('float')\n",
    "df_1['EU'] = df_1['EU'].astype('float')\n",
    "df_1['USA'] = df_1['USA'].astype('float')\n",
    "df_1['World'] = df_1['World'].astype('float')"
   ]
  },
  {
   "cell_type": "markdown",
   "id": "a5d87ef7",
   "metadata": {},
   "source": [
    "## Creating a Copy of The Dataset"
   ]
  },
  {
   "cell_type": "code",
   "execution_count": 97,
   "id": "7740ee20",
   "metadata": {},
   "outputs": [
    {
     "data": {
      "text/html": [
       "<div>\n",
       "<style scoped>\n",
       "    .dataframe tbody tr th:only-of-type {\n",
       "        vertical-align: middle;\n",
       "    }\n",
       "\n",
       "    .dataframe tbody tr th {\n",
       "        vertical-align: top;\n",
       "    }\n",
       "\n",
       "    .dataframe thead th {\n",
       "        text-align: right;\n",
       "    }\n",
       "</style>\n",
       "<table border=\"1\" class=\"dataframe\">\n",
       "  <thead>\n",
       "    <tr style=\"text-align: right;\">\n",
       "      <th></th>\n",
       "      <th>Year</th>\n",
       "      <th>Nigeria</th>\n",
       "      <th>EU</th>\n",
       "      <th>USA</th>\n",
       "      <th>World</th>\n",
       "    </tr>\n",
       "  </thead>\n",
       "  <tbody>\n",
       "    <tr>\n",
       "      <th>0</th>\n",
       "      <td>2021</td>\n",
       "      <td>16.95</td>\n",
       "      <td>2.55</td>\n",
       "      <td>4.70</td>\n",
       "      <td>3.42</td>\n",
       "    </tr>\n",
       "    <tr>\n",
       "      <th>1</th>\n",
       "      <td>2020</td>\n",
       "      <td>13.25</td>\n",
       "      <td>0.50</td>\n",
       "      <td>1.23</td>\n",
       "      <td>1.92</td>\n",
       "    </tr>\n",
       "    <tr>\n",
       "      <th>2</th>\n",
       "      <td>2019</td>\n",
       "      <td>11.40</td>\n",
       "      <td>1.63</td>\n",
       "      <td>1.81</td>\n",
       "      <td>2.19</td>\n",
       "    </tr>\n",
       "    <tr>\n",
       "      <th>3</th>\n",
       "      <td>2018</td>\n",
       "      <td>12.09</td>\n",
       "      <td>1.74</td>\n",
       "      <td>2.44</td>\n",
       "      <td>2.44</td>\n",
       "    </tr>\n",
       "    <tr>\n",
       "      <th>4</th>\n",
       "      <td>2017</td>\n",
       "      <td>16.52</td>\n",
       "      <td>1.43</td>\n",
       "      <td>2.13</td>\n",
       "      <td>2.19</td>\n",
       "    </tr>\n",
       "  </tbody>\n",
       "</table>\n",
       "</div>"
      ],
      "text/plain": [
       "   Year  Nigeria    EU   USA  World\n",
       "0  2021    16.95  2.55  4.70   3.42\n",
       "1  2020    13.25  0.50  1.23   1.92\n",
       "2  2019    11.40  1.63  1.81   2.19\n",
       "3  2018    12.09  1.74  2.44   2.44\n",
       "4  2017    16.52  1.43  2.13   2.19"
      ]
     },
     "execution_count": 97,
     "metadata": {},
     "output_type": "execute_result"
    }
   ],
   "source": [
    "df = df_1.copy()\n",
    "df.head()"
   ]
  },
  {
   "cell_type": "markdown",
   "id": "2c598f37",
   "metadata": {},
   "source": [
    "### Question1. What are the years with the highest inflation rate in Nigeria, EU, USA and the World?"
   ]
  },
  {
   "cell_type": "code",
   "execution_count": 92,
   "id": "e8952728",
   "metadata": {
    "scrolled": false
   },
   "outputs": [
    {
     "data": {
      "text/html": [
       "<div>\n",
       "<style scoped>\n",
       "    .dataframe tbody tr th:only-of-type {\n",
       "        vertical-align: middle;\n",
       "    }\n",
       "\n",
       "    .dataframe tbody tr th {\n",
       "        vertical-align: top;\n",
       "    }\n",
       "\n",
       "    .dataframe thead th {\n",
       "        text-align: right;\n",
       "    }\n",
       "</style>\n",
       "<table border=\"1\" class=\"dataframe\">\n",
       "  <thead>\n",
       "    <tr style=\"text-align: right;\">\n",
       "      <th></th>\n",
       "      <th>Nigeria</th>\n",
       "      <th>Year</th>\n",
       "    </tr>\n",
       "  </thead>\n",
       "  <tbody>\n",
       "    <tr>\n",
       "      <th>0</th>\n",
       "      <td>16.95</td>\n",
       "      <td>2021</td>\n",
       "    </tr>\n",
       "    <tr>\n",
       "      <th>1</th>\n",
       "      <td>13.25</td>\n",
       "      <td>2020</td>\n",
       "    </tr>\n",
       "    <tr>\n",
       "      <th>2</th>\n",
       "      <td>11.40</td>\n",
       "      <td>2019</td>\n",
       "    </tr>\n",
       "    <tr>\n",
       "      <th>3</th>\n",
       "      <td>12.09</td>\n",
       "      <td>2018</td>\n",
       "    </tr>\n",
       "    <tr>\n",
       "      <th>4</th>\n",
       "      <td>16.52</td>\n",
       "      <td>2017</td>\n",
       "    </tr>\n",
       "    <tr>\n",
       "      <th>5</th>\n",
       "      <td>15.68</td>\n",
       "      <td>2016</td>\n",
       "    </tr>\n",
       "  </tbody>\n",
       "</table>\n",
       "</div>"
      ],
      "text/plain": [
       "   Nigeria  Year\n",
       "0    16.95  2021\n",
       "1    13.25  2020\n",
       "2    11.40  2019\n",
       "3    12.09  2018\n",
       "4    16.52  2017\n",
       "5    15.68  2016"
      ]
     },
     "execution_count": 92,
     "metadata": {},
     "output_type": "execute_result"
    }
   ],
   "source": [
    "#grouping by year and country to see the inflation rates in descending order\n",
    "Ng__inflation = df.groupby('Nigeria')['Year'].sum()\n",
    "_inflation = Ng__inflation.sort_values(ascending=False).reset_index()\n",
    "Ng_inflation = _inflation.head(6)\n",
    "Ng_inflation"
   ]
  },
  {
   "cell_type": "code",
   "execution_count": 93,
   "id": "5d27c366",
   "metadata": {},
   "outputs": [
    {
     "data": {
      "text/html": [
       "<div>\n",
       "<style scoped>\n",
       "    .dataframe tbody tr th:only-of-type {\n",
       "        vertical-align: middle;\n",
       "    }\n",
       "\n",
       "    .dataframe tbody tr th {\n",
       "        vertical-align: top;\n",
       "    }\n",
       "\n",
       "    .dataframe thead th {\n",
       "        text-align: right;\n",
       "    }\n",
       "</style>\n",
       "<table border=\"1\" class=\"dataframe\">\n",
       "  <thead>\n",
       "    <tr style=\"text-align: right;\">\n",
       "      <th></th>\n",
       "      <th>EU</th>\n",
       "      <th>Year</th>\n",
       "    </tr>\n",
       "  </thead>\n",
       "  <tbody>\n",
       "    <tr>\n",
       "      <th>0</th>\n",
       "      <td>2.55</td>\n",
       "      <td>2021</td>\n",
       "    </tr>\n",
       "    <tr>\n",
       "      <th>1</th>\n",
       "      <td>0.50</td>\n",
       "      <td>2020</td>\n",
       "    </tr>\n",
       "    <tr>\n",
       "      <th>2</th>\n",
       "      <td>1.63</td>\n",
       "      <td>2019</td>\n",
       "    </tr>\n",
       "    <tr>\n",
       "      <th>3</th>\n",
       "      <td>1.74</td>\n",
       "      <td>20181960</td>\n",
       "    </tr>\n",
       "    <tr>\n",
       "      <th>4</th>\n",
       "      <td>1.43</td>\n",
       "      <td>2017</td>\n",
       "    </tr>\n",
       "    <tr>\n",
       "      <th>5</th>\n",
       "      <td>0.18</td>\n",
       "      <td>2016</td>\n",
       "    </tr>\n",
       "  </tbody>\n",
       "</table>\n",
       "</div>"
      ],
      "text/plain": [
       "     EU      Year\n",
       "0  2.55      2021\n",
       "1  0.50      2020\n",
       "2  1.63      2019\n",
       "3  1.74  20181960\n",
       "4  1.43      2017\n",
       "5  0.18      2016"
      ]
     },
     "execution_count": 93,
     "metadata": {},
     "output_type": "execute_result"
    }
   ],
   "source": [
    "#grouping by year and country to see the inflation rates in descending order\n",
    "EU__inflation = df.groupby('EU')['Year'].sum()\n",
    "_inflation = EU__inflation.sort_values(ascending=False).reset_index()\n",
    "EU_inflation = _inflation.head(6)\n",
    "EU_inflation"
   ]
  },
  {
   "cell_type": "code",
   "execution_count": 61,
   "id": "5a5b3419",
   "metadata": {},
   "outputs": [
    {
     "data": {
      "text/html": [
       "<div>\n",
       "<style scoped>\n",
       "    .dataframe tbody tr th:only-of-type {\n",
       "        vertical-align: middle;\n",
       "    }\n",
       "\n",
       "    .dataframe tbody tr th {\n",
       "        vertical-align: top;\n",
       "    }\n",
       "\n",
       "    .dataframe thead th {\n",
       "        text-align: right;\n",
       "    }\n",
       "</style>\n",
       "<table border=\"1\" class=\"dataframe\">\n",
       "  <thead>\n",
       "    <tr style=\"text-align: right;\">\n",
       "      <th></th>\n",
       "      <th>USA</th>\n",
       "      <th>Year</th>\n",
       "    </tr>\n",
       "  </thead>\n",
       "  <tbody>\n",
       "    <tr>\n",
       "      <th>0</th>\n",
       "      <td>4.70</td>\n",
       "      <td>2021</td>\n",
       "    </tr>\n",
       "    <tr>\n",
       "      <th>1</th>\n",
       "      <td>1.23</td>\n",
       "      <td>2020</td>\n",
       "    </tr>\n",
       "    <tr>\n",
       "      <th>2</th>\n",
       "      <td>1.81</td>\n",
       "      <td>2019</td>\n",
       "    </tr>\n",
       "    <tr>\n",
       "      <th>3</th>\n",
       "      <td>2.44</td>\n",
       "      <td>2018</td>\n",
       "    </tr>\n",
       "    <tr>\n",
       "      <th>4</th>\n",
       "      <td>2.13</td>\n",
       "      <td>2017</td>\n",
       "    </tr>\n",
       "  </tbody>\n",
       "</table>\n",
       "</div>"
      ],
      "text/plain": [
       "    USA  Year\n",
       "0  4.70  2021\n",
       "1  1.23  2020\n",
       "2  1.81  2019\n",
       "3  2.44  2018\n",
       "4  2.13  2017"
      ]
     },
     "execution_count": 61,
     "metadata": {},
     "output_type": "execute_result"
    }
   ],
   "source": [
    "#grouping by year and country to see the inflation rates in descending order\n",
    "USA__inflation = df.groupby('USA')['Year'].sum()\n",
    "_inflation = USA__inflation.sort_values(ascending=False).reset_index()\n",
    "USA_inflation = _inflation.head(5)\n",
    "USA_inflation"
   ]
  },
  {
   "cell_type": "code",
   "execution_count": 62,
   "id": "c1f69a08",
   "metadata": {},
   "outputs": [
    {
     "data": {
      "text/html": [
       "<div>\n",
       "<style scoped>\n",
       "    .dataframe tbody tr th:only-of-type {\n",
       "        vertical-align: middle;\n",
       "    }\n",
       "\n",
       "    .dataframe tbody tr th {\n",
       "        vertical-align: top;\n",
       "    }\n",
       "\n",
       "    .dataframe thead th {\n",
       "        text-align: right;\n",
       "    }\n",
       "</style>\n",
       "<table border=\"1\" class=\"dataframe\">\n",
       "  <thead>\n",
       "    <tr style=\"text-align: right;\">\n",
       "      <th></th>\n",
       "      <th>World</th>\n",
       "      <th>Year</th>\n",
       "    </tr>\n",
       "  </thead>\n",
       "  <tbody>\n",
       "    <tr>\n",
       "      <th>0</th>\n",
       "      <td>3.42</td>\n",
       "      <td>2021</td>\n",
       "    </tr>\n",
       "    <tr>\n",
       "      <th>1</th>\n",
       "      <td>1.92</td>\n",
       "      <td>2020</td>\n",
       "    </tr>\n",
       "    <tr>\n",
       "      <th>2</th>\n",
       "      <td>2.19</td>\n",
       "      <td>20192017</td>\n",
       "    </tr>\n",
       "    <tr>\n",
       "      <th>3</th>\n",
       "      <td>2.44</td>\n",
       "      <td>2018</td>\n",
       "    </tr>\n",
       "    <tr>\n",
       "      <th>4</th>\n",
       "      <td>1.55</td>\n",
       "      <td>2016</td>\n",
       "    </tr>\n",
       "  </tbody>\n",
       "</table>\n",
       "</div>"
      ],
      "text/plain": [
       "   World      Year\n",
       "0   3.42      2021\n",
       "1   1.92      2020\n",
       "2   2.19  20192017\n",
       "3   2.44      2018\n",
       "4   1.55      2016"
      ]
     },
     "execution_count": 62,
     "metadata": {},
     "output_type": "execute_result"
    }
   ],
   "source": [
    "#grouping by year and country to see the inflation rates in descending order\n",
    "World__inflation = df.groupby('World')['Year'].sum()\n",
    "_inflation = World__inflation.sort_values(ascending=False).reset_index()\n",
    "World_inflation = _inflation.head(5)\n",
    "World_inflation"
   ]
  },
  {
   "cell_type": "code",
   "execution_count": 96,
   "id": "19c88fbe",
   "metadata": {},
   "outputs": [
    {
     "data": {
      "image/png": "[encoded data removed]",
      "text/plain": [
       "<Figure size 1080x720 with 4 Axes>"
      ]
     },
     "metadata": {},
     "output_type": "display_data"
    }
   ],
   "source": [
    "sns.set_style(\"whitegrid\")\n",
    "\n",
    "#make a subplot of size 2,2\n",
    "plt.figure(figsize=(15,10))\n",
    "fig.tight_layout(pad=3)\n",
    "\n",
    "#inflation rates in Nigeria\n",
    "plt.subplot(2,2,1)\n",
    "ax1 = sns.lineplot(data = Ng_inflation, y = 'Nigeria', x = 'Year', color='red', linewidth=3, marker='o', markersize=10)\n",
    "ax1.title.set_text('years with highest inflation rates in Nigeria')\n",
    "ax1.grid(False)\n",
    "\n",
    "#inflation rates in EU\n",
    "plt.subplot(2,2,2)\n",
    "ax2 = sns.lineplot(data = EU_inflation, y = 'EU', x = 'Year', color='blue', linewidth=3, marker='o', markersize=10)\n",
    "ax2.title.set_text('years with highest inflation rates in EU')\n",
    "ax2.grid(False)\n",
    "\n",
    "#inflation rates in USA\n",
    "plt.subplot(2,2,3)\n",
    "ax3 = sns.lineplot(data = USA_inflation, y = 'USA', x = 'Year', color='black', linewidth=3, marker='o', markersize=10)\n",
    "ax3.title.set_text('years with highest inflation rates in USA')\n",
    "ax3.grid(False)\n",
    "\n",
    "#inflation rates in World\n",
    "plt.subplot(2,2,4)\n",
    "ax4 = sns.lineplot(data = World_inflation, y = 'World', x = 'Year', color='green', linewidth=3, marker='o', markersize=10)\n",
    "ax4.title.set_text('years with highest inflation rates in World')\n",
    "ax4.grid(False)\n",
    "plt.show()"
   ]
  },
  {
   "cell_type": "code",
   "execution_count": null,
   "id": "40a08f34",
   "metadata": {},
   "outputs": [],
   "source": []
  }
 ],
 "metadata": {
  "kernelspec": {
   "display_name": "Python 3 (ipykernel)",
   "language": "python",
   "name": "python3"
  },
  "language_info": {
   "codemirror_mode": {
    "name": "ipython",
    "version": 3
   },
   "file_extension": ".py",
   "mimetype": "text/x-python",
   "name": "python",
   "nbconvert_exporter": "python",
   "pygments_lexer": "ipython3",
   "version": "3.9.12"
  }
 },
 "nbformat": 4,
 "nbformat_minor": 5
}
