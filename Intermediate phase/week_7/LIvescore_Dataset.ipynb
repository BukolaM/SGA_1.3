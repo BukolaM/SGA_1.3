{
 "cells": [
  {
   "cell_type": "code",
   "execution_count": 1,
   "id": "2ff7c9f0",
   "metadata": {},
   "outputs": [],
   "source": [
    "import requests\n",
    "from bs4 import BeautifulSoup\n",
    "import pandas as pd"
   ]
  },
  {
   "cell_type": "code",
   "execution_count": 9,
   "id": "045e1b61",
   "metadata": {},
   "outputs": [
    {
     "data": {
      "text/plain": [
       "<Response [200]>"
      ]
     },
     "execution_count": 9,
     "metadata": {},
     "output_type": "execute_result"
    }
   ],
   "source": [
    "URL = \"https://www.livescores.com/football/england/premier-league/?tz=1\"\n",
    "page = requests.get(URL)\n",
    "page"
   ]
  },
  {
   "cell_type": "code",
   "execution_count": 10,
   "id": "bc7b7a9a",
   "metadata": {
    "scrolled": false
   },
   "outputs": [],
   "source": [
    "soup = BeautifulSoup(page.content, 'lxml')\n"
   ]
  },
  {
   "cell_type": "code",
   "execution_count": 12,
   "id": "e6d294db",
   "metadata": {},
   "outputs": [],
   "source": [
    "# headers = [header.text for header in table.select('thead tr th')]\n",
    "# results = [{headers[i]: cell.text for i, cell in enumerate(row.findAll(\"td\"))} for row in table.select(\"tbody tr\")]\n",
    "# # headers"
   ]
  },
  {
   "cell_type": "code",
   "execution_count": 13,
   "id": "d7616ae4",
   "metadata": {},
   "outputs": [],
   "source": [
    "# df = pd.DataFrame(results)\n",
    "# df"
   ]
  },
  {
   "cell_type": "code",
   "execution_count": null,
   "id": "b0a420a8",
   "metadata": {},
   "outputs": [],
   "source": []
  }
 ],
 "metadata": {
  "kernelspec": {
   "display_name": "Python 3 (ipykernel)",
   "language": "python",
   "name": "python3"
  },
  "language_info": {
   "codemirror_mode": {
    "name": "ipython",
    "version": 3
   },
   "file_extension": ".py",
   "mimetype": "text/x-python",
   "name": "python",
   "nbconvert_exporter": "python",
   "pygments_lexer": "ipython3",
   "version": "3.9.12"
  }
 },
 "nbformat": 4,
 "nbformat_minor": 5
}
