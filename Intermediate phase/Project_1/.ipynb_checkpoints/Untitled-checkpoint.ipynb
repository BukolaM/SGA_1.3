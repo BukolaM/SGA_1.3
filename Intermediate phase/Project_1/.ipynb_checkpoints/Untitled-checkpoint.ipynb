{
 "cells": [
  {
   "cell_type": "code",
   "execution_count": null,
   "id": "a27167a0",
   "metadata": {},
   "outputs": [],
   "source": [
    "# pip install git+https://github.com/JustAnotherArchivist/snscrape.git"
   ]
  },
  {
   "cell_type": "code",
   "execution_count": null,
   "id": "d04a6538",
   "metadata": {},
   "outputs": [],
   "source": [
    "import pandas as pd\n",
    "import snscrape.modules.twitter as sntwitter\n",
    "import itertools\n",
    "from datetime import datetime"
   ]
  },
  {
   "cell_type": "code",
   "execution_count": null,
   "id": "f013d8e0",
   "metadata": {},
   "outputs": [],
   "source": [
    "#Importing the datetime to calculate the time for scraping the 50000 tweets\n",
    "start_time = datetime.now()\n",
    "\n",
    "loc = '9.0820, 8.6753, 923768km'\n",
    "Ng = pd.DataFrame(itertools.islice(sntwitter.TwitterSearchScraper(\n",
    "    'geocode:\"{}\" since:2022-11-23 until:2022-12-18'.format(loc)).get_items(), 20000))\n",
    "\n",
    "end_time = datetime.now()\n",
    "\n",
    "Ng\n",
    "print('Duration: {}'.format(end_time - start_time))"
   ]
  },
  {
   "cell_type": "code",
   "execution_count": null,
   "id": "6dec1b29",
   "metadata": {},
   "outputs": [],
   "source": [
    "pd.set_option('display.max_rows', 10000)\n",
    "pd.set_option('display.max_columns', 10000)\n",
    "pd.set_option('display.max_colwidth', None)"
   ]
  },
  {
   "cell_type": "code",
   "execution_count": null,
   "id": "50f74a69",
   "metadata": {},
   "outputs": [],
   "source": [
    "Ng.head(2)"
   ]
  },
  {
   "cell_type": "code",
   "execution_count": null,
   "id": "641d6c1a",
   "metadata": {},
   "outputs": [],
   "source": []
  }
 ],
 "metadata": {
  "kernelspec": {
   "display_name": "Python 3 (ipykernel)",
   "language": "python",
   "name": "python3"
  },
  "language_info": {
   "codemirror_mode": {
    "name": "ipython",
    "version": 3
   },
   "file_extension": ".py",
   "mimetype": "text/x-python",
   "name": "python",
   "nbconvert_exporter": "python",
   "pygments_lexer": "ipython3",
   "version": "3.9.12"
  }
 },
 "nbformat": 4,
 "nbformat_minor": 5
}
