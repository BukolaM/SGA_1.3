{
 "cells": [
  {
   "cell_type": "code",
   "execution_count": 384,
   "id": "f7028a26",
   "metadata": {},
   "outputs": [],
   "source": [
    "#importing the required libraries\n",
    "import pandas as pd\n",
    "import numpy as np\n",
    "import seaborn as sns\n",
    "import matplotlib.pyplot as plt"
   ]
  },
  {
   "cell_type": "code",
   "execution_count": 385,
   "id": "be27c4d1",
   "metadata": {},
   "outputs": [
    {
     "data": {
      "text/html": [
       "<div>\n",
       "<style scoped>\n",
       "    .dataframe tbody tr th:only-of-type {\n",
       "        vertical-align: middle;\n",
       "    }\n",
       "\n",
       "    .dataframe tbody tr th {\n",
       "        vertical-align: top;\n",
       "    }\n",
       "\n",
       "    .dataframe thead th {\n",
       "        text-align: right;\n",
       "    }\n",
       "</style>\n",
       "<table border=\"1\" class=\"dataframe\">\n",
       "  <thead>\n",
       "    <tr style=\"text-align: right;\">\n",
       "      <th></th>\n",
       "      <th>id</th>\n",
       "      <th>imdb_id</th>\n",
       "      <th>popularity</th>\n",
       "      <th>budget</th>\n",
       "      <th>revenue</th>\n",
       "      <th>original_title</th>\n",
       "      <th>cast</th>\n",
       "      <th>homepage</th>\n",
       "      <th>director</th>\n",
       "      <th>tagline</th>\n",
       "      <th>...</th>\n",
       "      <th>overview</th>\n",
       "      <th>runtime</th>\n",
       "      <th>genres</th>\n",
       "      <th>production_companies</th>\n",
       "      <th>release_date</th>\n",
       "      <th>vote_count</th>\n",
       "      <th>vote_average</th>\n",
       "      <th>release_year</th>\n",
       "      <th>budget_adj</th>\n",
       "      <th>revenue_adj</th>\n",
       "    </tr>\n",
       "  </thead>\n",
       "  <tbody>\n",
       "    <tr>\n",
       "      <th>0</th>\n",
       "      <td>135397</td>\n",
       "      <td>tt0369610</td>\n",
       "      <td>32.985763</td>\n",
       "      <td>150000000</td>\n",
       "      <td>1513528810</td>\n",
       "      <td>Jurassic World</td>\n",
       "      <td>Chris Pratt|Bryce Dallas Howard|Irrfan Khan|Vi...</td>\n",
       "      <td>http://www.jurassicworld.com/</td>\n",
       "      <td>Colin Trevorrow</td>\n",
       "      <td>The park is open.</td>\n",
       "      <td>...</td>\n",
       "      <td>Twenty-two years after the events of Jurassic ...</td>\n",
       "      <td>124</td>\n",
       "      <td>Action|Adventure|Science Fiction|Thriller</td>\n",
       "      <td>Universal Studios|Amblin Entertainment|Legenda...</td>\n",
       "      <td>6/9/15</td>\n",
       "      <td>5562</td>\n",
       "      <td>6.5</td>\n",
       "      <td>2015</td>\n",
       "      <td>1.379999e+08</td>\n",
       "      <td>1.392446e+09</td>\n",
       "    </tr>\n",
       "    <tr>\n",
       "      <th>1</th>\n",
       "      <td>76341</td>\n",
       "      <td>tt1392190</td>\n",
       "      <td>28.419936</td>\n",
       "      <td>150000000</td>\n",
       "      <td>378436354</td>\n",
       "      <td>Mad Max: Fury Road</td>\n",
       "      <td>Tom Hardy|Charlize Theron|Hugh Keays-Byrne|Nic...</td>\n",
       "      <td>http://www.madmaxmovie.com/</td>\n",
       "      <td>George Miller</td>\n",
       "      <td>What a Lovely Day.</td>\n",
       "      <td>...</td>\n",
       "      <td>An apocalyptic story set in the furthest reach...</td>\n",
       "      <td>120</td>\n",
       "      <td>Action|Adventure|Science Fiction|Thriller</td>\n",
       "      <td>Village Roadshow Pictures|Kennedy Miller Produ...</td>\n",
       "      <td>5/13/15</td>\n",
       "      <td>6185</td>\n",
       "      <td>7.1</td>\n",
       "      <td>2015</td>\n",
       "      <td>1.379999e+08</td>\n",
       "      <td>3.481613e+08</td>\n",
       "    </tr>\n",
       "    <tr>\n",
       "      <th>2</th>\n",
       "      <td>262500</td>\n",
       "      <td>tt2908446</td>\n",
       "      <td>13.112507</td>\n",
       "      <td>110000000</td>\n",
       "      <td>295238201</td>\n",
       "      <td>Insurgent</td>\n",
       "      <td>Shailene Woodley|Theo James|Kate Winslet|Ansel...</td>\n",
       "      <td>http://www.thedivergentseries.movie/#insurgent</td>\n",
       "      <td>Robert Schwentke</td>\n",
       "      <td>One Choice Can Destroy You</td>\n",
       "      <td>...</td>\n",
       "      <td>Beatrice Prior must confront her inner demons ...</td>\n",
       "      <td>119</td>\n",
       "      <td>Adventure|Science Fiction|Thriller</td>\n",
       "      <td>Summit Entertainment|Mandeville Films|Red Wago...</td>\n",
       "      <td>3/18/15</td>\n",
       "      <td>2480</td>\n",
       "      <td>6.3</td>\n",
       "      <td>2015</td>\n",
       "      <td>1.012000e+08</td>\n",
       "      <td>2.716190e+08</td>\n",
       "    </tr>\n",
       "  </tbody>\n",
       "</table>\n",
       "<p>3 rows × 21 columns</p>\n",
       "</div>"
      ],
      "text/plain": [
       "       id    imdb_id  popularity     budget     revenue      original_title  \\\n",
       "0  135397  tt0369610   32.985763  150000000  1513528810      Jurassic World   \n",
       "1   76341  tt1392190   28.419936  150000000   378436354  Mad Max: Fury Road   \n",
       "2  262500  tt2908446   13.112507  110000000   295238201           Insurgent   \n",
       "\n",
       "                                                cast  \\\n",
       "0  Chris Pratt|Bryce Dallas Howard|Irrfan Khan|Vi...   \n",
       "1  Tom Hardy|Charlize Theron|Hugh Keays-Byrne|Nic...   \n",
       "2  Shailene Woodley|Theo James|Kate Winslet|Ansel...   \n",
       "\n",
       "                                         homepage          director  \\\n",
       "0                   http://www.jurassicworld.com/   Colin Trevorrow   \n",
       "1                     http://www.madmaxmovie.com/     George Miller   \n",
       "2  http://www.thedivergentseries.movie/#insurgent  Robert Schwentke   \n",
       "\n",
       "                      tagline  ...  \\\n",
       "0           The park is open.  ...   \n",
       "1          What a Lovely Day.  ...   \n",
       "2  One Choice Can Destroy You  ...   \n",
       "\n",
       "                                            overview runtime  \\\n",
       "0  Twenty-two years after the events of Jurassic ...     124   \n",
       "1  An apocalyptic story set in the furthest reach...     120   \n",
       "2  Beatrice Prior must confront her inner demons ...     119   \n",
       "\n",
       "                                      genres  \\\n",
       "0  Action|Adventure|Science Fiction|Thriller   \n",
       "1  Action|Adventure|Science Fiction|Thriller   \n",
       "2         Adventure|Science Fiction|Thriller   \n",
       "\n",
       "                                production_companies release_date vote_count  \\\n",
       "0  Universal Studios|Amblin Entertainment|Legenda...       6/9/15       5562   \n",
       "1  Village Roadshow Pictures|Kennedy Miller Produ...      5/13/15       6185   \n",
       "2  Summit Entertainment|Mandeville Films|Red Wago...      3/18/15       2480   \n",
       "\n",
       "   vote_average  release_year    budget_adj   revenue_adj  \n",
       "0           6.5          2015  1.379999e+08  1.392446e+09  \n",
       "1           7.1          2015  1.379999e+08  3.481613e+08  \n",
       "2           6.3          2015  1.012000e+08  2.716190e+08  \n",
       "\n",
       "[3 rows x 21 columns]"
      ]
     },
     "execution_count": 385,
     "metadata": {},
     "output_type": "execute_result"
    }
   ],
   "source": [
    "#importing and reading through the data\n",
    "df = pd.read_csv('tmdb-movies.csv')\n",
    "df.head(3)"
   ]
  },
  {
   "cell_type": "code",
   "execution_count": 339,
   "id": "20c325d7",
   "metadata": {},
   "outputs": [
    {
     "name": "stdout",
     "output_type": "stream",
     "text": [
      "<class 'pandas.core.frame.DataFrame'>\n",
      "RangeIndex: 10866 entries, 0 to 10865\n",
      "Data columns (total 21 columns):\n",
      " #   Column                Non-Null Count  Dtype  \n",
      "---  ------                --------------  -----  \n",
      " 0   id                    10866 non-null  int64  \n",
      " 1   imdb_id               10856 non-null  object \n",
      " 2   popularity            10866 non-null  float64\n",
      " 3   budget                10866 non-null  int64  \n",
      " 4   revenue               10866 non-null  int64  \n",
      " 5   original_title        10866 non-null  object \n",
      " 6   cast                  10790 non-null  object \n",
      " 7   homepage              2936 non-null   object \n",
      " 8   director              10822 non-null  object \n",
      " 9   tagline               8042 non-null   object \n",
      " 10  keywords              9373 non-null   object \n",
      " 11  overview              10862 non-null  object \n",
      " 12  runtime               10866 non-null  int64  \n",
      " 13  genres                10843 non-null  object \n",
      " 14  production_companies  9836 non-null   object \n",
      " 15  release_date          10866 non-null  object \n",
      " 16  vote_count            10866 non-null  int64  \n",
      " 17  vote_average          10866 non-null  float64\n",
      " 18  release_year          10866 non-null  int64  \n",
      " 19  budget_adj            10866 non-null  float64\n",
      " 20  revenue_adj           10866 non-null  float64\n",
      "dtypes: float64(4), int64(6), object(11)\n",
      "memory usage: 1.7+ MB\n"
     ]
    }
   ],
   "source": [
    "#information about the data\n",
    "df.info()"
   ]
  },
  {
   "cell_type": "code",
   "execution_count": 340,
   "id": "e1759d61",
   "metadata": {},
   "outputs": [
    {
     "data": {
      "text/html": [
       "<div>\n",
       "<style scoped>\n",
       "    .dataframe tbody tr th:only-of-type {\n",
       "        vertical-align: middle;\n",
       "    }\n",
       "\n",
       "    .dataframe tbody tr th {\n",
       "        vertical-align: top;\n",
       "    }\n",
       "\n",
       "    .dataframe thead th {\n",
       "        text-align: right;\n",
       "    }\n",
       "</style>\n",
       "<table border=\"1\" class=\"dataframe\">\n",
       "  <thead>\n",
       "    <tr style=\"text-align: right;\">\n",
       "      <th></th>\n",
       "      <th>id</th>\n",
       "      <th>popularity</th>\n",
       "      <th>budget</th>\n",
       "      <th>revenue</th>\n",
       "      <th>runtime</th>\n",
       "      <th>vote_count</th>\n",
       "      <th>vote_average</th>\n",
       "      <th>release_year</th>\n",
       "      <th>budget_adj</th>\n",
       "      <th>revenue_adj</th>\n",
       "    </tr>\n",
       "  </thead>\n",
       "  <tbody>\n",
       "    <tr>\n",
       "      <th>count</th>\n",
       "      <td>10866.000000</td>\n",
       "      <td>10866.000000</td>\n",
       "      <td>1.086600e+04</td>\n",
       "      <td>1.086600e+04</td>\n",
       "      <td>10866.000000</td>\n",
       "      <td>10866.000000</td>\n",
       "      <td>10866.000000</td>\n",
       "      <td>10866.000000</td>\n",
       "      <td>1.086600e+04</td>\n",
       "      <td>1.086600e+04</td>\n",
       "    </tr>\n",
       "    <tr>\n",
       "      <th>mean</th>\n",
       "      <td>66064.177434</td>\n",
       "      <td>0.646441</td>\n",
       "      <td>1.462570e+07</td>\n",
       "      <td>3.982332e+07</td>\n",
       "      <td>102.070863</td>\n",
       "      <td>217.389748</td>\n",
       "      <td>5.974922</td>\n",
       "      <td>2001.322658</td>\n",
       "      <td>1.755104e+07</td>\n",
       "      <td>5.136436e+07</td>\n",
       "    </tr>\n",
       "    <tr>\n",
       "      <th>std</th>\n",
       "      <td>92130.136561</td>\n",
       "      <td>1.000185</td>\n",
       "      <td>3.091321e+07</td>\n",
       "      <td>1.170035e+08</td>\n",
       "      <td>31.381405</td>\n",
       "      <td>575.619058</td>\n",
       "      <td>0.935142</td>\n",
       "      <td>12.812941</td>\n",
       "      <td>3.430616e+07</td>\n",
       "      <td>1.446325e+08</td>\n",
       "    </tr>\n",
       "    <tr>\n",
       "      <th>min</th>\n",
       "      <td>5.000000</td>\n",
       "      <td>0.000065</td>\n",
       "      <td>0.000000e+00</td>\n",
       "      <td>0.000000e+00</td>\n",
       "      <td>0.000000</td>\n",
       "      <td>10.000000</td>\n",
       "      <td>1.500000</td>\n",
       "      <td>1960.000000</td>\n",
       "      <td>0.000000e+00</td>\n",
       "      <td>0.000000e+00</td>\n",
       "    </tr>\n",
       "    <tr>\n",
       "      <th>25%</th>\n",
       "      <td>10596.250000</td>\n",
       "      <td>0.207583</td>\n",
       "      <td>0.000000e+00</td>\n",
       "      <td>0.000000e+00</td>\n",
       "      <td>90.000000</td>\n",
       "      <td>17.000000</td>\n",
       "      <td>5.400000</td>\n",
       "      <td>1995.000000</td>\n",
       "      <td>0.000000e+00</td>\n",
       "      <td>0.000000e+00</td>\n",
       "    </tr>\n",
       "    <tr>\n",
       "      <th>50%</th>\n",
       "      <td>20669.000000</td>\n",
       "      <td>0.383856</td>\n",
       "      <td>0.000000e+00</td>\n",
       "      <td>0.000000e+00</td>\n",
       "      <td>99.000000</td>\n",
       "      <td>38.000000</td>\n",
       "      <td>6.000000</td>\n",
       "      <td>2006.000000</td>\n",
       "      <td>0.000000e+00</td>\n",
       "      <td>0.000000e+00</td>\n",
       "    </tr>\n",
       "    <tr>\n",
       "      <th>75%</th>\n",
       "      <td>75610.000000</td>\n",
       "      <td>0.713817</td>\n",
       "      <td>1.500000e+07</td>\n",
       "      <td>2.400000e+07</td>\n",
       "      <td>111.000000</td>\n",
       "      <td>145.750000</td>\n",
       "      <td>6.600000</td>\n",
       "      <td>2011.000000</td>\n",
       "      <td>2.085325e+07</td>\n",
       "      <td>3.369710e+07</td>\n",
       "    </tr>\n",
       "    <tr>\n",
       "      <th>max</th>\n",
       "      <td>417859.000000</td>\n",
       "      <td>32.985763</td>\n",
       "      <td>4.250000e+08</td>\n",
       "      <td>2.781506e+09</td>\n",
       "      <td>900.000000</td>\n",
       "      <td>9767.000000</td>\n",
       "      <td>9.200000</td>\n",
       "      <td>2015.000000</td>\n",
       "      <td>4.250000e+08</td>\n",
       "      <td>2.827124e+09</td>\n",
       "    </tr>\n",
       "  </tbody>\n",
       "</table>\n",
       "</div>"
      ],
      "text/plain": [
       "                  id    popularity        budget       revenue       runtime  \\\n",
       "count   10866.000000  10866.000000  1.086600e+04  1.086600e+04  10866.000000   \n",
       "mean    66064.177434      0.646441  1.462570e+07  3.982332e+07    102.070863   \n",
       "std     92130.136561      1.000185  3.091321e+07  1.170035e+08     31.381405   \n",
       "min         5.000000      0.000065  0.000000e+00  0.000000e+00      0.000000   \n",
       "25%     10596.250000      0.207583  0.000000e+00  0.000000e+00     90.000000   \n",
       "50%     20669.000000      0.383856  0.000000e+00  0.000000e+00     99.000000   \n",
       "75%     75610.000000      0.713817  1.500000e+07  2.400000e+07    111.000000   \n",
       "max    417859.000000     32.985763  4.250000e+08  2.781506e+09    900.000000   \n",
       "\n",
       "         vote_count  vote_average  release_year    budget_adj   revenue_adj  \n",
       "count  10866.000000  10866.000000  10866.000000  1.086600e+04  1.086600e+04  \n",
       "mean     217.389748      5.974922   2001.322658  1.755104e+07  5.136436e+07  \n",
       "std      575.619058      0.935142     12.812941  3.430616e+07  1.446325e+08  \n",
       "min       10.000000      1.500000   1960.000000  0.000000e+00  0.000000e+00  \n",
       "25%       17.000000      5.400000   1995.000000  0.000000e+00  0.000000e+00  \n",
       "50%       38.000000      6.000000   2006.000000  0.000000e+00  0.000000e+00  \n",
       "75%      145.750000      6.600000   2011.000000  2.085325e+07  3.369710e+07  \n",
       "max     9767.000000      9.200000   2015.000000  4.250000e+08  2.827124e+09  "
      ]
     },
     "execution_count": 340,
     "metadata": {},
     "output_type": "execute_result"
    }
   ],
   "source": [
    "#decription of the data\n",
    "df.describe()"
   ]
  },
  {
   "cell_type": "code",
   "execution_count": 341,
   "id": "debf6920",
   "metadata": {},
   "outputs": [
    {
     "data": {
      "text/plain": [
       "id                         0\n",
       "imdb_id                   10\n",
       "popularity                 0\n",
       "budget                     0\n",
       "revenue                    0\n",
       "original_title             0\n",
       "cast                      76\n",
       "homepage                7930\n",
       "director                  44\n",
       "tagline                 2824\n",
       "keywords                1493\n",
       "overview                   4\n",
       "runtime                    0\n",
       "genres                    23\n",
       "production_companies    1030\n",
       "release_date               0\n",
       "vote_count                 0\n",
       "vote_average               0\n",
       "release_year               0\n",
       "budget_adj                 0\n",
       "revenue_adj                0\n",
       "dtype: int64"
      ]
     },
     "execution_count": 341,
     "metadata": {},
     "output_type": "execute_result"
    }
   ],
   "source": [
    "#columns with null values\n",
    "df.isnull().sum()"
   ]
  },
  {
   "cell_type": "code",
   "execution_count": 342,
   "id": "01c9e919",
   "metadata": {},
   "outputs": [
    {
     "data": {
      "text/plain": [
       "(10866, 21)"
      ]
     },
     "execution_count": 342,
     "metadata": {},
     "output_type": "execute_result"
    }
   ],
   "source": [
    "#the number of rows and columns \n",
    "df.shape"
   ]
  },
  {
   "cell_type": "code",
   "execution_count": 343,
   "id": "178b022a",
   "metadata": {},
   "outputs": [
    {
     "data": {
      "text/plain": [
       "False    10865\n",
       "True         1\n",
       "dtype: int64"
      ]
     },
     "execution_count": 343,
     "metadata": {},
     "output_type": "execute_result"
    }
   ],
   "source": [
    "#counts of duplicated values in each columns\n",
    "df.duplicated().value_counts()"
   ]
  },
  {
   "cell_type": "code",
   "execution_count": 344,
   "id": "641281c1",
   "metadata": {},
   "outputs": [
    {
     "data": {
      "text/plain": [
       "id                      10865\n",
       "imdb_id                 10855\n",
       "popularity              10814\n",
       "budget                    557\n",
       "revenue                  4702\n",
       "original_title          10571\n",
       "cast                    10719\n",
       "homepage                 2896\n",
       "director                 5067\n",
       "tagline                  7997\n",
       "keywords                 8804\n",
       "overview                10847\n",
       "runtime                   247\n",
       "genres                   2039\n",
       "production_companies     7445\n",
       "release_date             5909\n",
       "vote_count               1289\n",
       "vote_average               72\n",
       "release_year               56\n",
       "budget_adj               2614\n",
       "revenue_adj              4840\n",
       "dtype: int64"
      ]
     },
     "execution_count": 344,
     "metadata": {},
     "output_type": "execute_result"
    }
   ],
   "source": [
    "#the unique values in twitter enhanced archive csv information\n",
    "df.nunique()"
   ]
  },
  {
   "cell_type": "markdown",
   "id": "5c6d9fa0",
   "metadata": {},
   "source": [
    "## Creating a Copy of The Dataset"
   ]
  },
  {
   "cell_type": "code",
   "execution_count": 359,
   "id": "f61f5feb",
   "metadata": {},
   "outputs": [],
   "source": [
    "# creating a copy of the dataset\n",
    "df_m = df.copy()"
   ]
  },
  {
   "cell_type": "markdown",
   "id": "aedf98e5",
   "metadata": {},
   "source": [
    "## Data Cleaning"
   ]
  },
  {
   "cell_type": "markdown",
   "id": "55f44137",
   "metadata": {},
   "source": [
    "#### Issue 1:  Replacing the `cast` null values with `None` and seperating their details to get the exact cast details for each movie"
   ]
  },
  {
   "cell_type": "code",
   "execution_count": 360,
   "id": "3c696bfe",
   "metadata": {},
   "outputs": [],
   "source": [
    "#function to replace the slashes column and null values with None\n",
    "def column__replace(column):\n",
    "    column = str(column).replace(\"|\",\",\")\n",
    "    column = column.replace('nan', 'None')\n",
    "    return column"
   ]
  },
  {
   "cell_type": "code",
   "execution_count": 361,
   "id": "28bbb261",
   "metadata": {
    "scrolled": true
   },
   "outputs": [],
   "source": [
    "#replacing using the replace function\n",
    "df_m['cast'] = df_m['cast'].apply(column__replace)"
   ]
  },
  {
   "cell_type": "markdown",
   "id": "8a78d0e8",
   "metadata": {},
   "source": [
    "#### Issue 2:  Replacing the `keywords` null values with `None` and seperating their details to get the exact keywords "
   ]
  },
  {
   "cell_type": "code",
   "execution_count": 362,
   "id": "350879fd",
   "metadata": {},
   "outputs": [],
   "source": [
    "#replacing using the replace function\n",
    "df_m['keywords'] = df_m['keywords'].apply(column__replace)"
   ]
  },
  {
   "cell_type": "markdown",
   "id": "2ab64aeb",
   "metadata": {},
   "source": [
    "#### Issue 3:  Replacing the `genres` null values with `None` and seperating their details to get the exact genres"
   ]
  },
  {
   "cell_type": "code",
   "execution_count": 363,
   "id": "07cb1574",
   "metadata": {},
   "outputs": [],
   "source": [
    "#replacing using the replace function\n",
    "df_m['genres'] = df_m['genres'].apply(column__replace)"
   ]
  },
  {
   "cell_type": "markdown",
   "id": "a3bbc900",
   "metadata": {},
   "source": [
    "#### Issue 4:  Replacing the `production_companies` null values with `None` and seperating their details to get the exact production_companies"
   ]
  },
  {
   "cell_type": "code",
   "execution_count": 364,
   "id": "db26adb7",
   "metadata": {},
   "outputs": [],
   "source": [
    "#replacing using the replace function\n",
    "df_m['production_companies'] = df_m['production_companies'].apply(column__replace)"
   ]
  },
  {
   "cell_type": "markdown",
   "id": "b6bf3b21",
   "metadata": {},
   "source": [
    "#### Issue 5: Replacing the directors Nan values with `None`"
   ]
  },
  {
   "cell_type": "code",
   "execution_count": 365,
   "id": "b2629544",
   "metadata": {},
   "outputs": [],
   "source": [
    "df_m['director'] = df_m['director'].fillna('None')"
   ]
  },
  {
   "cell_type": "markdown",
   "id": "78913c55",
   "metadata": {},
   "source": [
    "#### Issue 6:  Normalizing the `release date` to extract the `release week day`"
   ]
  },
  {
   "cell_type": "code",
   "execution_count": 366,
   "id": "8c6ce0d3",
   "metadata": {},
   "outputs": [],
   "source": [
    "df_m['release_date_of_week'] = pd.to_datetime(df_m.release_date).dt.day_name()"
   ]
  },
  {
   "cell_type": "markdown",
   "id": "85d7ccc0",
   "metadata": {},
   "source": [
    "### Dropping Columns\n",
    "Unnecessary would be dropped off."
   ]
  },
  {
   "cell_type": "code",
   "execution_count": 367,
   "id": "054a3103",
   "metadata": {},
   "outputs": [],
   "source": [
    "#dropping the columns\n",
    "df_m.drop(['id','imdb_id', 'homepage', 'tagline', 'overview'], axis = 1, inplace = True)"
   ]
  },
  {
   "cell_type": "markdown",
   "id": "55a2efa3",
   "metadata": {},
   "source": [
    "### Drop Duplicates\n",
    "This dataset has rows movie that are duplicates, therefore, these would be dropped."
   ]
  },
  {
   "cell_type": "code",
   "execution_count": 368,
   "id": "a2035f5c",
   "metadata": {
    "scrolled": true
   },
   "outputs": [
    {
     "data": {
      "text/plain": [
       "False    10865\n",
       "True         1\n",
       "dtype: int64"
      ]
     },
     "execution_count": 368,
     "metadata": {},
     "output_type": "execute_result"
    }
   ],
   "source": [
    "#finding out number of duplicates rows\n",
    "df_m.duplicated().value_counts()"
   ]
  },
  {
   "cell_type": "code",
   "execution_count": 369,
   "id": "d58d24a0",
   "metadata": {},
   "outputs": [
    {
     "data": {
      "text/html": [
       "<div>\n",
       "<style scoped>\n",
       "    .dataframe tbody tr th:only-of-type {\n",
       "        vertical-align: middle;\n",
       "    }\n",
       "\n",
       "    .dataframe tbody tr th {\n",
       "        vertical-align: top;\n",
       "    }\n",
       "\n",
       "    .dataframe thead th {\n",
       "        text-align: right;\n",
       "    }\n",
       "</style>\n",
       "<table border=\"1\" class=\"dataframe\">\n",
       "  <thead>\n",
       "    <tr style=\"text-align: right;\">\n",
       "      <th></th>\n",
       "      <th>popularity</th>\n",
       "      <th>budget</th>\n",
       "      <th>revenue</th>\n",
       "      <th>original_title</th>\n",
       "      <th>cast</th>\n",
       "      <th>director</th>\n",
       "      <th>keywords</th>\n",
       "      <th>runtime</th>\n",
       "      <th>genres</th>\n",
       "      <th>production_companies</th>\n",
       "      <th>release_date</th>\n",
       "      <th>vote_count</th>\n",
       "      <th>vote_average</th>\n",
       "      <th>release_year</th>\n",
       "      <th>budget_adj</th>\n",
       "      <th>revenue_adj</th>\n",
       "      <th>release_date_of_week</th>\n",
       "    </tr>\n",
       "  </thead>\n",
       "  <tbody>\n",
       "    <tr>\n",
       "      <th>2089</th>\n",
       "      <td>0.59643</td>\n",
       "      <td>30000000</td>\n",
       "      <td>967000</td>\n",
       "      <td>TEKKEN</td>\n",
       "      <td>Jon Foo,Kelly Overton,Cary-Hiroyuki Tagawa,Ian...</td>\n",
       "      <td>Dwight H. Little</td>\n",
       "      <td>martial arts,dystopia,based on video game,mart...</td>\n",
       "      <td>92</td>\n",
       "      <td>Crime,Drama,Action,Thriller,Science Fiction</td>\n",
       "      <td>Namco,Light Song Films</td>\n",
       "      <td>3/20/10</td>\n",
       "      <td>110</td>\n",
       "      <td>5.0</td>\n",
       "      <td>2010</td>\n",
       "      <td>30000000.0</td>\n",
       "      <td>967000.0</td>\n",
       "      <td>Saturday</td>\n",
       "    </tr>\n",
       "    <tr>\n",
       "      <th>2090</th>\n",
       "      <td>0.59643</td>\n",
       "      <td>30000000</td>\n",
       "      <td>967000</td>\n",
       "      <td>TEKKEN</td>\n",
       "      <td>Jon Foo,Kelly Overton,Cary-Hiroyuki Tagawa,Ian...</td>\n",
       "      <td>Dwight H. Little</td>\n",
       "      <td>martial arts,dystopia,based on video game,mart...</td>\n",
       "      <td>92</td>\n",
       "      <td>Crime,Drama,Action,Thriller,Science Fiction</td>\n",
       "      <td>Namco,Light Song Films</td>\n",
       "      <td>3/20/10</td>\n",
       "      <td>110</td>\n",
       "      <td>5.0</td>\n",
       "      <td>2010</td>\n",
       "      <td>30000000.0</td>\n",
       "      <td>967000.0</td>\n",
       "      <td>Saturday</td>\n",
       "    </tr>\n",
       "  </tbody>\n",
       "</table>\n",
       "</div>"
      ],
      "text/plain": [
       "      popularity    budget  revenue original_title  \\\n",
       "2089     0.59643  30000000   967000         TEKKEN   \n",
       "2090     0.59643  30000000   967000         TEKKEN   \n",
       "\n",
       "                                                   cast          director  \\\n",
       "2089  Jon Foo,Kelly Overton,Cary-Hiroyuki Tagawa,Ian...  Dwight H. Little   \n",
       "2090  Jon Foo,Kelly Overton,Cary-Hiroyuki Tagawa,Ian...  Dwight H. Little   \n",
       "\n",
       "                                               keywords  runtime  \\\n",
       "2089  martial arts,dystopia,based on video game,mart...       92   \n",
       "2090  martial arts,dystopia,based on video game,mart...       92   \n",
       "\n",
       "                                           genres    production_companies  \\\n",
       "2089  Crime,Drama,Action,Thriller,Science Fiction  Namco,Light Song Films   \n",
       "2090  Crime,Drama,Action,Thriller,Science Fiction  Namco,Light Song Films   \n",
       "\n",
       "     release_date  vote_count  vote_average  release_year  budget_adj  \\\n",
       "2089      3/20/10         110           5.0          2010  30000000.0   \n",
       "2090      3/20/10         110           5.0          2010  30000000.0   \n",
       "\n",
       "      revenue_adj release_date_of_week  \n",
       "2089     967000.0             Saturday  \n",
       "2090     967000.0             Saturday  "
      ]
     },
     "execution_count": 369,
     "metadata": {},
     "output_type": "execute_result"
    }
   ],
   "source": [
    "#locating the duplicate rows\n",
    "df2 = df_m.loc[df_m['popularity']== 0.59643]\n",
    "df2"
   ]
  },
  {
   "cell_type": "code",
   "execution_count": 370,
   "id": "77f3f162",
   "metadata": {},
   "outputs": [],
   "source": [
    "#dropping duplicates\n",
    "df_m.drop_duplicates(inplace=True)"
   ]
  },
  {
   "cell_type": "markdown",
   "id": "6268fc4c",
   "metadata": {},
   "source": [
    "## Exporting the Cleaned Data to a New CSV"
   ]
  },
  {
   "cell_type": "code",
   "execution_count": 371,
   "id": "8e8c18dc",
   "metadata": {},
   "outputs": [],
   "source": [
    "#exporting the data to a new csv file\n",
    "df_movies = df_m.to_csv('cleaned_tmdb-movies.csv', index = False)"
   ]
  },
  {
   "cell_type": "markdown",
   "id": "5ef2de81",
   "metadata": {},
   "source": [
    "## Exploratory Data Analysis"
   ]
  },
  {
   "cell_type": "code",
   "execution_count": 391,
   "id": "a31317f3",
   "metadata": {},
   "outputs": [
    {
     "data": {
      "text/html": [
       "<div>\n",
       "<style scoped>\n",
       "    .dataframe tbody tr th:only-of-type {\n",
       "        vertical-align: middle;\n",
       "    }\n",
       "\n",
       "    .dataframe tbody tr th {\n",
       "        vertical-align: top;\n",
       "    }\n",
       "\n",
       "    .dataframe thead th {\n",
       "        text-align: right;\n",
       "    }\n",
       "</style>\n",
       "<table border=\"1\" class=\"dataframe\">\n",
       "  <thead>\n",
       "    <tr style=\"text-align: right;\">\n",
       "      <th></th>\n",
       "      <th>popularity</th>\n",
       "      <th>budget</th>\n",
       "      <th>revenue</th>\n",
       "      <th>original_title</th>\n",
       "      <th>cast</th>\n",
       "      <th>director</th>\n",
       "      <th>keywords</th>\n",
       "      <th>runtime</th>\n",
       "      <th>genres</th>\n",
       "      <th>production_companies</th>\n",
       "      <th>release_date</th>\n",
       "      <th>vote_count</th>\n",
       "      <th>vote_average</th>\n",
       "      <th>release_year</th>\n",
       "      <th>budget_adj</th>\n",
       "      <th>revenue_adj</th>\n",
       "      <th>release_date_of_week</th>\n",
       "    </tr>\n",
       "  </thead>\n",
       "  <tbody>\n",
       "    <tr>\n",
       "      <th>0</th>\n",
       "      <td>32.985763</td>\n",
       "      <td>150000000</td>\n",
       "      <td>1513528810</td>\n",
       "      <td>Jurassic World</td>\n",
       "      <td>Chris Pratt,Bryce Dallas Howard,Irrfan Khan,Vi...</td>\n",
       "      <td>Colin Trevorrow</td>\n",
       "      <td>monster,dna,tyrannosaurus rex,velociraptor,island</td>\n",
       "      <td>124</td>\n",
       "      <td>Action,Adventure,Science Fiction,Thriller</td>\n",
       "      <td>Universal Studios,Amblin Entertainment,Legenda...</td>\n",
       "      <td>6/9/15</td>\n",
       "      <td>5562</td>\n",
       "      <td>6.5</td>\n",
       "      <td>2015</td>\n",
       "      <td>1.379999e+08</td>\n",
       "      <td>1.392446e+09</td>\n",
       "      <td>Tuesday</td>\n",
       "    </tr>\n",
       "    <tr>\n",
       "      <th>1</th>\n",
       "      <td>28.419936</td>\n",
       "      <td>150000000</td>\n",
       "      <td>378436354</td>\n",
       "      <td>Mad Max: Fury Road</td>\n",
       "      <td>Tom Hardy,Charlize Theron,Hugh Keays-Byrne,Nic...</td>\n",
       "      <td>George Miller</td>\n",
       "      <td>future,chase,post-apocalyptic,dystopia,australia</td>\n",
       "      <td>120</td>\n",
       "      <td>Action,Adventure,Science Fiction,Thriller</td>\n",
       "      <td>Village Roadshow Pictures,Kennedy Miller Produ...</td>\n",
       "      <td>5/13/15</td>\n",
       "      <td>6185</td>\n",
       "      <td>7.1</td>\n",
       "      <td>2015</td>\n",
       "      <td>1.379999e+08</td>\n",
       "      <td>3.481613e+08</td>\n",
       "      <td>Wednesday</td>\n",
       "    </tr>\n",
       "  </tbody>\n",
       "</table>\n",
       "</div>"
      ],
      "text/plain": [
       "   popularity     budget     revenue      original_title  \\\n",
       "0   32.985763  150000000  1513528810      Jurassic World   \n",
       "1   28.419936  150000000   378436354  Mad Max: Fury Road   \n",
       "\n",
       "                                                cast         director  \\\n",
       "0  Chris Pratt,Bryce Dallas Howard,Irrfan Khan,Vi...  Colin Trevorrow   \n",
       "1  Tom Hardy,Charlize Theron,Hugh Keays-Byrne,Nic...    George Miller   \n",
       "\n",
       "                                            keywords  runtime  \\\n",
       "0  monster,dna,tyrannosaurus rex,velociraptor,island      124   \n",
       "1   future,chase,post-apocalyptic,dystopia,australia      120   \n",
       "\n",
       "                                      genres  \\\n",
       "0  Action,Adventure,Science Fiction,Thriller   \n",
       "1  Action,Adventure,Science Fiction,Thriller   \n",
       "\n",
       "                                production_companies release_date  vote_count  \\\n",
       "0  Universal Studios,Amblin Entertainment,Legenda...       6/9/15        5562   \n",
       "1  Village Roadshow Pictures,Kennedy Miller Produ...      5/13/15        6185   \n",
       "\n",
       "   vote_average  release_year    budget_adj   revenue_adj release_date_of_week  \n",
       "0           6.5          2015  1.379999e+08  1.392446e+09              Tuesday  \n",
       "1           7.1          2015  1.379999e+08  3.481613e+08            Wednesday  "
      ]
     },
     "execution_count": 391,
     "metadata": {},
     "output_type": "execute_result"
    }
   ],
   "source": [
    "df_movies = pd.read_csv('cleaned_tmdb-movies.csv')\n",
    "df_movies.head(2)"
   ]
  },
  {
   "cell_type": "markdown",
   "id": "d3ef8551",
   "metadata": {},
   "source": [
    "### <span style='color:#191970'> Question 1. What are top 20 movies based on their popularity?"
   ]
  },
  {
   "cell_type": "code",
   "execution_count": 399,
   "id": "b38143a4",
   "metadata": {},
   "outputs": [
    {
     "data": {
      "text/html": [
       "<div>\n",
       "<style scoped>\n",
       "    .dataframe tbody tr th:only-of-type {\n",
       "        vertical-align: middle;\n",
       "    }\n",
       "\n",
       "    .dataframe tbody tr th {\n",
       "        vertical-align: top;\n",
       "    }\n",
       "\n",
       "    .dataframe thead th {\n",
       "        text-align: right;\n",
       "    }\n",
       "</style>\n",
       "<table border=\"1\" class=\"dataframe\">\n",
       "  <thead>\n",
       "    <tr style=\"text-align: right;\">\n",
       "      <th></th>\n",
       "      <th>original_title</th>\n",
       "      <th>popularity</th>\n",
       "    </tr>\n",
       "  </thead>\n",
       "  <tbody>\n",
       "    <tr>\n",
       "      <th>0</th>\n",
       "      <td>Jurassic World</td>\n",
       "      <td>32.985763</td>\n",
       "    </tr>\n",
       "    <tr>\n",
       "      <th>1</th>\n",
       "      <td>Mad Max: Fury Road</td>\n",
       "      <td>28.419936</td>\n",
       "    </tr>\n",
       "    <tr>\n",
       "      <th>2</th>\n",
       "      <td>Interstellar</td>\n",
       "      <td>24.949134</td>\n",
       "    </tr>\n",
       "    <tr>\n",
       "      <th>3</th>\n",
       "      <td>Guardians of the Galaxy</td>\n",
       "      <td>14.311205</td>\n",
       "    </tr>\n",
       "    <tr>\n",
       "      <th>4</th>\n",
       "      <td>Insurgent</td>\n",
       "      <td>13.112507</td>\n",
       "    </tr>\n",
       "    <tr>\n",
       "      <th>5</th>\n",
       "      <td>Captain America: The Winter Soldier</td>\n",
       "      <td>12.971027</td>\n",
       "    </tr>\n",
       "    <tr>\n",
       "      <th>6</th>\n",
       "      <td>Star Wars</td>\n",
       "      <td>12.037933</td>\n",
       "    </tr>\n",
       "    <tr>\n",
       "      <th>7</th>\n",
       "      <td>John Wick</td>\n",
       "      <td>11.422751</td>\n",
       "    </tr>\n",
       "    <tr>\n",
       "      <th>8</th>\n",
       "      <td>Star Wars: The Force Awakens</td>\n",
       "      <td>11.173104</td>\n",
       "    </tr>\n",
       "    <tr>\n",
       "      <th>9</th>\n",
       "      <td>The Hunger Games: Mockingjay - Part 1</td>\n",
       "      <td>10.739009</td>\n",
       "    </tr>\n",
       "    <tr>\n",
       "      <th>10</th>\n",
       "      <td>The Hobbit: The Battle of the Five Armies</td>\n",
       "      <td>10.174599</td>\n",
       "    </tr>\n",
       "    <tr>\n",
       "      <th>11</th>\n",
       "      <td>Avatar</td>\n",
       "      <td>9.432768</td>\n",
       "    </tr>\n",
       "    <tr>\n",
       "      <th>12</th>\n",
       "      <td>The Revenant</td>\n",
       "      <td>9.421300</td>\n",
       "    </tr>\n",
       "    <tr>\n",
       "      <th>13</th>\n",
       "      <td>Inception</td>\n",
       "      <td>9.363643</td>\n",
       "    </tr>\n",
       "    <tr>\n",
       "      <th>14</th>\n",
       "      <td>Furious 7</td>\n",
       "      <td>9.335014</td>\n",
       "    </tr>\n",
       "    <tr>\n",
       "      <th>15</th>\n",
       "      <td>Fight Club</td>\n",
       "      <td>8.947905</td>\n",
       "    </tr>\n",
       "    <tr>\n",
       "      <th>16</th>\n",
       "      <td>Big Hero 6</td>\n",
       "      <td>8.691294</td>\n",
       "    </tr>\n",
       "    <tr>\n",
       "      <th>17</th>\n",
       "      <td>Terminator Genisys</td>\n",
       "      <td>8.654359</td>\n",
       "    </tr>\n",
       "    <tr>\n",
       "      <th>18</th>\n",
       "      <td>The Lord of the Rings: The Fellowship of the Ring</td>\n",
       "      <td>8.575419</td>\n",
       "    </tr>\n",
       "    <tr>\n",
       "      <th>19</th>\n",
       "      <td>The Dark Knight</td>\n",
       "      <td>8.466668</td>\n",
       "    </tr>\n",
       "  </tbody>\n",
       "</table>\n",
       "</div>"
      ],
      "text/plain": [
       "                                       original_title  popularity\n",
       "0                                      Jurassic World   32.985763\n",
       "1                                  Mad Max: Fury Road   28.419936\n",
       "2                                        Interstellar   24.949134\n",
       "3                             Guardians of the Galaxy   14.311205\n",
       "4                                           Insurgent   13.112507\n",
       "5                 Captain America: The Winter Soldier   12.971027\n",
       "6                                           Star Wars   12.037933\n",
       "7                                           John Wick   11.422751\n",
       "8                        Star Wars: The Force Awakens   11.173104\n",
       "9               The Hunger Games: Mockingjay - Part 1   10.739009\n",
       "10          The Hobbit: The Battle of the Five Armies   10.174599\n",
       "11                                             Avatar    9.432768\n",
       "12                                       The Revenant    9.421300\n",
       "13                                          Inception    9.363643\n",
       "14                                          Furious 7    9.335014\n",
       "15                                         Fight Club    8.947905\n",
       "16                                         Big Hero 6    8.691294\n",
       "17                                 Terminator Genisys    8.654359\n",
       "18  The Lord of the Rings: The Fellowship of the Ring    8.575419\n",
       "19                                    The Dark Knight    8.466668"
      ]
     },
     "execution_count": 399,
     "metadata": {},
     "output_type": "execute_result"
    }
   ],
   "source": [
    "#ordering the movies in descending order\n",
    "df_movies_t = df_movies.groupby('original_title')['popularity'].sum()\n",
    "df_movies_tt= df_movies_t.sort_values(ascending=False).reset_index()\n",
    "df_movies_title = df_movies_tt.head(20)\n",
    "df_movies_title"
   ]
  },
  {
   "cell_type": "code",
   "execution_count": 416,
   "id": "3e41477e",
   "metadata": {},
   "outputs": [
    {
     "data": {
      "image/png": "[encoded data removed]",
      "text/plain": [
       "<Figure size 1440x576 with 1 Axes>"
      ]
     },
     "metadata": {},
     "output_type": "display_data"
    }
   ],
   "source": [
    "#plotting the chart to display the analysis\n",
    "plt.figure(figsize=(20,8))\n",
    "ax = sns.barplot(data =df_movies_title, y='original_title', x='popularity', palette='cubehelix')\n",
    "\n",
    "#setting the properties for the chart\n",
    "sns.set_theme(style=\"darkgrid\")\n",
    "ax.grid(False)\n",
    "ax.set_title('top 20 movies based on their popularity', fontsize =20)\n",
    "ax.set_xlabel('movies title', fontsize = 15)\n",
    "ax.set_ylabel('total popularity', fontsize = 15)\n",
    "\n",
    "#saving the chart\n",
    "plt.show()"
   ]
  },
  {
   "cell_type": "code",
   "execution_count": null,
   "id": "2ad026d3",
   "metadata": {},
   "outputs": [],
   "source": []
  }
 ],
 "metadata": {
  "kernelspec": {
   "display_name": "Python 3 (ipykernel)",
   "language": "python",
   "name": "python3"
  },
  "language_info": {
   "codemirror_mode": {
    "name": "ipython",
    "version": 3
   },
   "file_extension": ".py",
   "mimetype": "text/x-python",
   "name": "python",
   "nbconvert_exporter": "python",
   "pygments_lexer": "ipython3",
   "version": "3.9.12"
  }
 },
 "nbformat": 4,
 "nbformat_minor": 5
}
