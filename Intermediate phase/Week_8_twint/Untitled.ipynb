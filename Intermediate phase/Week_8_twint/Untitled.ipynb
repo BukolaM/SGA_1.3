{
 "cells": [
  {
   "cell_type": "code",
   "execution_count": 1,
   "id": "2da3b4a5",
   "metadata": {},
   "outputs": [
    {
     "name": "stdout",
     "output_type": "stream",
     "text": [
      "Collecting twint\n",
      "  Cloning https://github.com/twintproject/twint.git (to revision origin/master) to /private/var/folders/73/dfnlcqg57w7btn76pt1r17cm0000gp/T/pip-install-0n2wem5z/twint_f192fe3c27e74c60aeff0d7df75f2244\n",
      "  Running command git clone -q https://github.com/twintproject/twint.git /private/var/folders/73/dfnlcqg57w7btn76pt1r17cm0000gp/T/pip-install-0n2wem5z/twint_f192fe3c27e74c60aeff0d7df75f2244\n",
      "\u001b[33m  WARNING: Did not find branch or tag 'origin/master', assuming revision or ref.\u001b[0m\n",
      "  Running command git checkout -q origin/master\n",
      "  Resolved https://github.com/twintproject/twint.git to commit origin/master\n",
      "Requirement already satisfied: aiohttp in /Users/bukola/opt/anaconda3/lib/python3.9/site-packages (from twint) (3.8.1)\n",
      "Requirement already satisfied: aiodns in /Users/bukola/opt/anaconda3/lib/python3.9/site-packages (from twint) (3.0.0)\n",
      "Requirement already satisfied: beautifulsoup4 in /Users/bukola/opt/anaconda3/lib/python3.9/site-packages (from twint) (4.11.1)\n",
      "Requirement already satisfied: cchardet in /Users/bukola/opt/anaconda3/lib/python3.9/site-packages (from twint) (2.1.7)\n",
      "Collecting dataclasses\n",
      "  Downloading dataclasses-0.6-py3-none-any.whl (14 kB)\n",
      "Requirement already satisfied: elasticsearch in /Users/bukola/opt/anaconda3/lib/python3.9/site-packages (from twint) (8.5.2)\n",
      "Requirement already satisfied: pysocks in /Users/bukola/opt/anaconda3/lib/python3.9/site-packages (from twint) (1.7.1)\n",
      "Requirement already satisfied: pandas in /Users/bukola/opt/anaconda3/lib/python3.9/site-packages (from twint) (1.4.2)\n",
      "Requirement already satisfied: aiohttp_socks in /Users/bukola/opt/anaconda3/lib/python3.9/site-packages (from twint) (0.7.1)\n",
      "Requirement already satisfied: schedule in /Users/bukola/opt/anaconda3/lib/python3.9/site-packages (from twint) (1.1.0)\n",
      "Requirement already satisfied: geopy in /Users/bukola/opt/anaconda3/lib/python3.9/site-packages (from twint) (2.3.0)\n",
      "Requirement already satisfied: fake-useragent in /Users/bukola/opt/anaconda3/lib/python3.9/site-packages (from twint) (1.1.1)\n",
      "Requirement already satisfied: googletransx in /Users/bukola/opt/anaconda3/lib/python3.9/site-packages (from twint) (2.4.2)\n",
      "Requirement already satisfied: pycares>=4.0.0 in /Users/bukola/opt/anaconda3/lib/python3.9/site-packages (from aiodns->twint) (4.2.2)\n",
      "Requirement already satisfied: cffi>=1.5.0 in /Users/bukola/opt/anaconda3/lib/python3.9/site-packages (from pycares>=4.0.0->aiodns->twint) (1.15.0)\n",
      "Requirement already satisfied: pycparser in /Users/bukola/opt/anaconda3/lib/python3.9/site-packages (from cffi>=1.5.0->pycares>=4.0.0->aiodns->twint) (2.21)\n",
      "Requirement already satisfied: attrs>=17.3.0 in /Users/bukola/opt/anaconda3/lib/python3.9/site-packages (from aiohttp->twint) (21.4.0)\n",
      "Requirement already satisfied: frozenlist>=1.1.1 in /Users/bukola/opt/anaconda3/lib/python3.9/site-packages (from aiohttp->twint) (1.2.0)\n",
      "Requirement already satisfied: charset-normalizer<3.0,>=2.0 in /Users/bukola/opt/anaconda3/lib/python3.9/site-packages (from aiohttp->twint) (2.0.4)\n",
      "Requirement already satisfied: aiosignal>=1.1.2 in /Users/bukola/opt/anaconda3/lib/python3.9/site-packages (from aiohttp->twint) (1.2.0)\n",
      "Requirement already satisfied: multidict<7.0,>=4.5 in /Users/bukola/opt/anaconda3/lib/python3.9/site-packages (from aiohttp->twint) (5.2.0)\n",
      "Requirement already satisfied: yarl<2.0,>=1.0 in /Users/bukola/opt/anaconda3/lib/python3.9/site-packages (from aiohttp->twint) (1.6.3)\n",
      "Requirement already satisfied: async-timeout<5.0,>=4.0.0a3 in /Users/bukola/opt/anaconda3/lib/python3.9/site-packages (from aiohttp->twint) (4.0.1)\n",
      "Requirement already satisfied: typing-extensions>=3.6.5 in /Users/bukola/opt/anaconda3/lib/python3.9/site-packages (from async-timeout<5.0,>=4.0.0a3->aiohttp->twint) (4.1.1)\n",
      "Requirement already satisfied: idna>=2.0 in /Users/bukola/opt/anaconda3/lib/python3.9/site-packages (from yarl<2.0,>=1.0->aiohttp->twint) (3.3)\n",
      "Requirement already satisfied: python-socks[asyncio]<3.0.0,>=2.0.0 in /Users/bukola/opt/anaconda3/lib/python3.9/site-packages (from aiohttp_socks->twint) (2.0.3)\n",
      "Requirement already satisfied: soupsieve>1.2 in /Users/bukola/opt/anaconda3/lib/python3.9/site-packages (from beautifulsoup4->twint) (2.3.1)\n",
      "Requirement already satisfied: elastic-transport<9,>=8 in /Users/bukola/opt/anaconda3/lib/python3.9/site-packages (from elasticsearch->twint) (8.4.0)\n",
      "Requirement already satisfied: certifi in /Users/bukola/opt/anaconda3/lib/python3.9/site-packages (from elastic-transport<9,>=8->elasticsearch->twint) (2021.10.8)\n",
      "Requirement already satisfied: urllib3<2,>=1.26.2 in /Users/bukola/opt/anaconda3/lib/python3.9/site-packages (from elastic-transport<9,>=8->elasticsearch->twint) (1.26.9)\n",
      "Requirement already satisfied: importlib-resources>=5.0 in /Users/bukola/opt/anaconda3/lib/python3.9/site-packages (from fake-useragent->twint) (5.10.0)\n",
      "Requirement already satisfied: zipp>=3.1.0 in /Users/bukola/opt/anaconda3/lib/python3.9/site-packages (from importlib-resources>=5.0->fake-useragent->twint) (3.7.0)\n",
      "Requirement already satisfied: geographiclib<3,>=1.52 in /Users/bukola/opt/anaconda3/lib/python3.9/site-packages (from geopy->twint) (2.0)\n",
      "Requirement already satisfied: requests in /Users/bukola/opt/anaconda3/lib/python3.9/site-packages (from googletransx->twint) (2.27.1)\n",
      "Requirement already satisfied: python-dateutil>=2.8.1 in /Users/bukola/opt/anaconda3/lib/python3.9/site-packages (from pandas->twint) (2.8.2)\n",
      "Requirement already satisfied: pytz>=2020.1 in /Users/bukola/opt/anaconda3/lib/python3.9/site-packages (from pandas->twint) (2021.3)\n",
      "Requirement already satisfied: numpy>=1.18.5 in /Users/bukola/opt/anaconda3/lib/python3.9/site-packages (from pandas->twint) (1.21.5)\n",
      "Requirement already satisfied: six>=1.5 in /Users/bukola/opt/anaconda3/lib/python3.9/site-packages (from python-dateutil>=2.8.1->pandas->twint) (1.16.0)\n",
      "Building wheels for collected packages: twint\n",
      "  Building wheel for twint (setup.py) ... \u001b[?25ldone\n",
      "\u001b[?25h  Created wheel for twint: filename=twint-2.1.21-py3-none-any.whl size=38869 sha256=007fa991922c0d0e9266b187e4369c0f9a3bd2fab02b5aca98a4adcf147ae513\n",
      "  Stored in directory: /private/var/folders/73/dfnlcqg57w7btn76pt1r17cm0000gp/T/pip-ephem-wheel-cache-xbhlcuv7/wheels/d8/d2/0f/7a146624472827e7ae5427bb9df38249a490ef724626ad56ba\n",
      "Successfully built twint\n",
      "Installing collected packages: dataclasses, twint\n",
      "\u001b[33m  WARNING: The script twint is installed in '/Users/bukola/.local/bin' which is not on PATH.\n",
      "  Consider adding this directory to PATH or, if you prefer to suppress this warning, use --no-warn-script-location.\u001b[0m\n",
      "Successfully installed dataclasses-0.6 twint-2.1.21\n"
     ]
    }
   ],
   "source": [
    "!pip3 install --user --upgrade git+https://github.com/twintproject/twint.git@origin/master#egg=twint"
   ]
  },
  {
   "cell_type": "code",
   "execution_count": 2,
   "id": "c08d4ef1",
   "metadata": {},
   "outputs": [],
   "source": [
    "import pandas as pd\n",
    "import twint\n",
    "import re\n",
    "import requests\n",
    "import nest_asyncio\n",
    "nest_asyncio.apply()"
   ]
  },
  {
   "cell_type": "code",
   "execution_count": 3,
   "id": "f08d43e2",
   "metadata": {},
   "outputs": [
    {
     "name": "stderr",
     "output_type": "stream",
     "text": [
      "CRITICAL:root:twint.run:Twint:Feed:noDataExpecting value: line 1 column 1 (char 0)\n",
      "sleeping for 1.0 secs\n",
      "CRITICAL:root:twint.run:Twint:Feed:noDataExpecting value: line 1 column 1 (char 0)\n",
      "sleeping for 8.0 secs\n",
      "CRITICAL:root:twint.run:Twint:Feed:noDataExpecting value: line 1 column 1 (char 0)\n",
      "sleeping for 27.0 secs\n",
      "CRITICAL:root:twint.run:Twint:Feed:noDataExpecting value: line 1 column 1 (char 0)\n",
      "sleeping for 64.0 secs\n",
      "CRITICAL:root:twint.run:Twint:Feed:noDataExpecting value: line 1 column 1 (char 0)\n",
      "sleeping for 125.0 secs\n",
      "CRITICAL:root:twint.run:Twint:Feed:noDataExpecting value: line 1 column 1 (char 0)\n",
      "sleeping for 216.0 secs\n",
      "CRITICAL:root:twint.run:Twint:Feed:noDataExpecting value: line 1 column 1 (char 0)\n",
      "sleeping for 343.0 secs\n",
      "CRITICAL:root:twint.run:Twint:Feed:noDataExpecting value: line 1 column 1 (char 0)\n",
      "sleeping for 512.0 secs\n",
      "CRITICAL:root:twint.run:Twint:Feed:noDataExpecting value: line 1 column 1 (char 0)\n",
      "sleeping for 729.0 secs\n",
      "CRITICAL:root:twint.run:Twint:Feed:noDataExpecting value: line 1 column 1 (char 0)\n",
      "CRITICAL:root:twint.run:Twint:Feed:Tweets_known_error:Expecting value: line 1 column 1 (char 0)\n",
      "Expecting value: line 1 column 1 (char 0) [x] run.Feed[!] if get this error but you know for sure that more tweets exist, please open an issue and we will investigate it!"
     ]
    }
   ],
   "source": [
    "c = twint.Config()\n",
    "c.Search = '\"covid\" lang:id'\n",
    "#c.Limit = 25000\n",
    "c.Limit = 10000\n",
    "c.Since = \"2021-01-01\" \n",
    "c.Until = \"2021-12-31\"\n",
    "c.Store_csv = True\n",
    "c.Output = 'drive/My Drive/skripsi2/datatwittercovid.csv'\n",
    "\n",
    "twint.run.Search(c)"
   ]
  },
  {
   "cell_type": "code",
   "execution_count": 4,
   "id": "8024f4b9",
   "metadata": {},
   "outputs": [],
   "source": [
    "bank_name={'Guarantee Trust Bank':'gtb OR \\ gtbank',\n",
    "    'Zenith Bank':'zenith bank',\n",
    "    'UBA':'UBA',\n",
    "    'Access Bank':'access bank',\n",
    "    'Fidelity Bank':'fidelity bank',\n",
    "    'Eco Bank':'eco bank',\n",
    "    'Wema Bank':'wema bank',\n",
    "    'Kuda bank':'kuda bank',\n",
    "    'Opay':'opay'}"
   ]
  },
  {
   "cell_type": "code",
   "execution_count": 5,
   "id": "a8c9626b",
   "metadata": {},
   "outputs": [],
   "source": []
  },
  {
   "cell_type": "code",
   "execution_count": null,
   "id": "4f0f4de9",
   "metadata": {},
   "outputs": [],
   "source": []
  },
  {
   "cell_type": "code",
   "execution_count": null,
   "id": "e101662f",
   "metadata": {},
   "outputs": [],
   "source": []
  },
  {
   "cell_type": "code",
   "execution_count": null,
   "id": "11efded2",
   "metadata": {},
   "outputs": [],
   "source": []
  }
 ],
 "metadata": {
  "kernelspec": {
   "display_name": "Python 3 (ipykernel)",
   "language": "python",
   "name": "python3"
  },
  "language_info": {
   "codemirror_mode": {
    "name": "ipython",
    "version": 3
   },
   "file_extension": ".py",
   "mimetype": "text/x-python",
   "name": "python",
   "nbconvert_exporter": "python",
   "pygments_lexer": "ipython3",
   "version": "3.9.12"
  }
 },
 "nbformat": 4,
 "nbformat_minor": 5
}
