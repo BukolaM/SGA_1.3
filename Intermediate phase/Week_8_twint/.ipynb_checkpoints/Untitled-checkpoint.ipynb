{
 "cells": [
  {
   "cell_type": "code",
   "execution_count": null,
   "id": "fe3a0178",
   "metadata": {},
   "outputs": [],
   "source": [
    "import pandas as pd\n",
    "import twint\n",
    "import re\n",
    "import requests\n",
    "import nest_asyncio\n",
    "nest_asyncio.apply()"
   ]
  },
  {
   "cell_type": "code",
   "execution_count": null,
   "id": "fbd91e87",
   "metadata": {},
   "outputs": [],
   "source": [
    "import twint\n",
    "\n",
    "c = twint.Config()\n",
    "c.Limit = 20\n",
    "c.Username = 'mgrt5'\n",
    "c.Pandas = True\n",
    "c.User_full = True\n",
    "\n",
    "twint.run.Followers(c)\n",
    "\n",
    "Users_df = twint.storage.panda.User_df"
   ]
  },
  {
   "cell_type": "code",
   "execution_count": null,
   "id": "edf49180",
   "metadata": {},
   "outputs": [],
   "source": [
    "Users_df"
   ]
  },
  {
   "cell_type": "code",
   "execution_count": null,
   "id": "08ccebad",
   "metadata": {},
   "outputs": [],
   "source": [
    "t = twint.Config()\n",
    "t.Username = \"Himansh70809561\"\n",
    "twint.run.Followers(t)\n",
    "t.Limit = 30\n",
    "# t.Username = 'Analyticsindiam'\n",
    "t.Pandas = True\n",
    "# twint.run.Followers(t)\n",
    "follow_df = twint.storage.panda.User_df\n"
   ]
  },
  {
   "cell_type": "code",
   "execution_count": null,
   "id": "66f6de38",
   "metadata": {},
   "outputs": [],
   "source": [
    "print(follow_df)"
   ]
  },
  {
   "cell_type": "code",
   "execution_count": null,
   "id": "6db31fdc",
   "metadata": {
    "scrolled": true
   },
   "outputs": [],
   "source": [
    "config = twint.Config()\n",
    "config.Search = \"bitcoin\"\n",
    "config.Limit = 10\n",
    "#running search\n",
    "twint.run.Search(config)"
   ]
  },
  {
   "cell_type": "code",
   "execution_count": null,
   "id": "66886b2f",
   "metadata": {},
   "outputs": [],
   "source": [
    "Tweets_df = twint.storage.panda.Tweets_df\n",
    "Tweets_df"
   ]
  },
  {
   "cell_type": "code",
   "execution_count": null,
   "id": "34f93a8d",
   "metadata": {},
   "outputs": [],
   "source": [
    "c = twint.Config()\n",
    "c.Username = \"narendramodi\"\n",
    "c.Limit = 1\n",
    "# c.Since = \"2020–10–12\"\n",
    "# Run\n",
    "twint.run.Search(c)"
   ]
  },
  {
   "cell_type": "code",
   "execution_count": null,
   "id": "d0377e6f",
   "metadata": {},
   "outputs": [],
   "source": []
  }
 ],
 "metadata": {
  "kernelspec": {
   "display_name": "Python 3 (ipykernel)",
   "language": "python",
   "name": "python3"
  },
  "language_info": {
   "codemirror_mode": {
    "name": "ipython",
    "version": 3
   },
   "file_extension": ".py",
   "mimetype": "text/x-python",
   "name": "python",
   "nbconvert_exporter": "python",
   "pygments_lexer": "ipython3",
   "version": "3.9.12"
  }
 },
 "nbformat": 4,
 "nbformat_minor": 5
}
