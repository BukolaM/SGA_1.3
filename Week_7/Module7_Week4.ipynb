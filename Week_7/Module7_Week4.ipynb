{
 "cells": [
  {
   "cell_type": "markdown",
   "id": "2e1faf83",
   "metadata": {},
   "source": [
    "## Introduction \n",
    "The aim of analysisng this dataset is to show the distribution of the following questions below"
   ]
  },
  {
   "cell_type": "code",
   "execution_count": 2,
   "id": "ba1c1de9",
   "metadata": {},
   "outputs": [],
   "source": [
    "import pandas as pd\n",
    "# converting the float columns to 2 decimal places\n",
    "pd.set_option('display.float_format', lambda x: '%.2f' % x)"
   ]
  },
  {
   "cell_type": "code",
   "execution_count": 3,
   "id": "66969dd3",
   "metadata": {},
   "outputs": [],
   "source": [
    "df = pd.read_csv('./house_pricing_dataset.csv')"
   ]
  },
  {
   "cell_type": "markdown",
   "id": "0b594716",
   "metadata": {},
   "source": [
    "## Making a Copy of The Dataset\n",
    "I would be working with this copy through while the original dataframe would be for referencing when needed."
   ]
  },
  {
   "cell_type": "code",
   "execution_count": 4,
   "id": "7382d9dc",
   "metadata": {},
   "outputs": [],
   "source": [
    "#making a copy\n",
    "df_housing = df.copy()"
   ]
  },
  {
   "cell_type": "code",
   "execution_count": 5,
   "id": "7d3ab2cd",
   "metadata": {
    "scrolled": false
   },
   "outputs": [
    {
     "data": {
      "text/html": [
       "<div>\n",
       "<style scoped>\n",
       "    .dataframe tbody tr th:only-of-type {\n",
       "        vertical-align: middle;\n",
       "    }\n",
       "\n",
       "    .dataframe tbody tr th {\n",
       "        vertical-align: top;\n",
       "    }\n",
       "\n",
       "    .dataframe thead th {\n",
       "        text-align: right;\n",
       "    }\n",
       "</style>\n",
       "<table border=\"1\" class=\"dataframe\">\n",
       "  <thead>\n",
       "    <tr style=\"text-align: right;\">\n",
       "      <th></th>\n",
       "      <th>date</th>\n",
       "      <th>price</th>\n",
       "      <th>bedrooms</th>\n",
       "      <th>bathrooms</th>\n",
       "      <th>sqft_living</th>\n",
       "      <th>sqft_lot</th>\n",
       "      <th>floors</th>\n",
       "      <th>waterfront</th>\n",
       "      <th>view</th>\n",
       "      <th>condition</th>\n",
       "      <th>sqft_above</th>\n",
       "      <th>sqft_basement</th>\n",
       "      <th>yr_built</th>\n",
       "      <th>yr_renovated</th>\n",
       "      <th>street</th>\n",
       "      <th>city</th>\n",
       "      <th>statezip</th>\n",
       "      <th>country</th>\n",
       "    </tr>\n",
       "  </thead>\n",
       "  <tbody>\n",
       "    <tr>\n",
       "      <th>0</th>\n",
       "      <td>2014-05-02 00:00:00</td>\n",
       "      <td>313000.00</td>\n",
       "      <td>3.00</td>\n",
       "      <td>1.50</td>\n",
       "      <td>1340</td>\n",
       "      <td>7912</td>\n",
       "      <td>1.50</td>\n",
       "      <td>0</td>\n",
       "      <td>0</td>\n",
       "      <td>3</td>\n",
       "      <td>1340</td>\n",
       "      <td>0</td>\n",
       "      <td>1955</td>\n",
       "      <td>2005</td>\n",
       "      <td>18810 Densmore Ave N</td>\n",
       "      <td>Shoreline</td>\n",
       "      <td>WA 98133</td>\n",
       "      <td>USA</td>\n",
       "    </tr>\n",
       "    <tr>\n",
       "      <th>1</th>\n",
       "      <td>2014-05-02 00:00:00</td>\n",
       "      <td>2384000.00</td>\n",
       "      <td>5.00</td>\n",
       "      <td>2.50</td>\n",
       "      <td>3650</td>\n",
       "      <td>9050</td>\n",
       "      <td>2.00</td>\n",
       "      <td>0</td>\n",
       "      <td>4</td>\n",
       "      <td>5</td>\n",
       "      <td>3370</td>\n",
       "      <td>280</td>\n",
       "      <td>1921</td>\n",
       "      <td>0</td>\n",
       "      <td>709 W Blaine St</td>\n",
       "      <td>Seattle</td>\n",
       "      <td>WA 98119</td>\n",
       "      <td>USA</td>\n",
       "    </tr>\n",
       "    <tr>\n",
       "      <th>2</th>\n",
       "      <td>2014-05-02 00:00:00</td>\n",
       "      <td>342000.00</td>\n",
       "      <td>3.00</td>\n",
       "      <td>2.00</td>\n",
       "      <td>1930</td>\n",
       "      <td>11947</td>\n",
       "      <td>1.00</td>\n",
       "      <td>0</td>\n",
       "      <td>0</td>\n",
       "      <td>4</td>\n",
       "      <td>1930</td>\n",
       "      <td>0</td>\n",
       "      <td>1966</td>\n",
       "      <td>0</td>\n",
       "      <td>26206-26214 143rd Ave SE</td>\n",
       "      <td>Kent</td>\n",
       "      <td>WA 98042</td>\n",
       "      <td>USA</td>\n",
       "    </tr>\n",
       "    <tr>\n",
       "      <th>3</th>\n",
       "      <td>2014-05-02 00:00:00</td>\n",
       "      <td>420000.00</td>\n",
       "      <td>3.00</td>\n",
       "      <td>2.25</td>\n",
       "      <td>2000</td>\n",
       "      <td>8030</td>\n",
       "      <td>1.00</td>\n",
       "      <td>0</td>\n",
       "      <td>0</td>\n",
       "      <td>4</td>\n",
       "      <td>1000</td>\n",
       "      <td>1000</td>\n",
       "      <td>1963</td>\n",
       "      <td>0</td>\n",
       "      <td>857 170th Pl NE</td>\n",
       "      <td>Bellevue</td>\n",
       "      <td>WA 98008</td>\n",
       "      <td>USA</td>\n",
       "    </tr>\n",
       "    <tr>\n",
       "      <th>4</th>\n",
       "      <td>2014-05-02 00:00:00</td>\n",
       "      <td>550000.00</td>\n",
       "      <td>4.00</td>\n",
       "      <td>2.50</td>\n",
       "      <td>1940</td>\n",
       "      <td>10500</td>\n",
       "      <td>1.00</td>\n",
       "      <td>0</td>\n",
       "      <td>0</td>\n",
       "      <td>4</td>\n",
       "      <td>1140</td>\n",
       "      <td>800</td>\n",
       "      <td>1976</td>\n",
       "      <td>1992</td>\n",
       "      <td>9105 170th Ave NE</td>\n",
       "      <td>Redmond</td>\n",
       "      <td>WA 98052</td>\n",
       "      <td>USA</td>\n",
       "    </tr>\n",
       "  </tbody>\n",
       "</table>\n",
       "</div>"
      ],
      "text/plain": [
       "                  date      price  bedrooms  bathrooms  sqft_living  sqft_lot  \\\n",
       "0  2014-05-02 00:00:00  313000.00      3.00       1.50         1340      7912   \n",
       "1  2014-05-02 00:00:00 2384000.00      5.00       2.50         3650      9050   \n",
       "2  2014-05-02 00:00:00  342000.00      3.00       2.00         1930     11947   \n",
       "3  2014-05-02 00:00:00  420000.00      3.00       2.25         2000      8030   \n",
       "4  2014-05-02 00:00:00  550000.00      4.00       2.50         1940     10500   \n",
       "\n",
       "   floors  waterfront  view  condition  sqft_above  sqft_basement  yr_built  \\\n",
       "0    1.50           0     0          3        1340              0      1955   \n",
       "1    2.00           0     4          5        3370            280      1921   \n",
       "2    1.00           0     0          4        1930              0      1966   \n",
       "3    1.00           0     0          4        1000           1000      1963   \n",
       "4    1.00           0     0          4        1140            800      1976   \n",
       "\n",
       "   yr_renovated                    street       city  statezip country  \n",
       "0          2005      18810 Densmore Ave N  Shoreline  WA 98133     USA  \n",
       "1             0           709 W Blaine St    Seattle  WA 98119     USA  \n",
       "2             0  26206-26214 143rd Ave SE       Kent  WA 98042     USA  \n",
       "3             0           857 170th Pl NE   Bellevue  WA 98008     USA  \n",
       "4          1992         9105 170th Ave NE    Redmond  WA 98052     USA  "
      ]
     },
     "execution_count": 5,
     "metadata": {},
     "output_type": "execute_result"
    }
   ],
   "source": [
    "df_housing.head()"
   ]
  },
  {
   "cell_type": "code",
   "execution_count": 6,
   "id": "203dbe3c",
   "metadata": {
    "scrolled": true
   },
   "outputs": [
    {
     "name": "stdout",
     "output_type": "stream",
     "text": [
      "<class 'pandas.core.frame.DataFrame'>\n",
      "RangeIndex: 4600 entries, 0 to 4599\n",
      "Data columns (total 18 columns):\n",
      " #   Column         Non-Null Count  Dtype  \n",
      "---  ------         --------------  -----  \n",
      " 0   date           4600 non-null   object \n",
      " 1   price          4600 non-null   float64\n",
      " 2   bedrooms       4600 non-null   float64\n",
      " 3   bathrooms      4600 non-null   float64\n",
      " 4   sqft_living    4600 non-null   int64  \n",
      " 5   sqft_lot       4600 non-null   int64  \n",
      " 6   floors         4600 non-null   float64\n",
      " 7   waterfront     4600 non-null   int64  \n",
      " 8   view           4600 non-null   int64  \n",
      " 9   condition      4600 non-null   int64  \n",
      " 10  sqft_above     4600 non-null   int64  \n",
      " 11  sqft_basement  4600 non-null   int64  \n",
      " 12  yr_built       4600 non-null   int64  \n",
      " 13  yr_renovated   4600 non-null   int64  \n",
      " 14  street         4600 non-null   object \n",
      " 15  city           4600 non-null   object \n",
      " 16  statezip       4600 non-null   object \n",
      " 17  country        4600 non-null   object \n",
      "dtypes: float64(4), int64(9), object(5)\n",
      "memory usage: 647.0+ KB\n"
     ]
    }
   ],
   "source": [
    "#checking the info of the data\n",
    "df_housing.info()"
   ]
  },
  {
   "cell_type": "code",
   "execution_count": 7,
   "id": "ec4d0a3d",
   "metadata": {
    "scrolled": true
   },
   "outputs": [
    {
     "data": {
      "text/html": [
       "<div>\n",
       "<style scoped>\n",
       "    .dataframe tbody tr th:only-of-type {\n",
       "        vertical-align: middle;\n",
       "    }\n",
       "\n",
       "    .dataframe tbody tr th {\n",
       "        vertical-align: top;\n",
       "    }\n",
       "\n",
       "    .dataframe thead th {\n",
       "        text-align: right;\n",
       "    }\n",
       "</style>\n",
       "<table border=\"1\" class=\"dataframe\">\n",
       "  <thead>\n",
       "    <tr style=\"text-align: right;\">\n",
       "      <th></th>\n",
       "      <th>price</th>\n",
       "      <th>bedrooms</th>\n",
       "      <th>bathrooms</th>\n",
       "      <th>sqft_living</th>\n",
       "      <th>sqft_lot</th>\n",
       "      <th>floors</th>\n",
       "      <th>waterfront</th>\n",
       "      <th>view</th>\n",
       "      <th>condition</th>\n",
       "      <th>sqft_above</th>\n",
       "      <th>sqft_basement</th>\n",
       "      <th>yr_built</th>\n",
       "      <th>yr_renovated</th>\n",
       "    </tr>\n",
       "  </thead>\n",
       "  <tbody>\n",
       "    <tr>\n",
       "      <th>count</th>\n",
       "      <td>4600.00</td>\n",
       "      <td>4600.00</td>\n",
       "      <td>4600.00</td>\n",
       "      <td>4600.00</td>\n",
       "      <td>4600.00</td>\n",
       "      <td>4600.00</td>\n",
       "      <td>4600.00</td>\n",
       "      <td>4600.00</td>\n",
       "      <td>4600.00</td>\n",
       "      <td>4600.00</td>\n",
       "      <td>4600.00</td>\n",
       "      <td>4600.00</td>\n",
       "      <td>4600.00</td>\n",
       "    </tr>\n",
       "    <tr>\n",
       "      <th>mean</th>\n",
       "      <td>551962.99</td>\n",
       "      <td>3.40</td>\n",
       "      <td>2.16</td>\n",
       "      <td>2139.35</td>\n",
       "      <td>14852.52</td>\n",
       "      <td>1.51</td>\n",
       "      <td>0.01</td>\n",
       "      <td>0.24</td>\n",
       "      <td>3.45</td>\n",
       "      <td>1827.27</td>\n",
       "      <td>312.08</td>\n",
       "      <td>1970.79</td>\n",
       "      <td>808.61</td>\n",
       "    </tr>\n",
       "    <tr>\n",
       "      <th>std</th>\n",
       "      <td>563834.70</td>\n",
       "      <td>0.91</td>\n",
       "      <td>0.78</td>\n",
       "      <td>963.21</td>\n",
       "      <td>35884.44</td>\n",
       "      <td>0.54</td>\n",
       "      <td>0.08</td>\n",
       "      <td>0.78</td>\n",
       "      <td>0.68</td>\n",
       "      <td>862.17</td>\n",
       "      <td>464.14</td>\n",
       "      <td>29.73</td>\n",
       "      <td>979.41</td>\n",
       "    </tr>\n",
       "    <tr>\n",
       "      <th>min</th>\n",
       "      <td>0.00</td>\n",
       "      <td>0.00</td>\n",
       "      <td>0.00</td>\n",
       "      <td>370.00</td>\n",
       "      <td>638.00</td>\n",
       "      <td>1.00</td>\n",
       "      <td>0.00</td>\n",
       "      <td>0.00</td>\n",
       "      <td>1.00</td>\n",
       "      <td>370.00</td>\n",
       "      <td>0.00</td>\n",
       "      <td>1900.00</td>\n",
       "      <td>0.00</td>\n",
       "    </tr>\n",
       "    <tr>\n",
       "      <th>25%</th>\n",
       "      <td>322875.00</td>\n",
       "      <td>3.00</td>\n",
       "      <td>1.75</td>\n",
       "      <td>1460.00</td>\n",
       "      <td>5000.75</td>\n",
       "      <td>1.00</td>\n",
       "      <td>0.00</td>\n",
       "      <td>0.00</td>\n",
       "      <td>3.00</td>\n",
       "      <td>1190.00</td>\n",
       "      <td>0.00</td>\n",
       "      <td>1951.00</td>\n",
       "      <td>0.00</td>\n",
       "    </tr>\n",
       "    <tr>\n",
       "      <th>50%</th>\n",
       "      <td>460943.46</td>\n",
       "      <td>3.00</td>\n",
       "      <td>2.25</td>\n",
       "      <td>1980.00</td>\n",
       "      <td>7683.00</td>\n",
       "      <td>1.50</td>\n",
       "      <td>0.00</td>\n",
       "      <td>0.00</td>\n",
       "      <td>3.00</td>\n",
       "      <td>1590.00</td>\n",
       "      <td>0.00</td>\n",
       "      <td>1976.00</td>\n",
       "      <td>0.00</td>\n",
       "    </tr>\n",
       "    <tr>\n",
       "      <th>75%</th>\n",
       "      <td>654962.50</td>\n",
       "      <td>4.00</td>\n",
       "      <td>2.50</td>\n",
       "      <td>2620.00</td>\n",
       "      <td>11001.25</td>\n",
       "      <td>2.00</td>\n",
       "      <td>0.00</td>\n",
       "      <td>0.00</td>\n",
       "      <td>4.00</td>\n",
       "      <td>2300.00</td>\n",
       "      <td>610.00</td>\n",
       "      <td>1997.00</td>\n",
       "      <td>1999.00</td>\n",
       "    </tr>\n",
       "    <tr>\n",
       "      <th>max</th>\n",
       "      <td>26590000.00</td>\n",
       "      <td>9.00</td>\n",
       "      <td>8.00</td>\n",
       "      <td>13540.00</td>\n",
       "      <td>1074218.00</td>\n",
       "      <td>3.50</td>\n",
       "      <td>1.00</td>\n",
       "      <td>4.00</td>\n",
       "      <td>5.00</td>\n",
       "      <td>9410.00</td>\n",
       "      <td>4820.00</td>\n",
       "      <td>2014.00</td>\n",
       "      <td>2014.00</td>\n",
       "    </tr>\n",
       "  </tbody>\n",
       "</table>\n",
       "</div>"
      ],
      "text/plain": [
       "            price  bedrooms  bathrooms  sqft_living   sqft_lot  floors  \\\n",
       "count     4600.00   4600.00    4600.00      4600.00    4600.00 4600.00   \n",
       "mean    551962.99      3.40       2.16      2139.35   14852.52    1.51   \n",
       "std     563834.70      0.91       0.78       963.21   35884.44    0.54   \n",
       "min          0.00      0.00       0.00       370.00     638.00    1.00   \n",
       "25%     322875.00      3.00       1.75      1460.00    5000.75    1.00   \n",
       "50%     460943.46      3.00       2.25      1980.00    7683.00    1.50   \n",
       "75%     654962.50      4.00       2.50      2620.00   11001.25    2.00   \n",
       "max   26590000.00      9.00       8.00     13540.00 1074218.00    3.50   \n",
       "\n",
       "       waterfront    view  condition  sqft_above  sqft_basement  yr_built  \\\n",
       "count     4600.00 4600.00    4600.00     4600.00        4600.00   4600.00   \n",
       "mean         0.01    0.24       3.45     1827.27         312.08   1970.79   \n",
       "std          0.08    0.78       0.68      862.17         464.14     29.73   \n",
       "min          0.00    0.00       1.00      370.00           0.00   1900.00   \n",
       "25%          0.00    0.00       3.00     1190.00           0.00   1951.00   \n",
       "50%          0.00    0.00       3.00     1590.00           0.00   1976.00   \n",
       "75%          0.00    0.00       4.00     2300.00         610.00   1997.00   \n",
       "max          1.00    4.00       5.00     9410.00        4820.00   2014.00   \n",
       "\n",
       "       yr_renovated  \n",
       "count       4600.00  \n",
       "mean         808.61  \n",
       "std          979.41  \n",
       "min            0.00  \n",
       "25%            0.00  \n",
       "50%            0.00  \n",
       "75%         1999.00  \n",
       "max         2014.00  "
      ]
     },
     "execution_count": 7,
     "metadata": {},
     "output_type": "execute_result"
    }
   ],
   "source": [
    "#describtion of the datset\n",
    "df_housing.describe()"
   ]
  },
  {
   "cell_type": "code",
   "execution_count": 8,
   "id": "7e7e1054",
   "metadata": {
    "scrolled": true
   },
   "outputs": [
    {
     "data": {
      "text/plain": [
       "date               70\n",
       "price            1741\n",
       "bedrooms           10\n",
       "bathrooms          26\n",
       "sqft_living       566\n",
       "sqft_lot         3113\n",
       "floors              6\n",
       "waterfront          2\n",
       "view                5\n",
       "condition           5\n",
       "sqft_above        511\n",
       "sqft_basement     207\n",
       "yr_built          115\n",
       "yr_renovated       60\n",
       "street           4525\n",
       "city               44\n",
       "statezip           77\n",
       "country             1\n",
       "dtype: int64"
      ]
     },
     "execution_count": 8,
     "metadata": {},
     "output_type": "execute_result"
    }
   ],
   "source": [
    "#the unique value count of each variable \n",
    "df_housing.nunique()"
   ]
  },
  {
   "cell_type": "code",
   "execution_count": 9,
   "id": "1ff15087",
   "metadata": {
    "scrolled": true
   },
   "outputs": [
    {
     "data": {
      "text/plain": [
       "date             0\n",
       "price            0\n",
       "bedrooms         0\n",
       "bathrooms        0\n",
       "sqft_living      0\n",
       "sqft_lot         0\n",
       "floors           0\n",
       "waterfront       0\n",
       "view             0\n",
       "condition        0\n",
       "sqft_above       0\n",
       "sqft_basement    0\n",
       "yr_built         0\n",
       "yr_renovated     0\n",
       "street           0\n",
       "city             0\n",
       "statezip         0\n",
       "country          0\n",
       "dtype: int64"
      ]
     },
     "execution_count": 9,
     "metadata": {},
     "output_type": "execute_result"
    }
   ],
   "source": [
    "#confirming if there are any null values\n",
    "df_housing.isnull().sum()"
   ]
  },
  {
   "cell_type": "code",
   "execution_count": 10,
   "id": "6ff04b47",
   "metadata": {},
   "outputs": [
    {
     "data": {
      "text/plain": [
       "(4600, 18)"
      ]
     },
     "execution_count": 10,
     "metadata": {},
     "output_type": "execute_result"
    }
   ],
   "source": [
    "#the shape of the dataset\n",
    "df_housing.shape"
   ]
  },
  {
   "cell_type": "markdown",
   "id": "4ac38854",
   "metadata": {},
   "source": [
    "### Data Wrangling\n",
    "This is to remove any inconsistencies, irregularities and to ensure that the data is of high relevance.\n",
    "\n",
    "1. Converting the date in the dataset into python datetime: This is to enable us do further analysis relating to a particular period within the data set.\n",
    "\n",
    "2. Categorising the price column to price ranges: This is to perform analysis based on price ranges\n",
    "\n",
    "3. Converting bedroom and bathroom values to intergers: The number of these parameters is needed in float for analysis \n"
   ]
  },
  {
   "cell_type": "code",
   "execution_count": 11,
   "id": "99c09301",
   "metadata": {
    "scrolled": true
   },
   "outputs": [
    {
     "data": {
      "text/plain": [
       "0      2014-05-02\n",
       "1      2014-05-02\n",
       "2      2014-05-02\n",
       "3      2014-05-02\n",
       "4      2014-05-02\n",
       "          ...    \n",
       "4595   2014-07-09\n",
       "4596   2014-07-09\n",
       "4597   2014-07-09\n",
       "4598   2014-07-10\n",
       "4599   2014-07-10\n",
       "Name: date_time, Length: 4600, dtype: datetime64[ns]"
      ]
     },
     "execution_count": 11,
     "metadata": {},
     "output_type": "execute_result"
    }
   ],
   "source": [
    "#converting to python datetime\n",
    "df_housing['date_time'] = pd.to_datetime(df_housing['date'])\n",
    "df_housing['date_time']"
   ]
  },
  {
   "cell_type": "code",
   "execution_count": 12,
   "id": "f83480e7",
   "metadata": {},
   "outputs": [
    {
     "data": {
      "text/html": [
       "<div>\n",
       "<style scoped>\n",
       "    .dataframe tbody tr th:only-of-type {\n",
       "        vertical-align: middle;\n",
       "    }\n",
       "\n",
       "    .dataframe tbody tr th {\n",
       "        vertical-align: top;\n",
       "    }\n",
       "\n",
       "    .dataframe thead th {\n",
       "        text-align: right;\n",
       "    }\n",
       "</style>\n",
       "<table border=\"1\" class=\"dataframe\">\n",
       "  <thead>\n",
       "    <tr style=\"text-align: right;\">\n",
       "      <th></th>\n",
       "      <th>date</th>\n",
       "      <th>price</th>\n",
       "      <th>bedrooms</th>\n",
       "      <th>bathrooms</th>\n",
       "      <th>sqft_living</th>\n",
       "      <th>sqft_lot</th>\n",
       "      <th>floors</th>\n",
       "      <th>waterfront</th>\n",
       "      <th>view</th>\n",
       "      <th>condition</th>\n",
       "      <th>...</th>\n",
       "      <th>sqft_basement</th>\n",
       "      <th>yr_built</th>\n",
       "      <th>yr_renovated</th>\n",
       "      <th>street</th>\n",
       "      <th>city</th>\n",
       "      <th>statezip</th>\n",
       "      <th>country</th>\n",
       "      <th>date_time</th>\n",
       "      <th>new_date</th>\n",
       "      <th>new_month</th>\n",
       "    </tr>\n",
       "  </thead>\n",
       "  <tbody>\n",
       "    <tr>\n",
       "      <th>0</th>\n",
       "      <td>2014-05-02 00:00:00</td>\n",
       "      <td>313000.00</td>\n",
       "      <td>3.00</td>\n",
       "      <td>1.50</td>\n",
       "      <td>1340</td>\n",
       "      <td>7912</td>\n",
       "      <td>1.50</td>\n",
       "      <td>0</td>\n",
       "      <td>0</td>\n",
       "      <td>3</td>\n",
       "      <td>...</td>\n",
       "      <td>0</td>\n",
       "      <td>1955</td>\n",
       "      <td>2005</td>\n",
       "      <td>18810 Densmore Ave N</td>\n",
       "      <td>Shoreline</td>\n",
       "      <td>WA 98133</td>\n",
       "      <td>USA</td>\n",
       "      <td>2014-05-02</td>\n",
       "      <td>2</td>\n",
       "      <td>5</td>\n",
       "    </tr>\n",
       "    <tr>\n",
       "      <th>1</th>\n",
       "      <td>2014-05-02 00:00:00</td>\n",
       "      <td>2384000.00</td>\n",
       "      <td>5.00</td>\n",
       "      <td>2.50</td>\n",
       "      <td>3650</td>\n",
       "      <td>9050</td>\n",
       "      <td>2.00</td>\n",
       "      <td>0</td>\n",
       "      <td>4</td>\n",
       "      <td>5</td>\n",
       "      <td>...</td>\n",
       "      <td>280</td>\n",
       "      <td>1921</td>\n",
       "      <td>0</td>\n",
       "      <td>709 W Blaine St</td>\n",
       "      <td>Seattle</td>\n",
       "      <td>WA 98119</td>\n",
       "      <td>USA</td>\n",
       "      <td>2014-05-02</td>\n",
       "      <td>2</td>\n",
       "      <td>5</td>\n",
       "    </tr>\n",
       "  </tbody>\n",
       "</table>\n",
       "<p>2 rows × 21 columns</p>\n",
       "</div>"
      ],
      "text/plain": [
       "                  date      price  bedrooms  bathrooms  sqft_living  sqft_lot  \\\n",
       "0  2014-05-02 00:00:00  313000.00      3.00       1.50         1340      7912   \n",
       "1  2014-05-02 00:00:00 2384000.00      5.00       2.50         3650      9050   \n",
       "\n",
       "   floors  waterfront  view  condition  ...  sqft_basement  yr_built  \\\n",
       "0    1.50           0     0          3  ...              0      1955   \n",
       "1    2.00           0     4          5  ...            280      1921   \n",
       "\n",
       "   yr_renovated                street       city  statezip country  \\\n",
       "0          2005  18810 Densmore Ave N  Shoreline  WA 98133     USA   \n",
       "1             0       709 W Blaine St    Seattle  WA 98119     USA   \n",
       "\n",
       "    date_time new_date  new_month  \n",
       "0  2014-05-02        2          5  \n",
       "1  2014-05-02        2          5  \n",
       "\n",
       "[2 rows x 21 columns]"
      ]
     },
     "execution_count": 12,
     "metadata": {},
     "output_type": "execute_result"
    }
   ],
   "source": [
    "#extraction analysis date \n",
    "df_housing['date_time'] = pd.to_datetime(df_housing.date_time).dt.strftime('%Y-%m-%d')\n",
    "df_housing['new_date'] = pd.to_datetime(df_housing.date_time).dt.day\n",
    "df_housing['new_month'] = pd.to_datetime(df_housing.date_time).dt.month\n",
    "df_housing.head(2)"
   ]
  },
  {
   "cell_type": "code",
   "execution_count": 13,
   "id": "19710072",
   "metadata": {},
   "outputs": [],
   "source": [
    "#converting the date to string type for further analysis\n",
    "df_housing['date'] = df_housing['date'].astype(str)"
   ]
  },
  {
   "cell_type": "code",
   "execution_count": 14,
   "id": "1744d6aa",
   "metadata": {
    "scrolled": true
   },
   "outputs": [
    {
     "data": {
      "text/html": [
       "<div>\n",
       "<style scoped>\n",
       "    .dataframe tbody tr th:only-of-type {\n",
       "        vertical-align: middle;\n",
       "    }\n",
       "\n",
       "    .dataframe tbody tr th {\n",
       "        vertical-align: top;\n",
       "    }\n",
       "\n",
       "    .dataframe thead th {\n",
       "        text-align: right;\n",
       "    }\n",
       "</style>\n",
       "<table border=\"1\" class=\"dataframe\">\n",
       "  <thead>\n",
       "    <tr style=\"text-align: right;\">\n",
       "      <th></th>\n",
       "      <th>date</th>\n",
       "      <th>price</th>\n",
       "      <th>bedrooms</th>\n",
       "      <th>bathrooms</th>\n",
       "      <th>sqft_living</th>\n",
       "      <th>sqft_lot</th>\n",
       "      <th>floors</th>\n",
       "      <th>waterfront</th>\n",
       "      <th>view</th>\n",
       "      <th>condition</th>\n",
       "      <th>...</th>\n",
       "      <th>yr_built</th>\n",
       "      <th>yr_renovated</th>\n",
       "      <th>street</th>\n",
       "      <th>city</th>\n",
       "      <th>statezip</th>\n",
       "      <th>country</th>\n",
       "      <th>date_time</th>\n",
       "      <th>new_date</th>\n",
       "      <th>new_month</th>\n",
       "      <th>price_range</th>\n",
       "    </tr>\n",
       "  </thead>\n",
       "  <tbody>\n",
       "    <tr>\n",
       "      <th>0</th>\n",
       "      <td>2014-05-02 00:00:00</td>\n",
       "      <td>313000.00</td>\n",
       "      <td>3.00</td>\n",
       "      <td>1.50</td>\n",
       "      <td>1340</td>\n",
       "      <td>7912</td>\n",
       "      <td>1.50</td>\n",
       "      <td>0</td>\n",
       "      <td>0</td>\n",
       "      <td>3</td>\n",
       "      <td>...</td>\n",
       "      <td>1955</td>\n",
       "      <td>2005</td>\n",
       "      <td>18810 Densmore Ave N</td>\n",
       "      <td>Shoreline</td>\n",
       "      <td>WA 98133</td>\n",
       "      <td>USA</td>\n",
       "      <td>2014-05-02</td>\n",
       "      <td>2</td>\n",
       "      <td>5</td>\n",
       "      <td>200000-400000</td>\n",
       "    </tr>\n",
       "    <tr>\n",
       "      <th>1</th>\n",
       "      <td>2014-05-02 00:00:00</td>\n",
       "      <td>2384000.00</td>\n",
       "      <td>5.00</td>\n",
       "      <td>2.50</td>\n",
       "      <td>3650</td>\n",
       "      <td>9050</td>\n",
       "      <td>2.00</td>\n",
       "      <td>0</td>\n",
       "      <td>4</td>\n",
       "      <td>5</td>\n",
       "      <td>...</td>\n",
       "      <td>1921</td>\n",
       "      <td>0</td>\n",
       "      <td>709 W Blaine St</td>\n",
       "      <td>Seattle</td>\n",
       "      <td>WA 98119</td>\n",
       "      <td>USA</td>\n",
       "      <td>2014-05-02</td>\n",
       "      <td>2</td>\n",
       "      <td>5</td>\n",
       "      <td>1000000+</td>\n",
       "    </tr>\n",
       "  </tbody>\n",
       "</table>\n",
       "<p>2 rows × 22 columns</p>\n",
       "</div>"
      ],
      "text/plain": [
       "                  date      price  bedrooms  bathrooms  sqft_living  sqft_lot  \\\n",
       "0  2014-05-02 00:00:00  313000.00      3.00       1.50         1340      7912   \n",
       "1  2014-05-02 00:00:00 2384000.00      5.00       2.50         3650      9050   \n",
       "\n",
       "   floors  waterfront  view  condition  ...  yr_built  yr_renovated  \\\n",
       "0    1.50           0     0          3  ...      1955          2005   \n",
       "1    2.00           0     4          5  ...      1921             0   \n",
       "\n",
       "                 street       city  statezip country   date_time new_date  \\\n",
       "0  18810 Densmore Ave N  Shoreline  WA 98133     USA  2014-05-02        2   \n",
       "1       709 W Blaine St    Seattle  WA 98119     USA  2014-05-02        2   \n",
       "\n",
       "  new_month    price_range  \n",
       "0         5  200000-400000  \n",
       "1         5       1000000+  \n",
       "\n",
       "[2 rows x 22 columns]"
      ]
     },
     "execution_count": 14,
     "metadata": {},
     "output_type": "execute_result"
    }
   ],
   "source": [
    "#categorising price to different price ranges\n",
    "import numpy as np\n",
    "bins = [-1, 200000, 400000, 600000, 800000, 1000000, np.inf]\n",
    "names = ['<200000','200000-400000','400000-600000','600000-800000','800000-1000000','1000000+']\n",
    "\n",
    "#grouping price into different price groups \n",
    "df_housing['price_range'] = pd.cut(df_housing['price'], bins, labels=names)\n",
    "df_housing.head(2)"
   ]
  },
  {
   "cell_type": "code",
   "execution_count": 15,
   "id": "445459e2",
   "metadata": {},
   "outputs": [
    {
     "data": {
      "text/plain": [
       "200000-400000     1567\n",
       "400000-600000     1417\n",
       "600000-800000      718\n",
       "1000000+           340\n",
       "800000-1000000     320\n",
       "<200000            238\n",
       "Name: price_range, dtype: int64"
      ]
     },
     "execution_count": 15,
     "metadata": {},
     "output_type": "execute_result"
    }
   ],
   "source": [
    "#to check the significant count of each price range\n",
    "df_housing['price_range'].value_counts()"
   ]
  },
  {
   "cell_type": "code",
   "execution_count": 16,
   "id": "56b9106f",
   "metadata": {},
   "outputs": [
    {
     "name": "stdout",
     "output_type": "stream",
     "text": [
      "0\n"
     ]
    }
   ],
   "source": [
    "#confirming if the price ranges has any null values\n",
    "print(df_housing['price_range'].isnull().sum())"
   ]
  },
  {
   "cell_type": "code",
   "execution_count": 17,
   "id": "ed3e813b",
   "metadata": {
    "scrolled": true
   },
   "outputs": [
    {
     "data": {
      "text/plain": [
       "['200000-400000', '1000000+', '400000-600000', '600000-800000', '800000-1000000', '<200000']\n",
       "Categories (6, object): ['<200000' < '200000-400000' < '400000-600000' < '600000-800000' < '800000-1000000' < '1000000+']"
      ]
     },
     "execution_count": 17,
     "metadata": {},
     "output_type": "execute_result"
    }
   ],
   "source": [
    "#showing the unioque price ranges \n",
    "df_housing['price_range'].unique()"
   ]
  },
  {
   "cell_type": "code",
   "execution_count": 18,
   "id": "1ce07605",
   "metadata": {},
   "outputs": [],
   "source": [
    "#converting the bedroom and bathroom values from float to interger as ths would be require for further analysis\n",
    "df_housing['bedrooms']= df_housing['bedrooms'].astype(int)\n",
    "df_housing['bathrooms'] = df_housing['bathrooms'].astype(int)"
   ]
  },
  {
   "cell_type": "markdown",
   "id": "89177ff4",
   "metadata": {},
   "source": [
    "## Explonatory Data Analysis"
   ]
  },
  {
   "cell_type": "markdown",
   "id": "9247fcdb",
   "metadata": {},
   "source": [
    "### <span style='color:blue'> Question 1. The distribution of house prices.</span>"
   ]
  },
  {
   "cell_type": "code",
   "execution_count": 19,
   "id": "98405090",
   "metadata": {},
   "outputs": [],
   "source": [
    "import matplotlib.pyplot as plt"
   ]
  },
  {
   "cell_type": "code",
   "execution_count": 20,
   "id": "a9cd6294",
   "metadata": {},
   "outputs": [
    {
     "data": {
      "image/png": "[encoded data removed]",
      "text/plain": [
       "<Figure size 576x432 with 1 Axes>"
      ]
     },
     "metadata": {
      "needs_background": "light"
     },
     "output_type": "display_data"
    }
   ],
   "source": [
    "# plt.hist(df_housing['price_range'], density=True, color='blue',  bins=5, grid=False, figsize=(10, 4),legend=True)\n",
    "# plt.show()\n",
    "fig=plt.figure(figsize=(8,6))\n",
    "his=fig.add_axes([0,0,1,1])\n",
    "plt.hist(df_housing['price_range'], density=True, color='blue',  bins=6)\n",
    "plt.title('distribution of house prices')\n",
    "plt.xlabel('price ranges')\n",
    "plt.show()"
   ]
  },
  {
   "cell_type": "markdown",
   "id": "ae898fef",
   "metadata": {},
   "source": [
    "##### From the chart above, house price from 800,000 and above has the least distribution count while house price between 200,000 and 400,000 has the highest distibution count. \n",
    "This distribution shows that higher percentage of people can buy affordable houses."
   ]
  },
  {
   "cell_type": "markdown",
   "id": "6f1be2f5",
   "metadata": {},
   "source": [
    "### <span style='color:blue'> Question 2. The distribution of average house prices across the top 10 cities</span>"
   ]
  },
  {
   "cell_type": "code",
   "execution_count": 41,
   "id": "e8be0927",
   "metadata": {
    "scrolled": true
   },
   "outputs": [
    {
     "data": {
      "text/plain": [
       "city\n",
       "Medina               2046559.09\n",
       "Clyde Hill           1321945.45\n",
       "Yarrow Point         1194837.50\n",
       "Mercer Island        1123817.62\n",
       "Bellevue              847180.66\n",
       "Beaux Arts Village    745000.00\n",
       "Fall City             692681.82\n",
       "Sammamish             686917.58\n",
       "Redmond               667649.53\n",
       "Newcastle             666046.70\n",
       "Name: price, dtype: float64"
      ]
     },
     "execution_count": 41,
     "metadata": {},
     "output_type": "execute_result"
    }
   ],
   "source": [
    "#to get the avg mean prices of countries in descending order \n",
    "df = df_housing.groupby('city')['price'].mean()\n",
    "df1= df.sort_values(ascending=False)\n",
    "df_avgprices_cities= df1.head(10)\n",
    "df_avgprices_cities"
   ]
  },
  {
   "cell_type": "code",
   "execution_count": 42,
   "id": "3b61bdc1",
   "metadata": {
    "scrolled": true
   },
   "outputs": [
    {
     "data": {
      "image/png": "[encoded data removed]",
      "text/plain": [
       "<Figure size 576x432 with 1 Axes>"
      ]
     },
     "metadata": {
      "needs_background": "light"
     },
     "output_type": "display_data"
    }
   ],
   "source": [
    "#plotting the distribution graph\n",
    "fig = plt.figure(figsize=(8,6))\n",
    "df_avgprices_cities_plot= df_avgprices_cities.plot(kind = 'bar', color='blue')\n",
    "df_avgprices_cities_plot.set_ylabel('avg price ')\n",
    "plt.title('The distribution of average house prices across the top 10 cities')\n",
    "plt.xlabel('top 10 cities')\n",
    "plt.show()"
   ]
  },
  {
   "cell_type": "markdown",
   "id": "6947f1e1",
   "metadata": {},
   "source": [
    "###### This chart shows that Medina City has the highest average houses prices while Newcastle has the least average house prices."
   ]
  },
  {
   "cell_type": "markdown",
   "id": "787c75db",
   "metadata": {},
   "source": [
    "### <span style='color:blue'> Question 3. The trend of house prices from the earliest date to the latest date in the dataset.</span>"
   ]
  },
  {
   "cell_type": "code",
   "execution_count": 43,
   "id": "c873262e",
   "metadata": {},
   "outputs": [
    {
     "data": {
      "image/png": "[encoded data removed]",
      "text/plain": [
       "<Figure size 1440x360 with 1 Axes>"
      ]
     },
     "metadata": {
      "needs_background": "light"
     },
     "output_type": "display_data"
    }
   ],
   "source": [
    "#using the line chart to get the trend analysis\n",
    "df_housing.plot(x='date_time', y= 'price',color='orange', figsize = (20,5))\n",
    "plt.legend(loc = 'upper left')\n",
    "plt.title('trend of house prices from the earliest date to the latest date in the dataset')\n",
    "plt.xlabel(\"date_time\")\n",
    "plt.ylabel(\"prices\")\n",
    "plt.show()"
   ]
  },
  {
   "cell_type": "markdown",
   "id": "4ef6a748",
   "metadata": {},
   "source": [
    "###### The chart above shows that houses prices increases greatly towards the end of 7th month in 2014 and then declines "
   ]
  },
  {
   "cell_type": "markdown",
   "id": "c6ed2ea7",
   "metadata": {},
   "source": [
    "### <span style='color:blue'> Question 4. The distribution of maximum bedroom size across the top 10 cities.</span>"
   ]
  },
  {
   "cell_type": "code",
   "execution_count": 44,
   "id": "49441515",
   "metadata": {},
   "outputs": [
    {
     "data": {
      "text/plain": [
       "city\n",
       "Seattle             9\n",
       "Shoreline           8\n",
       "Renton              7\n",
       "Auburn              7\n",
       "Lake Forest Park    7\n",
       "Issaquah            7\n",
       "Redmond             7\n",
       "Mercer Island       7\n",
       "Bellevue            7\n",
       "Snoqualmie          6\n",
       "Name: bedrooms, dtype: int64"
      ]
     },
     "execution_count": 44,
     "metadata": {},
     "output_type": "execute_result"
    }
   ],
   "source": [
    "#using the maximum function to get the maximum bedroom size in descending order by city\n",
    "df = df_housing.groupby('city')['bedrooms'].max()\n",
    "df1= df.sort_values(ascending=False)\n",
    "df_maxb_cities= df1.head(10)\n",
    "df_maxb_cities"
   ]
  },
  {
   "cell_type": "code",
   "execution_count": 45,
   "id": "e2d23b2e",
   "metadata": {
    "scrolled": true
   },
   "outputs": [
    {
     "data": {
      "image/png": "[encoded data removed]",
      "text/plain": [
       "<Figure size 864x432 with 1 Axes>"
      ]
     },
     "metadata": {
      "needs_background": "light"
     },
     "output_type": "display_data"
    }
   ],
   "source": [
    "#plotting the chart \n",
    "fig = plt.figure(figsize=(12,6))\n",
    "df_maxb_cities_plot= df_maxb_cities.plot(kind = 'bar',color=\"brown\", edgecolor=\"#409240\", linewidth=1)\n",
    "df_maxb_cities_plot.set_ylabel('avg price')\n",
    "plt.title('The distribution of average house prices across the top 10 cities')\n",
    "plt.xlabel('top 10 cities')\n",
    "plt.show()"
   ]
  },
  {
   "cell_type": "markdown",
   "id": "bcedfa30",
   "metadata": {},
   "source": [
    "###### Here, Seattle has the maximum number of bedroom sizes"
   ]
  },
  {
   "cell_type": "markdown",
   "id": "0b62b2e2",
   "metadata": {},
   "source": [
    "### <span style='color:blue'> Question 5. The distribution of oldest houses across top 10 cities.</span>"
   ]
  },
  {
   "cell_type": "code",
   "execution_count": 46,
   "id": "4c8cf949",
   "metadata": {},
   "outputs": [
    {
     "data": {
      "text/plain": [
       "city\n",
       "Seattle        1253\n",
       "Bellevue        252\n",
       "Renton          205\n",
       "Kent            157\n",
       "Redmond         152\n",
       "Kirkland        148\n",
       "Auburn          141\n",
       "Federal Way     138\n",
       "Sammamish       121\n",
       "Shoreline       115\n",
       "Name: yr_built, dtype: int64"
      ]
     },
     "execution_count": 46,
     "metadata": {},
     "output_type": "execute_result"
    }
   ],
   "source": [
    "#to categorise the oldest house based on my opinion, \n",
    "oldest_houses = df_housing.loc[df_housing['yr_built']< 2000]\n",
    "\n",
    "#group these oldest houses by their cities\n",
    "df = oldest_houses.groupby('city')['yr_built'].count()\n",
    "df1= df.sort_values(ascending=False)\n",
    "df2= df1.head(10)\n",
    "df2\n"
   ]
  },
  {
   "cell_type": "code",
   "execution_count": 47,
   "id": "4cc75f3b",
   "metadata": {
    "scrolled": true
   },
   "outputs": [
    {
     "data": {
      "text/plain": [
       "<function matplotlib.pyplot.show(close=None, block=None)>"
      ]
     },
     "execution_count": 47,
     "metadata": {},
     "output_type": "execute_result"
    },
    {
     "data": {
      "image/png": "[encoded data removed]",
      "text/plain": [
       "<Figure size 1440x360 with 1 Axes>"
      ]
     },
     "metadata": {
      "needs_background": "light"
     },
     "output_type": "display_data"
    }
   ],
   "source": [
    "#plotting the chart\n",
    "df2.plot(x='city', y= 'yr_built',color='green', figsize = (20,5), marker = '*', linestyle = '--', linewidth = 2)\n",
    "plt.legend(loc = 'upper right')\n",
    "plt.title('the distribution of oldest houses across top 10 cities')\n",
    "plt.xlabel(\"cities\")\n",
    "plt.ylabel(\"count of oldest houses in below year 2000\")\n",
    "plt.show"
   ]
  },
  {
   "cell_type": "markdown",
   "id": "7b67a2ae",
   "metadata": {},
   "source": [
    "###### Here, I picked houses built less than the year 2000 as the oldest houses in my opinion. Seattle has the highest count of the oldest houses below the year 2000"
   ]
  },
  {
   "cell_type": "markdown",
   "id": "2b014245",
   "metadata": {},
   "source": [
    "### <span style='color:blue'> Question 6. The distribution of the years the houses were last renovated.</span>"
   ]
  },
  {
   "cell_type": "code",
   "execution_count": 48,
   "id": "1096a110",
   "metadata": {},
   "outputs": [
    {
     "data": {
      "text/html": [
       "<div>\n",
       "<style scoped>\n",
       "    .dataframe tbody tr th:only-of-type {\n",
       "        vertical-align: middle;\n",
       "    }\n",
       "\n",
       "    .dataframe tbody tr th {\n",
       "        vertical-align: top;\n",
       "    }\n",
       "\n",
       "    .dataframe thead th {\n",
       "        text-align: right;\n",
       "    }\n",
       "</style>\n",
       "<table border=\"1\" class=\"dataframe\">\n",
       "  <thead>\n",
       "    <tr style=\"text-align: right;\">\n",
       "      <th></th>\n",
       "      <th>index</th>\n",
       "      <th>date</th>\n",
       "      <th>price</th>\n",
       "      <th>bedrooms</th>\n",
       "      <th>bathrooms</th>\n",
       "      <th>sqft_living</th>\n",
       "      <th>sqft_lot</th>\n",
       "      <th>floors</th>\n",
       "      <th>waterfront</th>\n",
       "      <th>view</th>\n",
       "      <th>...</th>\n",
       "      <th>yr_built</th>\n",
       "      <th>yr_renovated</th>\n",
       "      <th>street</th>\n",
       "      <th>city</th>\n",
       "      <th>statezip</th>\n",
       "      <th>country</th>\n",
       "      <th>date_time</th>\n",
       "      <th>new_date</th>\n",
       "      <th>new_month</th>\n",
       "      <th>price_range</th>\n",
       "    </tr>\n",
       "  </thead>\n",
       "  <tbody>\n",
       "    <tr>\n",
       "      <th>0</th>\n",
       "      <td>0</td>\n",
       "      <td>2014-05-02 00:00:00</td>\n",
       "      <td>313000.00</td>\n",
       "      <td>3</td>\n",
       "      <td>1</td>\n",
       "      <td>1340</td>\n",
       "      <td>7912</td>\n",
       "      <td>1.50</td>\n",
       "      <td>0</td>\n",
       "      <td>0</td>\n",
       "      <td>...</td>\n",
       "      <td>1955</td>\n",
       "      <td>2005</td>\n",
       "      <td>18810 Densmore Ave N</td>\n",
       "      <td>Shoreline</td>\n",
       "      <td>WA 98133</td>\n",
       "      <td>USA</td>\n",
       "      <td>2014-05-02</td>\n",
       "      <td>2</td>\n",
       "      <td>5</td>\n",
       "      <td>200000-400000</td>\n",
       "    </tr>\n",
       "    <tr>\n",
       "      <th>1</th>\n",
       "      <td>4</td>\n",
       "      <td>2014-05-02 00:00:00</td>\n",
       "      <td>550000.00</td>\n",
       "      <td>4</td>\n",
       "      <td>2</td>\n",
       "      <td>1940</td>\n",
       "      <td>10500</td>\n",
       "      <td>1.00</td>\n",
       "      <td>0</td>\n",
       "      <td>0</td>\n",
       "      <td>...</td>\n",
       "      <td>1976</td>\n",
       "      <td>1992</td>\n",
       "      <td>9105 170th Ave NE</td>\n",
       "      <td>Redmond</td>\n",
       "      <td>WA 98052</td>\n",
       "      <td>USA</td>\n",
       "      <td>2014-05-02</td>\n",
       "      <td>2</td>\n",
       "      <td>5</td>\n",
       "      <td>400000-600000</td>\n",
       "    </tr>\n",
       "    <tr>\n",
       "      <th>2</th>\n",
       "      <td>5</td>\n",
       "      <td>2014-05-02 00:00:00</td>\n",
       "      <td>490000.00</td>\n",
       "      <td>2</td>\n",
       "      <td>1</td>\n",
       "      <td>880</td>\n",
       "      <td>6380</td>\n",
       "      <td>1.00</td>\n",
       "      <td>0</td>\n",
       "      <td>0</td>\n",
       "      <td>...</td>\n",
       "      <td>1938</td>\n",
       "      <td>1994</td>\n",
       "      <td>522 NE 88th St</td>\n",
       "      <td>Seattle</td>\n",
       "      <td>WA 98115</td>\n",
       "      <td>USA</td>\n",
       "      <td>2014-05-02</td>\n",
       "      <td>2</td>\n",
       "      <td>5</td>\n",
       "      <td>400000-600000</td>\n",
       "    </tr>\n",
       "    <tr>\n",
       "      <th>3</th>\n",
       "      <td>9</td>\n",
       "      <td>2014-05-02 00:00:00</td>\n",
       "      <td>640000.00</td>\n",
       "      <td>4</td>\n",
       "      <td>2</td>\n",
       "      <td>1520</td>\n",
       "      <td>6200</td>\n",
       "      <td>1.50</td>\n",
       "      <td>0</td>\n",
       "      <td>0</td>\n",
       "      <td>...</td>\n",
       "      <td>1945</td>\n",
       "      <td>2010</td>\n",
       "      <td>6811 55th Ave NE</td>\n",
       "      <td>Seattle</td>\n",
       "      <td>WA 98115</td>\n",
       "      <td>USA</td>\n",
       "      <td>2014-05-02</td>\n",
       "      <td>2</td>\n",
       "      <td>5</td>\n",
       "      <td>600000-800000</td>\n",
       "    </tr>\n",
       "    <tr>\n",
       "      <th>4</th>\n",
       "      <td>10</td>\n",
       "      <td>2014-05-02 00:00:00</td>\n",
       "      <td>463000.00</td>\n",
       "      <td>3</td>\n",
       "      <td>1</td>\n",
       "      <td>1710</td>\n",
       "      <td>7320</td>\n",
       "      <td>1.00</td>\n",
       "      <td>0</td>\n",
       "      <td>0</td>\n",
       "      <td>...</td>\n",
       "      <td>1948</td>\n",
       "      <td>1994</td>\n",
       "      <td>Burke-Gilman Trail</td>\n",
       "      <td>Lake Forest Park</td>\n",
       "      <td>WA 98155</td>\n",
       "      <td>USA</td>\n",
       "      <td>2014-05-02</td>\n",
       "      <td>2</td>\n",
       "      <td>5</td>\n",
       "      <td>400000-600000</td>\n",
       "    </tr>\n",
       "  </tbody>\n",
       "</table>\n",
       "<p>5 rows × 23 columns</p>\n",
       "</div>"
      ],
      "text/plain": [
       "   index                 date     price  bedrooms  bathrooms  sqft_living  \\\n",
       "0      0  2014-05-02 00:00:00 313000.00         3          1         1340   \n",
       "1      4  2014-05-02 00:00:00 550000.00         4          2         1940   \n",
       "2      5  2014-05-02 00:00:00 490000.00         2          1          880   \n",
       "3      9  2014-05-02 00:00:00 640000.00         4          2         1520   \n",
       "4     10  2014-05-02 00:00:00 463000.00         3          1         1710   \n",
       "\n",
       "   sqft_lot  floors  waterfront  view  ...  yr_built  yr_renovated  \\\n",
       "0      7912    1.50           0     0  ...      1955          2005   \n",
       "1     10500    1.00           0     0  ...      1976          1992   \n",
       "2      6380    1.00           0     0  ...      1938          1994   \n",
       "3      6200    1.50           0     0  ...      1945          2010   \n",
       "4      7320    1.00           0     0  ...      1948          1994   \n",
       "\n",
       "                 street              city  statezip country   date_time  \\\n",
       "0  18810 Densmore Ave N         Shoreline  WA 98133     USA  2014-05-02   \n",
       "1     9105 170th Ave NE           Redmond  WA 98052     USA  2014-05-02   \n",
       "2        522 NE 88th St           Seattle  WA 98115     USA  2014-05-02   \n",
       "3      6811 55th Ave NE           Seattle  WA 98115     USA  2014-05-02   \n",
       "4    Burke-Gilman Trail  Lake Forest Park  WA 98155     USA  2014-05-02   \n",
       "\n",
       "  new_date new_month    price_range  \n",
       "0        2         5  200000-400000  \n",
       "1        2         5  400000-600000  \n",
       "2        2         5  400000-600000  \n",
       "3        2         5  600000-800000  \n",
       "4        2         5  400000-600000  \n",
       "\n",
       "[5 rows x 23 columns]"
      ]
     },
     "execution_count": 48,
     "metadata": {},
     "output_type": "execute_result"
    }
   ],
   "source": [
    "#houses with yr_renovated= 0 would be dropped, this assumes these houses were not renovated and hence not neeed in this dataset\n",
    "houses_renovated = df_housing.loc[df_housing['yr_renovated']!=0].reset_index()\n",
    "houses_renovated.head()\n"
   ]
  },
  {
   "cell_type": "code",
   "execution_count": 49,
   "id": "501e2c5a",
   "metadata": {},
   "outputs": [],
   "source": [
    "df3 = houses_renovated.groupby('yr_renovated')['country'].count()\n",
    "df_renovated_years =df3.sort_values(ascending=False)"
   ]
  },
  {
   "cell_type": "code",
   "execution_count": 50,
   "id": "68e4a9b7",
   "metadata": {
    "scrolled": true
   },
   "outputs": [
    {
     "data": {
      "image/png": "[encoded data removed]",
      "text/plain": [
       "<Figure size 1296x432 with 1 Axes>"
      ]
     },
     "metadata": {
      "needs_background": "light"
     },
     "output_type": "display_data"
    }
   ],
   "source": [
    "#plotting the chart\n",
    "fig = plt.figure(figsize=(18,6))\n",
    "df_maxb_cities_plot= df_renovated_years.plot(kind = 'bar',color='#ccc', edgecolor=\"#409240\", linewidth=1)\n",
    "df_maxb_cities_plot.set_ylabel('count of houses renovated')\n",
    "plt.title('distribution of the years the houses were last renovated')\n",
    "plt.xlabel('yr_renovated')\n",
    "plt.show()\n"
   ]
  },
  {
   "cell_type": "markdown",
   "id": "f84ba32d",
   "metadata": {},
   "source": [
    "###### The chart above shows that houses were renovated most in the year 2000"
   ]
  },
  {
   "cell_type": "markdown",
   "id": "9dc66851",
   "metadata": {},
   "source": [
    "### <span style='color:blue'> Question 7. The distribution of average basement square feets across top 10 cities.</span>"
   ]
  },
  {
   "cell_type": "code",
   "execution_count": 51,
   "id": "f05e889d",
   "metadata": {},
   "outputs": [
    {
     "data": {
      "text/html": [
       "<div>\n",
       "<style scoped>\n",
       "    .dataframe tbody tr th:only-of-type {\n",
       "        vertical-align: middle;\n",
       "    }\n",
       "\n",
       "    .dataframe tbody tr th {\n",
       "        vertical-align: top;\n",
       "    }\n",
       "\n",
       "    .dataframe thead th {\n",
       "        text-align: right;\n",
       "    }\n",
       "</style>\n",
       "<table border=\"1\" class=\"dataframe\">\n",
       "  <thead>\n",
       "    <tr style=\"text-align: right;\">\n",
       "      <th></th>\n",
       "      <th>date</th>\n",
       "      <th>price</th>\n",
       "      <th>bedrooms</th>\n",
       "      <th>bathrooms</th>\n",
       "      <th>sqft_living</th>\n",
       "      <th>sqft_lot</th>\n",
       "      <th>floors</th>\n",
       "      <th>waterfront</th>\n",
       "      <th>view</th>\n",
       "      <th>condition</th>\n",
       "      <th>...</th>\n",
       "      <th>yr_built</th>\n",
       "      <th>yr_renovated</th>\n",
       "      <th>street</th>\n",
       "      <th>city</th>\n",
       "      <th>statezip</th>\n",
       "      <th>country</th>\n",
       "      <th>date_time</th>\n",
       "      <th>new_date</th>\n",
       "      <th>new_month</th>\n",
       "      <th>price_range</th>\n",
       "    </tr>\n",
       "  </thead>\n",
       "  <tbody>\n",
       "    <tr>\n",
       "      <th>1</th>\n",
       "      <td>2014-05-02 00:00:00</td>\n",
       "      <td>2384000.00</td>\n",
       "      <td>5</td>\n",
       "      <td>2</td>\n",
       "      <td>3650</td>\n",
       "      <td>9050</td>\n",
       "      <td>2.00</td>\n",
       "      <td>0</td>\n",
       "      <td>4</td>\n",
       "      <td>5</td>\n",
       "      <td>...</td>\n",
       "      <td>1921</td>\n",
       "      <td>0</td>\n",
       "      <td>709 W Blaine St</td>\n",
       "      <td>Seattle</td>\n",
       "      <td>WA 98119</td>\n",
       "      <td>USA</td>\n",
       "      <td>2014-05-02</td>\n",
       "      <td>2</td>\n",
       "      <td>5</td>\n",
       "      <td>1000000+</td>\n",
       "    </tr>\n",
       "    <tr>\n",
       "      <th>3</th>\n",
       "      <td>2014-05-02 00:00:00</td>\n",
       "      <td>420000.00</td>\n",
       "      <td>3</td>\n",
       "      <td>2</td>\n",
       "      <td>2000</td>\n",
       "      <td>8030</td>\n",
       "      <td>1.00</td>\n",
       "      <td>0</td>\n",
       "      <td>0</td>\n",
       "      <td>4</td>\n",
       "      <td>...</td>\n",
       "      <td>1963</td>\n",
       "      <td>0</td>\n",
       "      <td>857 170th Pl NE</td>\n",
       "      <td>Bellevue</td>\n",
       "      <td>WA 98008</td>\n",
       "      <td>USA</td>\n",
       "      <td>2014-05-02</td>\n",
       "      <td>2</td>\n",
       "      <td>5</td>\n",
       "      <td>400000-600000</td>\n",
       "    </tr>\n",
       "    <tr>\n",
       "      <th>4</th>\n",
       "      <td>2014-05-02 00:00:00</td>\n",
       "      <td>550000.00</td>\n",
       "      <td>4</td>\n",
       "      <td>2</td>\n",
       "      <td>1940</td>\n",
       "      <td>10500</td>\n",
       "      <td>1.00</td>\n",
       "      <td>0</td>\n",
       "      <td>0</td>\n",
       "      <td>4</td>\n",
       "      <td>...</td>\n",
       "      <td>1976</td>\n",
       "      <td>1992</td>\n",
       "      <td>9105 170th Ave NE</td>\n",
       "      <td>Redmond</td>\n",
       "      <td>WA 98052</td>\n",
       "      <td>USA</td>\n",
       "      <td>2014-05-02</td>\n",
       "      <td>2</td>\n",
       "      <td>5</td>\n",
       "      <td>400000-600000</td>\n",
       "    </tr>\n",
       "    <tr>\n",
       "      <th>8</th>\n",
       "      <td>2014-05-02 00:00:00</td>\n",
       "      <td>452500.00</td>\n",
       "      <td>3</td>\n",
       "      <td>2</td>\n",
       "      <td>2430</td>\n",
       "      <td>88426</td>\n",
       "      <td>1.00</td>\n",
       "      <td>0</td>\n",
       "      <td>0</td>\n",
       "      <td>4</td>\n",
       "      <td>...</td>\n",
       "      <td>1985</td>\n",
       "      <td>0</td>\n",
       "      <td>46611-46625 SE 129th St</td>\n",
       "      <td>North Bend</td>\n",
       "      <td>WA 98045</td>\n",
       "      <td>USA</td>\n",
       "      <td>2014-05-02</td>\n",
       "      <td>2</td>\n",
       "      <td>5</td>\n",
       "      <td>400000-600000</td>\n",
       "    </tr>\n",
       "    <tr>\n",
       "      <th>11</th>\n",
       "      <td>2014-05-02 00:00:00</td>\n",
       "      <td>1400000.00</td>\n",
       "      <td>4</td>\n",
       "      <td>2</td>\n",
       "      <td>2920</td>\n",
       "      <td>4000</td>\n",
       "      <td>1.50</td>\n",
       "      <td>0</td>\n",
       "      <td>0</td>\n",
       "      <td>5</td>\n",
       "      <td>...</td>\n",
       "      <td>1909</td>\n",
       "      <td>1988</td>\n",
       "      <td>3838-4098 44th Ave NE</td>\n",
       "      <td>Seattle</td>\n",
       "      <td>WA 98105</td>\n",
       "      <td>USA</td>\n",
       "      <td>2014-05-02</td>\n",
       "      <td>2</td>\n",
       "      <td>5</td>\n",
       "      <td>1000000+</td>\n",
       "    </tr>\n",
       "  </tbody>\n",
       "</table>\n",
       "<p>5 rows × 22 columns</p>\n",
       "</div>"
      ],
      "text/plain": [
       "                   date      price  bedrooms  bathrooms  sqft_living  \\\n",
       "1   2014-05-02 00:00:00 2384000.00         5          2         3650   \n",
       "3   2014-05-02 00:00:00  420000.00         3          2         2000   \n",
       "4   2014-05-02 00:00:00  550000.00         4          2         1940   \n",
       "8   2014-05-02 00:00:00  452500.00         3          2         2430   \n",
       "11  2014-05-02 00:00:00 1400000.00         4          2         2920   \n",
       "\n",
       "    sqft_lot  floors  waterfront  view  condition  ...  yr_built  \\\n",
       "1       9050    2.00           0     4          5  ...      1921   \n",
       "3       8030    1.00           0     0          4  ...      1963   \n",
       "4      10500    1.00           0     0          4  ...      1976   \n",
       "8      88426    1.00           0     0          4  ...      1985   \n",
       "11      4000    1.50           0     0          5  ...      1909   \n",
       "\n",
       "    yr_renovated                   street        city  statezip country  \\\n",
       "1              0          709 W Blaine St     Seattle  WA 98119     USA   \n",
       "3              0          857 170th Pl NE    Bellevue  WA 98008     USA   \n",
       "4           1992        9105 170th Ave NE     Redmond  WA 98052     USA   \n",
       "8              0  46611-46625 SE 129th St  North Bend  WA 98045     USA   \n",
       "11          1988    3838-4098 44th Ave NE     Seattle  WA 98105     USA   \n",
       "\n",
       "     date_time new_date new_month    price_range  \n",
       "1   2014-05-02        2         5       1000000+  \n",
       "3   2014-05-02        2         5  400000-600000  \n",
       "4   2014-05-02        2         5  400000-600000  \n",
       "8   2014-05-02        2         5  400000-600000  \n",
       "11  2014-05-02        2         5       1000000+  \n",
       "\n",
       "[5 rows x 22 columns]"
      ]
     },
     "execution_count": 51,
     "metadata": {},
     "output_type": "execute_result"
    }
   ],
   "source": [
    "#basement square feet= 0 would be dropped, this is because its not possible for a house not to have sqft_basement measurement\n",
    "houses_square_feet = df_housing.loc[df_housing['sqft_basement']!=0]\n",
    "houses_square_feet.head()\n"
   ]
  },
  {
   "cell_type": "code",
   "execution_count": 52,
   "id": "90dacf19",
   "metadata": {},
   "outputs": [
    {
     "data": {
      "text/plain": [
       "city\n",
       "Clyde Hill      1510.00\n",
       "Medina          1504.00\n",
       "Mercer Island   1219.26\n",
       "Bellevue        1031.06\n",
       "Carnation       1030.00\n",
       "Kenmore          955.45\n",
       "Woodinville      926.44\n",
       "Snoqualmie       857.78\n",
       "Normandy Park    845.00\n",
       "Issaquah         838.13\n",
       "Name: sqft_basement, dtype: float64"
      ]
     },
     "execution_count": 52,
     "metadata": {},
     "output_type": "execute_result"
    }
   ],
   "source": [
    "#to get mean \n",
    "df3 = houses_square_feet.groupby('city')['sqft_basement'].mean()\n",
    "df4= df3.sort_values(ascending=False)\n",
    "df_h_sf= df4.head(10)\n",
    "df_h_sf"
   ]
  },
  {
   "cell_type": "code",
   "execution_count": 53,
   "id": "6a33b43a",
   "metadata": {},
   "outputs": [
    {
     "data": {
      "image/png": "[encoded data removed]",
      "text/plain": [
       "<Figure size 864x432 with 1 Axes>"
      ]
     },
     "metadata": {
      "needs_background": "light"
     },
     "output_type": "display_data"
    }
   ],
   "source": [
    "#plotting the chart\n",
    "fig = plt.figure(figsize=(12,6))\n",
    "df_h_sf_plot= df_h_sf.plot(kind = 'bar',color=\"blue\", edgecolor=\"#409240\", linewidth=1)\n",
    "df_h_sf_plot.set_ylabel('average basement square feets ')\n",
    "plt.title('distribution of average basement square feets across top 10 cities.')\n",
    "plt.xlabel('top 10 cities')\n",
    "plt.show()"
   ]
  },
  {
   "cell_type": "markdown",
   "id": "85fc8ad1",
   "metadata": {},
   "source": [
    "###### From the Clyde Hill city has the highest average basement square "
   ]
  },
  {
   "cell_type": "markdown",
   "id": "ce1c02e0",
   "metadata": {},
   "source": [
    "### <span style='color:blue'> Question 8. The relationship between prices and number of bedrooms.</span>"
   ]
  },
  {
   "cell_type": "code",
   "execution_count": 54,
   "id": "7fb6b5f3",
   "metadata": {},
   "outputs": [
    {
     "data": {
      "text/html": [
       "<div>\n",
       "<style scoped>\n",
       "    .dataframe tbody tr th:only-of-type {\n",
       "        vertical-align: middle;\n",
       "    }\n",
       "\n",
       "    .dataframe tbody tr th {\n",
       "        vertical-align: top;\n",
       "    }\n",
       "\n",
       "    .dataframe thead th {\n",
       "        text-align: right;\n",
       "    }\n",
       "</style>\n",
       "<table border=\"1\" class=\"dataframe\">\n",
       "  <thead>\n",
       "    <tr style=\"text-align: right;\">\n",
       "      <th></th>\n",
       "      <th>date</th>\n",
       "      <th>price</th>\n",
       "      <th>bedrooms</th>\n",
       "      <th>bathrooms</th>\n",
       "      <th>sqft_living</th>\n",
       "      <th>sqft_lot</th>\n",
       "      <th>floors</th>\n",
       "      <th>waterfront</th>\n",
       "      <th>view</th>\n",
       "      <th>condition</th>\n",
       "      <th>...</th>\n",
       "      <th>yr_built</th>\n",
       "      <th>yr_renovated</th>\n",
       "      <th>street</th>\n",
       "      <th>city</th>\n",
       "      <th>statezip</th>\n",
       "      <th>country</th>\n",
       "      <th>date_time</th>\n",
       "      <th>new_date</th>\n",
       "      <th>new_month</th>\n",
       "      <th>price_range</th>\n",
       "    </tr>\n",
       "  </thead>\n",
       "  <tbody>\n",
       "    <tr>\n",
       "      <th>0</th>\n",
       "      <td>2014-05-02 00:00:00</td>\n",
       "      <td>313000.00</td>\n",
       "      <td>3</td>\n",
       "      <td>1</td>\n",
       "      <td>1340</td>\n",
       "      <td>7912</td>\n",
       "      <td>1.50</td>\n",
       "      <td>0</td>\n",
       "      <td>0</td>\n",
       "      <td>3</td>\n",
       "      <td>...</td>\n",
       "      <td>1955</td>\n",
       "      <td>2005</td>\n",
       "      <td>18810 Densmore Ave N</td>\n",
       "      <td>Shoreline</td>\n",
       "      <td>WA 98133</td>\n",
       "      <td>USA</td>\n",
       "      <td>2014-05-02</td>\n",
       "      <td>2</td>\n",
       "      <td>5</td>\n",
       "      <td>200000-400000</td>\n",
       "    </tr>\n",
       "    <tr>\n",
       "      <th>1</th>\n",
       "      <td>2014-05-02 00:00:00</td>\n",
       "      <td>2384000.00</td>\n",
       "      <td>5</td>\n",
       "      <td>2</td>\n",
       "      <td>3650</td>\n",
       "      <td>9050</td>\n",
       "      <td>2.00</td>\n",
       "      <td>0</td>\n",
       "      <td>4</td>\n",
       "      <td>5</td>\n",
       "      <td>...</td>\n",
       "      <td>1921</td>\n",
       "      <td>0</td>\n",
       "      <td>709 W Blaine St</td>\n",
       "      <td>Seattle</td>\n",
       "      <td>WA 98119</td>\n",
       "      <td>USA</td>\n",
       "      <td>2014-05-02</td>\n",
       "      <td>2</td>\n",
       "      <td>5</td>\n",
       "      <td>1000000+</td>\n",
       "    </tr>\n",
       "    <tr>\n",
       "      <th>2</th>\n",
       "      <td>2014-05-02 00:00:00</td>\n",
       "      <td>342000.00</td>\n",
       "      <td>3</td>\n",
       "      <td>2</td>\n",
       "      <td>1930</td>\n",
       "      <td>11947</td>\n",
       "      <td>1.00</td>\n",
       "      <td>0</td>\n",
       "      <td>0</td>\n",
       "      <td>4</td>\n",
       "      <td>...</td>\n",
       "      <td>1966</td>\n",
       "      <td>0</td>\n",
       "      <td>26206-26214 143rd Ave SE</td>\n",
       "      <td>Kent</td>\n",
       "      <td>WA 98042</td>\n",
       "      <td>USA</td>\n",
       "      <td>2014-05-02</td>\n",
       "      <td>2</td>\n",
       "      <td>5</td>\n",
       "      <td>200000-400000</td>\n",
       "    </tr>\n",
       "    <tr>\n",
       "      <th>3</th>\n",
       "      <td>2014-05-02 00:00:00</td>\n",
       "      <td>420000.00</td>\n",
       "      <td>3</td>\n",
       "      <td>2</td>\n",
       "      <td>2000</td>\n",
       "      <td>8030</td>\n",
       "      <td>1.00</td>\n",
       "      <td>0</td>\n",
       "      <td>0</td>\n",
       "      <td>4</td>\n",
       "      <td>...</td>\n",
       "      <td>1963</td>\n",
       "      <td>0</td>\n",
       "      <td>857 170th Pl NE</td>\n",
       "      <td>Bellevue</td>\n",
       "      <td>WA 98008</td>\n",
       "      <td>USA</td>\n",
       "      <td>2014-05-02</td>\n",
       "      <td>2</td>\n",
       "      <td>5</td>\n",
       "      <td>400000-600000</td>\n",
       "    </tr>\n",
       "    <tr>\n",
       "      <th>4</th>\n",
       "      <td>2014-05-02 00:00:00</td>\n",
       "      <td>550000.00</td>\n",
       "      <td>4</td>\n",
       "      <td>2</td>\n",
       "      <td>1940</td>\n",
       "      <td>10500</td>\n",
       "      <td>1.00</td>\n",
       "      <td>0</td>\n",
       "      <td>0</td>\n",
       "      <td>4</td>\n",
       "      <td>...</td>\n",
       "      <td>1976</td>\n",
       "      <td>1992</td>\n",
       "      <td>9105 170th Ave NE</td>\n",
       "      <td>Redmond</td>\n",
       "      <td>WA 98052</td>\n",
       "      <td>USA</td>\n",
       "      <td>2014-05-02</td>\n",
       "      <td>2</td>\n",
       "      <td>5</td>\n",
       "      <td>400000-600000</td>\n",
       "    </tr>\n",
       "  </tbody>\n",
       "</table>\n",
       "<p>5 rows × 22 columns</p>\n",
       "</div>"
      ],
      "text/plain": [
       "                  date      price  bedrooms  bathrooms  sqft_living  sqft_lot  \\\n",
       "0  2014-05-02 00:00:00  313000.00         3          1         1340      7912   \n",
       "1  2014-05-02 00:00:00 2384000.00         5          2         3650      9050   \n",
       "2  2014-05-02 00:00:00  342000.00         3          2         1930     11947   \n",
       "3  2014-05-02 00:00:00  420000.00         3          2         2000      8030   \n",
       "4  2014-05-02 00:00:00  550000.00         4          2         1940     10500   \n",
       "\n",
       "   floors  waterfront  view  condition  ...  yr_built  yr_renovated  \\\n",
       "0    1.50           0     0          3  ...      1955          2005   \n",
       "1    2.00           0     4          5  ...      1921             0   \n",
       "2    1.00           0     0          4  ...      1966             0   \n",
       "3    1.00           0     0          4  ...      1963             0   \n",
       "4    1.00           0     0          4  ...      1976          1992   \n",
       "\n",
       "                     street       city  statezip country   date_time new_date  \\\n",
       "0      18810 Densmore Ave N  Shoreline  WA 98133     USA  2014-05-02        2   \n",
       "1           709 W Blaine St    Seattle  WA 98119     USA  2014-05-02        2   \n",
       "2  26206-26214 143rd Ave SE       Kent  WA 98042     USA  2014-05-02        2   \n",
       "3           857 170th Pl NE   Bellevue  WA 98008     USA  2014-05-02        2   \n",
       "4         9105 170th Ave NE    Redmond  WA 98052     USA  2014-05-02        2   \n",
       "\n",
       "  new_month    price_range  \n",
       "0         5  200000-400000  \n",
       "1         5       1000000+  \n",
       "2         5  200000-400000  \n",
       "3         5  400000-600000  \n",
       "4         5  400000-600000  \n",
       "\n",
       "[5 rows x 22 columns]"
      ]
     },
     "execution_count": 54,
     "metadata": {},
     "output_type": "execute_result"
    }
   ],
   "source": [
    "#bedroom= 0 would be dropped, this is an outlier\n",
    "bedrooms_ = df_housing.loc[df_housing['bedrooms']!=0]\n",
    "bedrooms_.head()"
   ]
  },
  {
   "cell_type": "code",
   "execution_count": 55,
   "id": "262a2a1d",
   "metadata": {},
   "outputs": [
    {
     "data": {
      "text/plain": [
       "bedrooms\n",
       "8   1155000.00\n",
       "7   1049428.57\n",
       "6    817362.84\n",
       "5    770185.99\n",
       "4    635119.36\n",
       "9    599999.00\n",
       "3    488613.02\n",
       "2    391621.92\n",
       "1    274076.32\n",
       "Name: price, dtype: float64"
      ]
     },
     "execution_count": 55,
     "metadata": {},
     "output_type": "execute_result"
    }
   ],
   "source": [
    "# to get the average price\n",
    "df5 = bedrooms_.groupby('bedrooms')['price'].mean()\n",
    "df6= df5.sort_values(ascending=False)\n",
    "df6"
   ]
  },
  {
   "cell_type": "code",
   "execution_count": 56,
   "id": "fa57a733",
   "metadata": {
    "scrolled": true
   },
   "outputs": [
    {
     "data": {
      "image/png": "[encoded data removed]",
      "text/plain": [
       "<Figure size 1296x432 with 1 Axes>"
      ]
     },
     "metadata": {
      "needs_background": "light"
     },
     "output_type": "display_data"
    }
   ],
   "source": [
    "#plotting the chart\n",
    "fig = plt.figure(figsize=(18,6))\n",
    "df_b_= df6.plot(kind = 'bar',color=\"orange\", edgecolor=\"#409240\", linewidth=1)\n",
    "df_h_sf_plot.set_ylabel('average prices')\n",
    "plt.title('relationship between prices and number of bedrooms')\n",
    "plt.xlabel('number of bedrooms')\n",
    "plt.show()"
   ]
  },
  {
   "cell_type": "markdown",
   "id": "c864bfec",
   "metadata": {},
   "source": [
    "###### The chart above shows that 8 bedrooms has the highest average price"
   ]
  },
  {
   "cell_type": "markdown",
   "id": "a2a46d47",
   "metadata": {},
   "source": [
    "### <span style='color:blue'> Question 9. The relationship between number of bedrooms and year the house was built.</span>"
   ]
  },
  {
   "cell_type": "code",
   "execution_count": 57,
   "id": "b74f342a",
   "metadata": {
    "scrolled": true
   },
   "outputs": [
    {
     "data": {
      "text/html": [
       "<div>\n",
       "<style scoped>\n",
       "    .dataframe tbody tr th:only-of-type {\n",
       "        vertical-align: middle;\n",
       "    }\n",
       "\n",
       "    .dataframe tbody tr th {\n",
       "        vertical-align: top;\n",
       "    }\n",
       "\n",
       "    .dataframe thead th {\n",
       "        text-align: right;\n",
       "    }\n",
       "</style>\n",
       "<table border=\"1\" class=\"dataframe\">\n",
       "  <thead>\n",
       "    <tr style=\"text-align: right;\">\n",
       "      <th>bedrooms</th>\n",
       "      <th>1</th>\n",
       "      <th>2</th>\n",
       "      <th>3</th>\n",
       "      <th>4</th>\n",
       "      <th>5</th>\n",
       "      <th>6</th>\n",
       "      <th>7</th>\n",
       "      <th>8</th>\n",
       "      <th>9</th>\n",
       "    </tr>\n",
       "    <tr>\n",
       "      <th>yr_built</th>\n",
       "      <th></th>\n",
       "      <th></th>\n",
       "      <th></th>\n",
       "      <th></th>\n",
       "      <th></th>\n",
       "      <th></th>\n",
       "      <th></th>\n",
       "      <th></th>\n",
       "      <th></th>\n",
       "    </tr>\n",
       "  </thead>\n",
       "  <tbody>\n",
       "    <tr>\n",
       "      <th>1900</th>\n",
       "      <td>NaN</td>\n",
       "      <td>4.00</td>\n",
       "      <td>10.00</td>\n",
       "      <td>5.00</td>\n",
       "      <td>1.00</td>\n",
       "      <td>2.00</td>\n",
       "      <td>NaN</td>\n",
       "      <td>NaN</td>\n",
       "      <td>NaN</td>\n",
       "    </tr>\n",
       "    <tr>\n",
       "      <th>1901</th>\n",
       "      <td>NaN</td>\n",
       "      <td>2.00</td>\n",
       "      <td>4.00</td>\n",
       "      <td>2.00</td>\n",
       "      <td>NaN</td>\n",
       "      <td>NaN</td>\n",
       "      <td>1.00</td>\n",
       "      <td>NaN</td>\n",
       "      <td>NaN</td>\n",
       "    </tr>\n",
       "    <tr>\n",
       "      <th>1902</th>\n",
       "      <td>NaN</td>\n",
       "      <td>3.00</td>\n",
       "      <td>NaN</td>\n",
       "      <td>3.00</td>\n",
       "      <td>3.00</td>\n",
       "      <td>1.00</td>\n",
       "      <td>NaN</td>\n",
       "      <td>NaN</td>\n",
       "      <td>NaN</td>\n",
       "    </tr>\n",
       "    <tr>\n",
       "      <th>1903</th>\n",
       "      <td>NaN</td>\n",
       "      <td>1.00</td>\n",
       "      <td>6.00</td>\n",
       "      <td>1.00</td>\n",
       "      <td>2.00</td>\n",
       "      <td>NaN</td>\n",
       "      <td>NaN</td>\n",
       "      <td>NaN</td>\n",
       "      <td>NaN</td>\n",
       "    </tr>\n",
       "    <tr>\n",
       "      <th>1904</th>\n",
       "      <td>NaN</td>\n",
       "      <td>3.00</td>\n",
       "      <td>3.00</td>\n",
       "      <td>3.00</td>\n",
       "      <td>NaN</td>\n",
       "      <td>NaN</td>\n",
       "      <td>NaN</td>\n",
       "      <td>NaN</td>\n",
       "      <td>NaN</td>\n",
       "    </tr>\n",
       "    <tr>\n",
       "      <th>...</th>\n",
       "      <td>...</td>\n",
       "      <td>...</td>\n",
       "      <td>...</td>\n",
       "      <td>...</td>\n",
       "      <td>...</td>\n",
       "      <td>...</td>\n",
       "      <td>...</td>\n",
       "      <td>...</td>\n",
       "      <td>...</td>\n",
       "    </tr>\n",
       "    <tr>\n",
       "      <th>2010</th>\n",
       "      <td>NaN</td>\n",
       "      <td>2.00</td>\n",
       "      <td>16.00</td>\n",
       "      <td>9.00</td>\n",
       "      <td>1.00</td>\n",
       "      <td>NaN</td>\n",
       "      <td>NaN</td>\n",
       "      <td>NaN</td>\n",
       "      <td>NaN</td>\n",
       "    </tr>\n",
       "    <tr>\n",
       "      <th>2011</th>\n",
       "      <td>NaN</td>\n",
       "      <td>5.00</td>\n",
       "      <td>17.00</td>\n",
       "      <td>2.00</td>\n",
       "      <td>NaN</td>\n",
       "      <td>NaN</td>\n",
       "      <td>NaN</td>\n",
       "      <td>NaN</td>\n",
       "      <td>NaN</td>\n",
       "    </tr>\n",
       "    <tr>\n",
       "      <th>2012</th>\n",
       "      <td>NaN</td>\n",
       "      <td>2.00</td>\n",
       "      <td>15.00</td>\n",
       "      <td>14.00</td>\n",
       "      <td>1.00</td>\n",
       "      <td>1.00</td>\n",
       "      <td>NaN</td>\n",
       "      <td>NaN</td>\n",
       "      <td>NaN</td>\n",
       "    </tr>\n",
       "    <tr>\n",
       "      <th>2013</th>\n",
       "      <td>NaN</td>\n",
       "      <td>1.00</td>\n",
       "      <td>13.00</td>\n",
       "      <td>30.00</td>\n",
       "      <td>12.00</td>\n",
       "      <td>1.00</td>\n",
       "      <td>NaN</td>\n",
       "      <td>NaN</td>\n",
       "      <td>NaN</td>\n",
       "    </tr>\n",
       "    <tr>\n",
       "      <th>2014</th>\n",
       "      <td>1.00</td>\n",
       "      <td>5.00</td>\n",
       "      <td>28.00</td>\n",
       "      <td>35.00</td>\n",
       "      <td>8.00</td>\n",
       "      <td>1.00</td>\n",
       "      <td>NaN</td>\n",
       "      <td>NaN</td>\n",
       "      <td>NaN</td>\n",
       "    </tr>\n",
       "  </tbody>\n",
       "</table>\n",
       "<p>115 rows × 9 columns</p>\n",
       "</div>"
      ],
      "text/plain": [
       "bedrooms    1    2     3     4     5    6    7   8   9\n",
       "yr_built                                              \n",
       "1900      NaN 4.00 10.00  5.00  1.00 2.00  NaN NaN NaN\n",
       "1901      NaN 2.00  4.00  2.00   NaN  NaN 1.00 NaN NaN\n",
       "1902      NaN 3.00   NaN  3.00  3.00 1.00  NaN NaN NaN\n",
       "1903      NaN 1.00  6.00  1.00  2.00  NaN  NaN NaN NaN\n",
       "1904      NaN 3.00  3.00  3.00   NaN  NaN  NaN NaN NaN\n",
       "...       ...  ...   ...   ...   ...  ...  ...  ..  ..\n",
       "2010      NaN 2.00 16.00  9.00  1.00  NaN  NaN NaN NaN\n",
       "2011      NaN 5.00 17.00  2.00   NaN  NaN  NaN NaN NaN\n",
       "2012      NaN 2.00 15.00 14.00  1.00 1.00  NaN NaN NaN\n",
       "2013      NaN 1.00 13.00 30.00 12.00 1.00  NaN NaN NaN\n",
       "2014     1.00 5.00 28.00 35.00  8.00 1.00  NaN NaN NaN\n",
       "\n",
       "[115 rows x 9 columns]"
      ]
     },
     "execution_count": 57,
     "metadata": {},
     "output_type": "execute_result"
    }
   ],
   "source": [
    "#using pivot to group based on the year and the no of rooms respectively.\n",
    "bedrooms_years= bedrooms_ [['yr_built','bedrooms']].groupby(['yr_built','bedrooms']).size().reset_index(name='counts')\n",
    "\n",
    "bedrooms_years_pivot = bedrooms_years.pivot(values=\"counts\",index=\"yr_built\",\n",
    "                        columns=\"bedrooms\",).sort_values('yr_built')\n",
    "bedrooms_years_pivot"
   ]
  },
  {
   "cell_type": "code",
   "execution_count": null,
   "id": "85407c7a",
   "metadata": {},
   "outputs": [
    {
     "data": {
      "text/plain": [
       "Text(0, 0.5, 'number of bedrooms')"
      ]
     },
     "execution_count": 58,
     "metadata": {},
     "output_type": "execute_result"
    }
   ],
   "source": [
    "#plotting the chart\n",
    "plot= bedrooms_years_pivot.plot.barh(stacked=True, figsize = (50,90))\n",
    "for container in plot.containers:\n",
    "    plot.bar_label(container,fontsize = 25)\n",
    "plt.title('relationship between number of bedrooms and year the house was built',fontsize = 40) \n",
    "plt.xlabel(\"year\",fontsize = 30)\n",
    "plt.ylabel(\"number of bedrooms\",fontsize = 40)"
   ]
  },
  {
   "cell_type": "markdown",
   "id": "8901e9e7",
   "metadata": {},
   "source": [
    "###### From the chart above, it can be seen that highest respective number of bedrooms was built in year 2006"
   ]
  },
  {
   "cell_type": "code",
   "execution_count": null,
   "id": "7e673226",
   "metadata": {},
   "outputs": [],
   "source": []
  }
 ],
 "metadata": {
  "kernelspec": {
   "display_name": "Python 3 (ipykernel)",
   "language": "python",
   "name": "python3"
  },
  "language_info": {
   "codemirror_mode": {
    "name": "ipython",
    "version": 3
   },
   "file_extension": ".py",
   "mimetype": "text/x-python",
   "name": "python",
   "nbconvert_exporter": "python",
   "pygments_lexer": "ipython3",
   "version": "3.9.12"
  }
 },
 "nbformat": 4,
 "nbformat_minor": 5
}
